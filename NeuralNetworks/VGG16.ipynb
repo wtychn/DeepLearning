{
 "cells": [
  {
   "cell_type": "code",
   "execution_count": 6,
   "metadata": {
    "collapsed": true
   },
   "outputs": [],
   "source": [
    "  # --------------------数据读取---------------------------------\n",
    "from __future__ import print_function, division\n",
    "\n",
    "import os\n",
    "\n",
    "import torch\n",
    "import torch.nn as nn\n",
    "import torch.optim as optim\n",
    "from torchvision import datasets, transforms\n",
    "from torch.autograd import Variable\n",
    "import numpy as np\n",
    "import matplotlib.pyplot as plt\n",
    "from tqdm.notebook import tqdm\n",
    "from torchsummary import summary\n",
    "\n",
    "from NeuralNetworks.VGG import VGG\n",
    "\n",
    "batch_size = 16\n",
    "learning_rate = 0.0002\n",
    "lastEpoch = 149\n",
    "Epoch = 150\n",
    "TRAIN = True\n",
    "dataPath = '../DBtest/img/'\n",
    "checkPointPath = '../DBtest/checkPoint/VGG_checkPoint/'\n",
    "\n",
    "train_transforms = transforms.Compose([\n",
    "    # transforms.RandomResizedCrop(224),\n",
    "    transforms.RandomHorizontalFlip(),\n",
    "    transforms.ToTensor(),\n",
    "    transforms.Normalize((.5, .5, .5), (.5, .5, .5))\n",
    "])\n",
    "test_transforms = transforms.Compose([\n",
    "    # transforms.Resize(256),\n",
    "    # transforms.RandomResizedCrop(224),\n",
    "    transforms.ToTensor(),\n",
    "    transforms.Normalize((.5, .5, .5), (.5, .5, .5))\n",
    "])\n",
    "val_transforms = transforms.Compose([\n",
    "    # transforms.Resize(256),\n",
    "    # transforms.RandomResizedCrop(224),\n",
    "    transforms.ToTensor(),\n",
    "    transforms.Normalize((.5, .5, .5), (.5, .5, .5))\n",
    "])\n",
    "\n",
    "train_dir = dataPath + 'train'\n",
    "train_datasets = datasets.ImageFolder(train_dir, transform=train_transforms)\n",
    "train_dataloader = torch.utils.data.DataLoader(train_datasets, batch_size=batch_size, shuffle=True)\n",
    "\n",
    "test_dir = dataPath + 'test'\n",
    "test_datasets = datasets.ImageFolder(test_dir, transform=test_transforms)\n",
    "test_dataloader = torch.utils.data.DataLoader(test_datasets, batch_size=batch_size, shuffle=True)\n",
    "\n",
    "val_dir = dataPath + 'val'\n",
    "val_datasets = datasets.ImageFolder(val_dir, transform=val_transforms)\n",
    "val_dataloader = torch.utils.data.DataLoader(val_datasets, batch_size=batch_size, shuffle=True)"
   ]
  },
  {
   "cell_type": "code",
   "execution_count": 7,
   "outputs": [
    {
     "name": "stdout",
     "output_type": "stream",
     "text": [
      "Using GPU\n",
      "----------------------------------------------------------------\n",
      "        Layer (type)               Output Shape         Param #\n",
      "================================================================\n",
      "            Conv2d-1         [-1, 64, 224, 224]           1,728\n",
      "       BatchNorm2d-2         [-1, 64, 224, 224]             128\n",
      "              ReLU-3         [-1, 64, 224, 224]               0\n",
      "            Conv2d-4         [-1, 64, 224, 224]          36,864\n",
      "       BatchNorm2d-5         [-1, 64, 224, 224]             128\n",
      "              ReLU-6         [-1, 64, 224, 224]               0\n",
      "            Conv2d-7        [-1, 128, 112, 112]          73,728\n",
      "       BatchNorm2d-8        [-1, 128, 112, 112]             256\n",
      "              ReLU-9        [-1, 128, 112, 112]               0\n",
      "           Conv2d-10        [-1, 128, 112, 112]         147,456\n",
      "      BatchNorm2d-11        [-1, 128, 112, 112]             256\n",
      "             ReLU-12        [-1, 128, 112, 112]               0\n",
      "           Conv2d-13          [-1, 256, 56, 56]         294,912\n",
      "      BatchNorm2d-14          [-1, 256, 56, 56]             512\n",
      "             ReLU-15          [-1, 256, 56, 56]               0\n",
      "           Conv2d-16          [-1, 256, 56, 56]         589,824\n",
      "      BatchNorm2d-17          [-1, 256, 56, 56]             512\n",
      "             ReLU-18          [-1, 256, 56, 56]               0\n",
      "           Conv2d-19          [-1, 256, 56, 56]         589,824\n",
      "      BatchNorm2d-20          [-1, 256, 56, 56]             512\n",
      "             ReLU-21          [-1, 256, 56, 56]               0\n",
      "           Conv2d-22          [-1, 512, 28, 28]       1,179,648\n",
      "      BatchNorm2d-23          [-1, 512, 28, 28]           1,024\n",
      "             ReLU-24          [-1, 512, 28, 28]               0\n",
      "           Conv2d-25          [-1, 512, 28, 28]       2,359,296\n",
      "      BatchNorm2d-26          [-1, 512, 28, 28]           1,024\n",
      "             ReLU-27          [-1, 512, 28, 28]               0\n",
      "           Conv2d-28          [-1, 512, 28, 28]       2,359,296\n",
      "      BatchNorm2d-29          [-1, 512, 28, 28]           1,024\n",
      "             ReLU-30          [-1, 512, 28, 28]               0\n",
      "           Conv2d-31          [-1, 512, 14, 14]       2,359,296\n",
      "      BatchNorm2d-32          [-1, 512, 14, 14]           1,024\n",
      "             ReLU-33          [-1, 512, 14, 14]               0\n",
      "           Conv2d-34          [-1, 512, 14, 14]       2,359,296\n",
      "      BatchNorm2d-35          [-1, 512, 14, 14]           1,024\n",
      "             ReLU-36          [-1, 512, 14, 14]               0\n",
      "           Conv2d-37          [-1, 512, 14, 14]       2,359,296\n",
      "      BatchNorm2d-38          [-1, 512, 14, 14]           1,024\n",
      "             ReLU-39          [-1, 512, 14, 14]               0\n",
      "           Linear-40                 [-1, 4096]     102,764,544\n",
      "      BatchNorm1d-41                 [-1, 4096]           8,192\n",
      "           Linear-42                 [-1, 4096]      16,781,312\n",
      "      BatchNorm1d-43                 [-1, 4096]           8,192\n",
      "           Linear-44                   [-1, 10]          40,970\n",
      "================================================================\n",
      "Total params: 134,322,122\n",
      "Trainable params: 134,322,122\n",
      "Non-trainable params: 0\n",
      "----------------------------------------------------------------\n",
      "Input size (MB): 0.57\n",
      "Forward/backward pass size (MB): 310.20\n",
      "Params size (MB): 512.40\n",
      "Estimated Total Size (MB): 823.18\n",
      "----------------------------------------------------------------\n"
     ]
    }
   ],
   "source": [
    "  # --------------------模型定义---------------------------------\n",
    "\n",
    "def VGG_11():\n",
    "    return VGG([1, 1, 2, 2, 2], num_classes=10)\n",
    "\n",
    "def VGG_13():\n",
    "    return VGG([1, 1, 2, 2, 2], num_classes=10)\n",
    "\n",
    "def VGG_16():\n",
    "    return VGG([2, 2, 3, 3, 3], num_classes=10)\n",
    "\n",
    "def VGG_19():\n",
    "    return VGG([2, 2, 4, 4, 4], num_classes=10)\n",
    "\n",
    "model = VGG_16()\n",
    "if torch.cuda.is_available():\n",
    "    model.cuda()\n",
    "    print('Using GPU')\n",
    "summary(model, (3, 224, 224))\n",
    "\n",
    "\n",
    "# params = [{'params': md.parameters()} for md in model.children()\n",
    "#           if md in [model.classifier]]\n",
    "optimizer = optim.Adam(model.parameters(), lr=learning_rate)\n",
    "loss_func = nn.CrossEntropyLoss()\n",
    "start_epoch = 0\n",
    "\n",
    "completeCheckPointPath = checkPointPath + 'VGG_best_' + str(lastEpoch) + '.pth'\n",
    "if os.path.exists(completeCheckPointPath):\n",
    "    path_checkpoint = completeCheckPointPath  # 断点路径\n",
    "    checkpoint = torch.load(path_checkpoint)  # 加载断点\n",
    "    model.load_state_dict(checkpoint['net'])  # 加载模型可学习参数\n",
    "    optimizer.load_state_dict(checkpoint['optimizer'])  # 加载优化器参数\n",
    "    start_epoch = checkpoint['epoch'] + 1  # 设置开始的epoch"
   ],
   "metadata": {
    "collapsed": false,
    "pycharm": {
     "name": "#%%\n"
    }
   }
  },
  {
   "cell_type": "code",
   "execution_count": null,
   "outputs": [
    {
     "name": "stdout",
     "output_type": "stream",
     "text": [
      "epoch 111\n",
      "Training...\n"
     ]
    },
    {
     "data": {
      "text/plain": "  0%|          | 0/1511 [00:00<?, ?it/s]",
      "application/vnd.jupyter.widget-view+json": {
       "version_major": 2,
       "version_minor": 0,
       "model_id": "0bf5792f91174eb4a837629487822d64"
      }
     },
     "metadata": {},
     "output_type": "display_data"
    },
    {
     "name": "stdout",
     "output_type": "stream",
     "text": [
      "Train Loss: 0.100288, Acc: 0.857291\n",
      "Testing...\n"
     ]
    },
    {
     "data": {
      "text/plain": "  0%|          | 0/130 [00:00<?, ?it/s]",
      "application/vnd.jupyter.widget-view+json": {
       "version_major": 2,
       "version_minor": 0,
       "model_id": "25f8937a679b421d8d10305034e752e5"
      }
     },
     "metadata": {},
     "output_type": "display_data"
    },
    {
     "name": "stdout",
     "output_type": "stream",
     "text": [
      "Test Loss: 0.104142, Acc: 0.802612\n",
      "epoch 112\n",
      "Training...\n"
     ]
    },
    {
     "data": {
      "text/plain": "  0%|          | 0/1511 [00:00<?, ?it/s]",
      "application/vnd.jupyter.widget-view+json": {
       "version_major": 2,
       "version_minor": 0,
       "model_id": "7a84db26d4fe43608829cbb463c951ca"
      }
     },
     "metadata": {},
     "output_type": "display_data"
    },
    {
     "name": "stdout",
     "output_type": "stream",
     "text": [
      "Train Loss: 0.100005, Acc: 0.860725\n",
      "Testing...\n"
     ]
    },
    {
     "data": {
      "text/plain": "  0%|          | 0/130 [00:00<?, ?it/s]",
      "application/vnd.jupyter.widget-view+json": {
       "version_major": 2,
       "version_minor": 0,
       "model_id": "0ccb8d4b3efe4198b2964f3aaeb47bee"
      }
     },
     "metadata": {},
     "output_type": "display_data"
    },
    {
     "name": "stdout",
     "output_type": "stream",
     "text": [
      "Test Loss: 0.104402, Acc: 0.800194\n",
      "epoch 113\n",
      "Training...\n"
     ]
    },
    {
     "data": {
      "text/plain": "  0%|          | 0/1511 [00:00<?, ?it/s]",
      "application/vnd.jupyter.widget-view+json": {
       "version_major": 2,
       "version_minor": 0,
       "model_id": "6d8454377269423c832d7cd62787ba55"
      }
     },
     "metadata": {},
     "output_type": "display_data"
    },
    {
     "name": "stdout",
     "output_type": "stream",
     "text": [
      "Train Loss: 0.100079, Acc: 0.860311\n",
      "Testing...\n"
     ]
    },
    {
     "data": {
      "text/plain": "  0%|          | 0/130 [00:00<?, ?it/s]",
      "application/vnd.jupyter.widget-view+json": {
       "version_major": 2,
       "version_minor": 0,
       "model_id": "55c9b2afbef84599b1645c6348041d27"
      }
     },
     "metadata": {},
     "output_type": "display_data"
    },
    {
     "name": "stdout",
     "output_type": "stream",
     "text": [
      "Test Loss: 0.104424, Acc: 0.797775\n",
      "epoch 114\n",
      "Training...\n"
     ]
    },
    {
     "data": {
      "text/plain": "  0%|          | 0/1511 [00:00<?, ?it/s]",
      "application/vnd.jupyter.widget-view+json": {
       "version_major": 2,
       "version_minor": 0,
       "model_id": "6b00f1daacc04862b8572c0291acea8f"
      }
     },
     "metadata": {},
     "output_type": "display_data"
    },
    {
     "name": "stdout",
     "output_type": "stream",
     "text": [
      "Train Loss: 0.099875, Acc: 0.863539\n",
      "Testing...\n"
     ]
    },
    {
     "data": {
      "text/plain": "  0%|          | 0/130 [00:00<?, ?it/s]",
      "application/vnd.jupyter.widget-view+json": {
       "version_major": 2,
       "version_minor": 0,
       "model_id": "a907752356c44e39a8e4237506328667"
      }
     },
     "metadata": {},
     "output_type": "display_data"
    },
    {
     "name": "stdout",
     "output_type": "stream",
     "text": [
      "Test Loss: 0.103455, Acc: 0.815191\n",
      "epoch 115\n",
      "Training...\n"
     ]
    },
    {
     "data": {
      "text/plain": "  0%|          | 0/1511 [00:00<?, ?it/s]",
      "application/vnd.jupyter.widget-view+json": {
       "version_major": 2,
       "version_minor": 0,
       "model_id": "5195e4b758364157acdc35180527ed12"
      }
     },
     "metadata": {},
     "output_type": "display_data"
    },
    {
     "name": "stdout",
     "output_type": "stream",
     "text": [
      "Train Loss: 0.099725, Acc: 0.865814\n",
      "Testing...\n"
     ]
    },
    {
     "data": {
      "text/plain": "  0%|          | 0/130 [00:00<?, ?it/s]",
      "application/vnd.jupyter.widget-view+json": {
       "version_major": 2,
       "version_minor": 0,
       "model_id": "8219ed85a0fa4593a8a485b21fa25559"
      }
     },
     "metadata": {},
     "output_type": "display_data"
    },
    {
     "name": "stdout",
     "output_type": "stream",
     "text": [
      "Test Loss: 0.103961, Acc: 0.806483\n",
      "epoch 116\n",
      "Training...\n"
     ]
    },
    {
     "data": {
      "text/plain": "  0%|          | 0/1511 [00:00<?, ?it/s]",
      "application/vnd.jupyter.widget-view+json": {
       "version_major": 2,
       "version_minor": 0,
       "model_id": "4071f8d81c584a5eb9f1ecd2a2cd1b10"
      }
     },
     "metadata": {},
     "output_type": "display_data"
    },
    {
     "name": "stdout",
     "output_type": "stream",
     "text": [
      "Train Loss: 0.099510, Acc: 0.868711\n",
      "Testing...\n"
     ]
    },
    {
     "data": {
      "text/plain": "  0%|          | 0/130 [00:00<?, ?it/s]",
      "application/vnd.jupyter.widget-view+json": {
       "version_major": 2,
       "version_minor": 0,
       "model_id": "ad7c154c3e9b431eb557a82f0149c4e0"
      }
     },
     "metadata": {},
     "output_type": "display_data"
    },
    {
     "name": "stdout",
     "output_type": "stream",
     "text": [
      "Test Loss: 0.103617, Acc: 0.813740\n",
      "epoch 117\n",
      "Training...\n"
     ]
    },
    {
     "data": {
      "text/plain": "  0%|          | 0/1511 [00:00<?, ?it/s]",
      "application/vnd.jupyter.widget-view+json": {
       "version_major": 2,
       "version_minor": 0,
       "model_id": "aecb4ad4e7d240aab5318f8c5aa1961d"
      }
     },
     "metadata": {},
     "output_type": "display_data"
    },
    {
     "name": "stdout",
     "output_type": "stream",
     "text": [
      "Train Loss: 0.099594, Acc: 0.868711\n",
      "Testing...\n"
     ]
    },
    {
     "data": {
      "text/plain": "  0%|          | 0/130 [00:00<?, ?it/s]",
      "application/vnd.jupyter.widget-view+json": {
       "version_major": 2,
       "version_minor": 0,
       "model_id": "17fab5e0bc044b51a668e1c2da693602"
      }
     },
     "metadata": {},
     "output_type": "display_data"
    },
    {
     "name": "stdout",
     "output_type": "stream",
     "text": [
      "Test Loss: 0.103069, Acc: 0.820029\n",
      "epoch 118\n",
      "Training...\n"
     ]
    },
    {
     "data": {
      "text/plain": "  0%|          | 0/1511 [00:00<?, ?it/s]",
      "application/vnd.jupyter.widget-view+json": {
       "version_major": 2,
       "version_minor": 0,
       "model_id": "48ecab862a6d4d3495296429473f27df"
      }
     },
     "metadata": {},
     "output_type": "display_data"
    },
    {
     "name": "stdout",
     "output_type": "stream",
     "text": [
      "Train Loss: 0.099519, Acc: 0.869580\n",
      "Testing...\n"
     ]
    },
    {
     "data": {
      "text/plain": "  0%|          | 0/130 [00:00<?, ?it/s]",
      "application/vnd.jupyter.widget-view+json": {
       "version_major": 2,
       "version_minor": 0,
       "model_id": "e537bcd3c064454ebabdb743c077dc91"
      }
     },
     "metadata": {},
     "output_type": "display_data"
    },
    {
     "name": "stdout",
     "output_type": "stream",
     "text": [
      "Test Loss: 0.103758, Acc: 0.810353\n",
      "epoch 119\n",
      "Training...\n"
     ]
    },
    {
     "data": {
      "text/plain": "  0%|          | 0/1511 [00:00<?, ?it/s]",
      "application/vnd.jupyter.widget-view+json": {
       "version_major": 2,
       "version_minor": 0,
       "model_id": "6a9d5ffeca50406c8bdae3db6eb46093"
      }
     },
     "metadata": {},
     "output_type": "display_data"
    },
    {
     "name": "stdout",
     "output_type": "stream",
     "text": [
      "Train Loss: 0.099094, Acc: 0.876448\n",
      "Testing...\n"
     ]
    },
    {
     "data": {
      "text/plain": "  0%|          | 0/130 [00:00<?, ?it/s]",
      "application/vnd.jupyter.widget-view+json": {
       "version_major": 2,
       "version_minor": 0,
       "model_id": "500b862afab046209d4514c175276e05"
      }
     },
     "metadata": {},
     "output_type": "display_data"
    },
    {
     "name": "stdout",
     "output_type": "stream",
     "text": [
      "Test Loss: 0.104310, Acc: 0.804064\n",
      "epoch 120\n",
      "Training...\n"
     ]
    },
    {
     "data": {
      "text/plain": "  0%|          | 0/1511 [00:00<?, ?it/s]",
      "application/vnd.jupyter.widget-view+json": {
       "version_major": 2,
       "version_minor": 0,
       "model_id": "4c7504a8fefd4ed1842fdf6340d39d71"
      }
     },
     "metadata": {},
     "output_type": "display_data"
    },
    {
     "name": "stdout",
     "output_type": "stream",
     "text": [
      "Train Loss: 0.099245, Acc: 0.874338\n",
      "Testing...\n"
     ]
    },
    {
     "data": {
      "text/plain": "  0%|          | 0/130 [00:00<?, ?it/s]",
      "application/vnd.jupyter.widget-view+json": {
       "version_major": 2,
       "version_minor": 0,
       "model_id": "3da03ae439ce46bb9b72164f5b28c943"
      }
     },
     "metadata": {},
     "output_type": "display_data"
    },
    {
     "name": "stdout",
     "output_type": "stream",
     "text": [
      "Test Loss: 0.103870, Acc: 0.810353\n",
      "epoch 121\n",
      "Training...\n"
     ]
    },
    {
     "data": {
      "text/plain": "  0%|          | 0/1511 [00:00<?, ?it/s]",
      "application/vnd.jupyter.widget-view+json": {
       "version_major": 2,
       "version_minor": 0,
       "model_id": "27bf7de3720342c39485778cfb46038d"
      }
     },
     "metadata": {},
     "output_type": "display_data"
    },
    {
     "name": "stdout",
     "output_type": "stream",
     "text": [
      "Train Loss: 0.099372, Acc: 0.872393\n",
      "Testing...\n"
     ]
    },
    {
     "data": {
      "text/plain": "  0%|          | 0/130 [00:00<?, ?it/s]",
      "application/vnd.jupyter.widget-view+json": {
       "version_major": 2,
       "version_minor": 0,
       "model_id": "e364384086fe4c57ad8bd08aa7215a08"
      }
     },
     "metadata": {},
     "output_type": "display_data"
    },
    {
     "name": "stdout",
     "output_type": "stream",
     "text": [
      "Test Loss: 0.104041, Acc: 0.808418\n",
      "epoch 122\n",
      "Training...\n"
     ]
    },
    {
     "data": {
      "text/plain": "  0%|          | 0/1511 [00:00<?, ?it/s]",
      "application/vnd.jupyter.widget-view+json": {
       "version_major": 2,
       "version_minor": 0,
       "model_id": "fca37b6cbb8e4ce39eb771beb662d1f8"
      }
     },
     "metadata": {},
     "output_type": "display_data"
    },
    {
     "name": "stdout",
     "output_type": "stream",
     "text": [
      "Train Loss: 0.099387, Acc: 0.871317\n",
      "Testing...\n"
     ]
    },
    {
     "data": {
      "text/plain": "  0%|          | 0/130 [00:00<?, ?it/s]",
      "application/vnd.jupyter.widget-view+json": {
       "version_major": 2,
       "version_minor": 0,
       "model_id": "62c2acc63fa34d83ac4ef948099261a7"
      }
     },
     "metadata": {},
     "output_type": "display_data"
    },
    {
     "name": "stdout",
     "output_type": "stream",
     "text": [
      "Test Loss: 0.104828, Acc: 0.793420\n",
      "epoch 123\n",
      "Training...\n"
     ]
    },
    {
     "data": {
      "text/plain": "  0%|          | 0/1511 [00:00<?, ?it/s]",
      "application/vnd.jupyter.widget-view+json": {
       "version_major": 2,
       "version_minor": 0,
       "model_id": "3bb59e2a871e483593f01dd886e93c93"
      }
     },
     "metadata": {},
     "output_type": "display_data"
    },
    {
     "name": "stdout",
     "output_type": "stream",
     "text": [
      "Train Loss: 0.098953, Acc: 0.878434\n",
      "Testing...\n"
     ]
    },
    {
     "data": {
      "text/plain": "  0%|          | 0/130 [00:00<?, ?it/s]",
      "application/vnd.jupyter.widget-view+json": {
       "version_major": 2,
       "version_minor": 0,
       "model_id": "7c931991696a4c98b9925b9e2283eb19"
      }
     },
     "metadata": {},
     "output_type": "display_data"
    },
    {
     "name": "stdout",
     "output_type": "stream",
     "text": [
      "Test Loss: 0.103464, Acc: 0.814224\n",
      "epoch 124\n",
      "Training...\n"
     ]
    },
    {
     "data": {
      "text/plain": "  0%|          | 0/1511 [00:00<?, ?it/s]",
      "application/vnd.jupyter.widget-view+json": {
       "version_major": 2,
       "version_minor": 0,
       "model_id": "95f112000dfe48569fbe68ac0e83d5f4"
      }
     },
     "metadata": {},
     "output_type": "display_data"
    },
    {
     "name": "stdout",
     "output_type": "stream",
     "text": [
      "Train Loss: 0.099058, Acc: 0.876407\n",
      "Testing...\n"
     ]
    },
    {
     "data": {
      "text/plain": "  0%|          | 0/130 [00:00<?, ?it/s]",
      "application/vnd.jupyter.widget-view+json": {
       "version_major": 2,
       "version_minor": 0,
       "model_id": "8da74720658b4684922f6994ee960217"
      }
     },
     "metadata": {},
     "output_type": "display_data"
    },
    {
     "name": "stdout",
     "output_type": "stream",
     "text": [
      "Test Loss: 0.102975, Acc: 0.819545\n",
      "epoch 125\n",
      "Training...\n"
     ]
    },
    {
     "data": {
      "text/plain": "  0%|          | 0/1511 [00:00<?, ?it/s]",
      "application/vnd.jupyter.widget-view+json": {
       "version_major": 2,
       "version_minor": 0,
       "model_id": "9e16047a02404884808a2e8593068704"
      }
     },
     "metadata": {},
     "output_type": "display_data"
    },
    {
     "name": "stdout",
     "output_type": "stream",
     "text": [
      "Train Loss: 0.098840, Acc: 0.880172\n",
      "Testing...\n"
     ]
    },
    {
     "data": {
      "text/plain": "  0%|          | 0/130 [00:00<?, ?it/s]",
      "application/vnd.jupyter.widget-view+json": {
       "version_major": 2,
       "version_minor": 0,
       "model_id": "c4a6d2e25c22487ea3b54842302dd728"
      }
     },
     "metadata": {},
     "output_type": "display_data"
    },
    {
     "name": "stdout",
     "output_type": "stream",
     "text": [
      "Test Loss: 0.103595, Acc: 0.812772\n",
      "epoch 126\n",
      "Training...\n"
     ]
    },
    {
     "data": {
      "text/plain": "  0%|          | 0/1511 [00:00<?, ?it/s]",
      "application/vnd.jupyter.widget-view+json": {
       "version_major": 2,
       "version_minor": 0,
       "model_id": "247e09408eff4a778cd87a6bd954d669"
      }
     },
     "metadata": {},
     "output_type": "display_data"
    },
    {
     "name": "stdout",
     "output_type": "stream",
     "text": [
      "Train Loss: 0.099011, Acc: 0.877772\n",
      "Testing...\n"
     ]
    },
    {
     "data": {
      "text/plain": "  0%|          | 0/130 [00:00<?, ?it/s]",
      "application/vnd.jupyter.widget-view+json": {
       "version_major": 2,
       "version_minor": 0,
       "model_id": "7290b5718f974f4dbd3f11a7c055d6eb"
      }
     },
     "metadata": {},
     "output_type": "display_data"
    },
    {
     "name": "stdout",
     "output_type": "stream",
     "text": [
      "Test Loss: 0.103319, Acc: 0.818578\n",
      "epoch 127\n",
      "Training...\n"
     ]
    },
    {
     "data": {
      "text/plain": "  0%|          | 0/1511 [00:00<?, ?it/s]",
      "application/vnd.jupyter.widget-view+json": {
       "version_major": 2,
       "version_minor": 0,
       "model_id": "d16814a28d1e4999ad8c5a04cc27d927"
      }
     },
     "metadata": {},
     "output_type": "display_data"
    },
    {
     "name": "stdout",
     "output_type": "stream",
     "text": [
      "Train Loss: 0.098640, Acc: 0.883689\n",
      "Testing...\n"
     ]
    },
    {
     "data": {
      "text/plain": "  0%|          | 0/130 [00:00<?, ?it/s]",
      "application/vnd.jupyter.widget-view+json": {
       "version_major": 2,
       "version_minor": 0,
       "model_id": "902fbb3ad83b4a56adfea3a3d55646e1"
      }
     },
     "metadata": {},
     "output_type": "display_data"
    },
    {
     "name": "stdout",
     "output_type": "stream",
     "text": [
      "Test Loss: 0.102723, Acc: 0.826802\n",
      "epoch 128\n",
      "Training...\n"
     ]
    },
    {
     "data": {
      "text/plain": "  0%|          | 0/1511 [00:00<?, ?it/s]",
      "application/vnd.jupyter.widget-view+json": {
       "version_major": 2,
       "version_minor": 0,
       "model_id": "1ffb03e3a268402a9abfeea8096d1fe0"
      }
     },
     "metadata": {},
     "output_type": "display_data"
    },
    {
     "name": "stdout",
     "output_type": "stream",
     "text": [
      "Train Loss: 0.098487, Acc: 0.885965\n",
      "Testing...\n"
     ]
    },
    {
     "data": {
      "text/plain": "  0%|          | 0/130 [00:00<?, ?it/s]",
      "application/vnd.jupyter.widget-view+json": {
       "version_major": 2,
       "version_minor": 0,
       "model_id": "0d405bf03b2847a19b15c15dfb510633"
      }
     },
     "metadata": {},
     "output_type": "display_data"
    },
    {
     "name": "stdout",
     "output_type": "stream",
     "text": [
      "Test Loss: 0.103019, Acc: 0.827286\n",
      "epoch 129\n",
      "Training...\n"
     ]
    },
    {
     "data": {
      "text/plain": "  0%|          | 0/1511 [00:00<?, ?it/s]",
      "application/vnd.jupyter.widget-view+json": {
       "version_major": 2,
       "version_minor": 0,
       "model_id": "095183cd0de94e1dabc56121673ac925"
      }
     },
     "metadata": {},
     "output_type": "display_data"
    },
    {
     "name": "stdout",
     "output_type": "stream",
     "text": [
      "Train Loss: 0.098543, Acc: 0.885220\n",
      "Testing...\n"
     ]
    },
    {
     "data": {
      "text/plain": "  0%|          | 0/130 [00:00<?, ?it/s]",
      "application/vnd.jupyter.widget-view+json": {
       "version_major": 2,
       "version_minor": 0,
       "model_id": "edc098d164054c06872027d8cf5ce92d"
      }
     },
     "metadata": {},
     "output_type": "display_data"
    },
    {
     "name": "stdout",
     "output_type": "stream",
     "text": [
      "Test Loss: 0.102955, Acc: 0.824383\n",
      "epoch 130\n",
      "Training...\n"
     ]
    },
    {
     "data": {
      "text/plain": "  0%|          | 0/1511 [00:00<?, ?it/s]",
      "application/vnd.jupyter.widget-view+json": {
       "version_major": 2,
       "version_minor": 0,
       "model_id": "9f721f062bf44fadb74c32c4b7106d74"
      }
     },
     "metadata": {},
     "output_type": "display_data"
    },
    {
     "name": "stdout",
     "output_type": "stream",
     "text": [
      "Train Loss: 0.098196, Acc: 0.890682\n",
      "Testing...\n"
     ]
    },
    {
     "data": {
      "text/plain": "  0%|          | 0/130 [00:00<?, ?it/s]",
      "application/vnd.jupyter.widget-view+json": {
       "version_major": 2,
       "version_minor": 0,
       "model_id": "c23711a439c14a8a8990735dcd1187a4"
      }
     },
     "metadata": {},
     "output_type": "display_data"
    },
    {
     "name": "stdout",
     "output_type": "stream",
     "text": [
      "Test Loss: 0.103887, Acc: 0.804548\n",
      "epoch 131\n",
      "Training...\n"
     ]
    },
    {
     "data": {
      "text/plain": "  0%|          | 0/1511 [00:00<?, ?it/s]",
      "application/vnd.jupyter.widget-view+json": {
       "version_major": 2,
       "version_minor": 0,
       "model_id": "81ea3e80086a4f8e95280642a0260f4a"
      }
     },
     "metadata": {},
     "output_type": "display_data"
    },
    {
     "name": "stdout",
     "output_type": "stream",
     "text": [
      "Train Loss: 0.098361, Acc: 0.888282\n",
      "Testing...\n"
     ]
    },
    {
     "data": {
      "text/plain": "  0%|          | 0/130 [00:00<?, ?it/s]",
      "application/vnd.jupyter.widget-view+json": {
       "version_major": 2,
       "version_minor": 0,
       "model_id": "ef24f1309c50445491c155eb1d566c15"
      }
     },
     "metadata": {},
     "output_type": "display_data"
    },
    {
     "name": "stdout",
     "output_type": "stream",
     "text": [
      "Test Loss: 0.102888, Acc: 0.824867\n",
      "epoch 132\n",
      "Training...\n"
     ]
    },
    {
     "data": {
      "text/plain": "  0%|          | 0/1511 [00:00<?, ?it/s]",
      "application/vnd.jupyter.widget-view+json": {
       "version_major": 2,
       "version_minor": 0,
       "model_id": "22cf289e5c0d430c83d061e2434a0009"
      }
     },
     "metadata": {},
     "output_type": "display_data"
    },
    {
     "name": "stdout",
     "output_type": "stream",
     "text": [
      "Train Loss: 0.098398, Acc: 0.887744\n",
      "Testing...\n"
     ]
    },
    {
     "data": {
      "text/plain": "  0%|          | 0/130 [00:00<?, ?it/s]",
      "application/vnd.jupyter.widget-view+json": {
       "version_major": 2,
       "version_minor": 0,
       "model_id": "615395d5f3894361a3f07fcdf7e6e5a4"
      }
     },
     "metadata": {},
     "output_type": "display_data"
    },
    {
     "name": "stdout",
     "output_type": "stream",
     "text": [
      "Test Loss: 0.102386, Acc: 0.829221\n",
      "epoch 133\n",
      "Training...\n"
     ]
    },
    {
     "data": {
      "text/plain": "  0%|          | 0/1511 [00:00<?, ?it/s]",
      "application/vnd.jupyter.widget-view+json": {
       "version_major": 2,
       "version_minor": 0,
       "model_id": "2b22cdfe43aa4dea84c0e6ea3a233255"
      }
     },
     "metadata": {},
     "output_type": "display_data"
    },
    {
     "name": "stdout",
     "output_type": "stream",
     "text": [
      "Train Loss: 0.098217, Acc: 0.890475\n",
      "Testing...\n"
     ]
    },
    {
     "data": {
      "text/plain": "  0%|          | 0/130 [00:00<?, ?it/s]",
      "application/vnd.jupyter.widget-view+json": {
       "version_major": 2,
       "version_minor": 0,
       "model_id": "6d74d2b0cdbf45b195439724503b65d1"
      }
     },
     "metadata": {},
     "output_type": "display_data"
    },
    {
     "name": "stdout",
     "output_type": "stream",
     "text": [
      "Test Loss: 0.103217, Acc: 0.821480\n",
      "epoch 134\n",
      "Training...\n"
     ]
    },
    {
     "data": {
      "text/plain": "  0%|          | 0/1511 [00:00<?, ?it/s]",
      "application/vnd.jupyter.widget-view+json": {
       "version_major": 2,
       "version_minor": 0,
       "model_id": "66d4eaca57554b9ab74fd5ca10153191"
      }
     },
     "metadata": {},
     "output_type": "display_data"
    },
    {
     "name": "stdout",
     "output_type": "stream",
     "text": [
      "Train Loss: 0.098123, Acc: 0.891551\n",
      "Testing...\n"
     ]
    },
    {
     "data": {
      "text/plain": "  0%|          | 0/130 [00:00<?, ?it/s]",
      "application/vnd.jupyter.widget-view+json": {
       "version_major": 2,
       "version_minor": 0,
       "model_id": "ccdd1e6798ea40a59a9c28f541a6b163"
      }
     },
     "metadata": {},
     "output_type": "display_data"
    },
    {
     "name": "stdout",
     "output_type": "stream",
     "text": [
      "Test Loss: 0.102508, Acc: 0.829705\n",
      "epoch 135\n",
      "Training...\n"
     ]
    },
    {
     "data": {
      "text/plain": "  0%|          | 0/1511 [00:00<?, ?it/s]",
      "application/vnd.jupyter.widget-view+json": {
       "version_major": 2,
       "version_minor": 0,
       "model_id": "d72e9f468fa4406a97a461af084e29d8"
      }
     },
     "metadata": {},
     "output_type": "display_data"
    },
    {
     "name": "stdout",
     "output_type": "stream",
     "text": [
      "Train Loss: 0.098030, Acc: 0.893289\n",
      "Testing...\n"
     ]
    },
    {
     "data": {
      "text/plain": "  0%|          | 0/130 [00:00<?, ?it/s]",
      "application/vnd.jupyter.widget-view+json": {
       "version_major": 2,
       "version_minor": 0,
       "model_id": "75221bc2b58d42869036d5396b498e40"
      }
     },
     "metadata": {},
     "output_type": "display_data"
    },
    {
     "name": "stdout",
     "output_type": "stream",
     "text": [
      "Test Loss: 0.104645, Acc: 0.794388\n",
      "epoch 136\n",
      "Training...\n"
     ]
    },
    {
     "data": {
      "text/plain": "  0%|          | 0/1511 [00:00<?, ?it/s]",
      "application/vnd.jupyter.widget-view+json": {
       "version_major": 2,
       "version_minor": 0,
       "model_id": "c420a6632df24c14895a6f0c9c573940"
      }
     },
     "metadata": {},
     "output_type": "display_data"
    },
    {
     "name": "stdout",
     "output_type": "stream",
     "text": [
      "Train Loss: 0.098001, Acc: 0.893827\n",
      "Testing...\n"
     ]
    },
    {
     "data": {
      "text/plain": "  0%|          | 0/130 [00:00<?, ?it/s]",
      "application/vnd.jupyter.widget-view+json": {
       "version_major": 2,
       "version_minor": 0,
       "model_id": "49c79e33ef2740bbb3fbe0c24a7dfadc"
      }
     },
     "metadata": {},
     "output_type": "display_data"
    },
    {
     "name": "stdout",
     "output_type": "stream",
     "text": [
      "Test Loss: 0.103862, Acc: 0.807450\n",
      "epoch 137\n",
      "Training...\n"
     ]
    },
    {
     "data": {
      "text/plain": "  0%|          | 0/1511 [00:00<?, ?it/s]",
      "application/vnd.jupyter.widget-view+json": {
       "version_major": 2,
       "version_minor": 0,
       "model_id": "89a3f1f283894a89b8fcaa4cab04e93d"
      }
     },
     "metadata": {},
     "output_type": "display_data"
    },
    {
     "name": "stdout",
     "output_type": "stream",
     "text": [
      "Train Loss: 0.098069, Acc: 0.892296\n",
      "Testing...\n"
     ]
    },
    {
     "data": {
      "text/plain": "  0%|          | 0/130 [00:00<?, ?it/s]",
      "application/vnd.jupyter.widget-view+json": {
       "version_major": 2,
       "version_minor": 0,
       "model_id": "7e3689da943541e5b44f8c76760353c7"
      }
     },
     "metadata": {},
     "output_type": "display_data"
    },
    {
     "name": "stdout",
     "output_type": "stream",
     "text": [
      "Test Loss: 0.103094, Acc: 0.819061\n",
      "epoch 138\n",
      "Training...\n"
     ]
    },
    {
     "data": {
      "text/plain": "  0%|          | 0/1511 [00:00<?, ?it/s]",
      "application/vnd.jupyter.widget-view+json": {
       "version_major": 2,
       "version_minor": 0,
       "model_id": "5b5a33e272154da5b2e0660193ecf17d"
      }
     },
     "metadata": {},
     "output_type": "display_data"
    },
    {
     "name": "stdout",
     "output_type": "stream",
     "text": [
      "Train Loss: 0.097743, Acc: 0.897840\n",
      "Testing...\n"
     ]
    },
    {
     "data": {
      "text/plain": "  0%|          | 0/130 [00:00<?, ?it/s]",
      "application/vnd.jupyter.widget-view+json": {
       "version_major": 2,
       "version_minor": 0,
       "model_id": "2285d6a66f8547ac817f139b9a2a8fc8"
      }
     },
     "metadata": {},
     "output_type": "display_data"
    },
    {
     "name": "stdout",
     "output_type": "stream",
     "text": [
      "Test Loss: 0.102948, Acc: 0.828254\n",
      "epoch 139\n",
      "Training...\n"
     ]
    },
    {
     "data": {
      "text/plain": "  0%|          | 0/1511 [00:00<?, ?it/s]",
      "application/vnd.jupyter.widget-view+json": {
       "version_major": 2,
       "version_minor": 0,
       "model_id": "f85b97d296534d0085c62e317ad8cad9"
      }
     },
     "metadata": {},
     "output_type": "display_data"
    },
    {
     "name": "stdout",
     "output_type": "stream",
     "text": [
      "Train Loss: 0.097785, Acc: 0.897468\n",
      "Testing...\n"
     ]
    },
    {
     "data": {
      "text/plain": "  0%|          | 0/130 [00:00<?, ?it/s]",
      "application/vnd.jupyter.widget-view+json": {
       "version_major": 2,
       "version_minor": 0,
       "model_id": "210cdebabafd40f9af029ab4f09785c1"
      }
     },
     "metadata": {},
     "output_type": "display_data"
    },
    {
     "name": "stdout",
     "output_type": "stream",
     "text": [
      "Test Loss: 0.103332, Acc: 0.815191\n",
      "epoch 140\n",
      "Training...\n"
     ]
    },
    {
     "data": {
      "text/plain": "  0%|          | 0/1511 [00:00<?, ?it/s]",
      "application/vnd.jupyter.widget-view+json": {
       "version_major": 2,
       "version_minor": 0,
       "model_id": "636cbcf139fb4096ac3a7ffcceef2ba8"
      }
     },
     "metadata": {},
     "output_type": "display_data"
    },
    {
     "name": "stdout",
     "output_type": "stream",
     "text": [
      "Train Loss: 0.097700, Acc: 0.898461\n",
      "Testing...\n"
     ]
    },
    {
     "data": {
      "text/plain": "  0%|          | 0/130 [00:00<?, ?it/s]",
      "application/vnd.jupyter.widget-view+json": {
       "version_major": 2,
       "version_minor": 0,
       "model_id": "e0155d389678459e9b3fd9183bbbff59"
      }
     },
     "metadata": {},
     "output_type": "display_data"
    },
    {
     "name": "stdout",
     "output_type": "stream",
     "text": [
      "Test Loss: 0.102486, Acc: 0.831156\n",
      "epoch 141\n",
      "Training...\n"
     ]
    },
    {
     "data": {
      "text/plain": "  0%|          | 0/1511 [00:00<?, ?it/s]",
      "application/vnd.jupyter.widget-view+json": {
       "version_major": 2,
       "version_minor": 0,
       "model_id": "109527e3bb874098ae6833dd5f6046a4"
      }
     },
     "metadata": {},
     "output_type": "display_data"
    },
    {
     "name": "stdout",
     "output_type": "stream",
     "text": [
      "Train Loss: 0.097642, Acc: 0.899330\n",
      "Testing...\n"
     ]
    },
    {
     "data": {
      "text/plain": "  0%|          | 0/130 [00:00<?, ?it/s]",
      "application/vnd.jupyter.widget-view+json": {
       "version_major": 2,
       "version_minor": 0,
       "model_id": "aa5287d3a5024ecf8b4bd669f658ec4f"
      }
     },
     "metadata": {},
     "output_type": "display_data"
    },
    {
     "name": "stdout",
     "output_type": "stream",
     "text": [
      "Test Loss: 0.103292, Acc: 0.821964\n",
      "epoch 142\n",
      "Training...\n"
     ]
    },
    {
     "data": {
      "text/plain": "  0%|          | 0/1511 [00:00<?, ?it/s]",
      "application/vnd.jupyter.widget-view+json": {
       "version_major": 2,
       "version_minor": 0,
       "model_id": "c046a0e10bcb47be9a4dc13f836bb8ad"
      }
     },
     "metadata": {},
     "output_type": "display_data"
    },
    {
     "name": "stdout",
     "output_type": "stream",
     "text": [
      "Train Loss: 0.097604, Acc: 0.900447\n",
      "Testing...\n"
     ]
    },
    {
     "data": {
      "text/plain": "  0%|          | 0/130 [00:00<?, ?it/s]",
      "application/vnd.jupyter.widget-view+json": {
       "version_major": 2,
       "version_minor": 0,
       "model_id": "3ea9aa48580e4a9c8e454a912f9bc4b3"
      }
     },
     "metadata": {},
     "output_type": "display_data"
    },
    {
     "name": "stdout",
     "output_type": "stream",
     "text": [
      "Test Loss: 0.102220, Acc: 0.839865\n",
      "epoch 143\n",
      "Training...\n"
     ]
    },
    {
     "data": {
      "text/plain": "  0%|          | 0/1511 [00:00<?, ?it/s]",
      "application/vnd.jupyter.widget-view+json": {
       "version_major": 2,
       "version_minor": 0,
       "model_id": "224171a457be406b845078127d177c35"
      }
     },
     "metadata": {},
     "output_type": "display_data"
    },
    {
     "name": "stdout",
     "output_type": "stream",
     "text": [
      "Train Loss: 0.097234, Acc: 0.906612\n",
      "Testing...\n"
     ]
    },
    {
     "data": {
      "text/plain": "  0%|          | 0/130 [00:00<?, ?it/s]",
      "application/vnd.jupyter.widget-view+json": {
       "version_major": 2,
       "version_minor": 0,
       "model_id": "af7e55b946d74fad95fd117f6bcadce1"
      }
     },
     "metadata": {},
     "output_type": "display_data"
    },
    {
     "name": "stdout",
     "output_type": "stream",
     "text": [
      "Test Loss: 0.102582, Acc: 0.826318\n",
      "epoch 144\n",
      "Training...\n"
     ]
    },
    {
     "data": {
      "text/plain": "  0%|          | 0/1511 [00:00<?, ?it/s]",
      "application/vnd.jupyter.widget-view+json": {
       "version_major": 2,
       "version_minor": 0,
       "model_id": "22da3b7b6bca40de980b5290a28d089c"
      }
     },
     "metadata": {},
     "output_type": "display_data"
    },
    {
     "name": "stdout",
     "output_type": "stream",
     "text": [
      "Train Loss: 0.097484, Acc: 0.902061\n",
      "Testing...\n"
     ]
    },
    {
     "data": {
      "text/plain": "  0%|          | 0/130 [00:00<?, ?it/s]",
      "application/vnd.jupyter.widget-view+json": {
       "version_major": 2,
       "version_minor": 0,
       "model_id": "786e4ba5194540a2b8dfb276aef2a0ad"
      }
     },
     "metadata": {},
     "output_type": "display_data"
    },
    {
     "name": "stdout",
     "output_type": "stream",
     "text": [
      "Test Loss: 0.102464, Acc: 0.830673\n",
      "epoch 145\n",
      "Training...\n"
     ]
    },
    {
     "data": {
      "text/plain": "  0%|          | 0/1511 [00:00<?, ?it/s]",
      "application/vnd.jupyter.widget-view+json": {
       "version_major": 2,
       "version_minor": 0,
       "model_id": "2fa6e580af33409298a79cffb02554bc"
      }
     },
     "metadata": {},
     "output_type": "display_data"
    },
    {
     "name": "stdout",
     "output_type": "stream",
     "text": [
      "Train Loss: 0.097449, Acc: 0.902681\n",
      "Testing...\n"
     ]
    },
    {
     "data": {
      "text/plain": "  0%|          | 0/130 [00:00<?, ?it/s]",
      "application/vnd.jupyter.widget-view+json": {
       "version_major": 2,
       "version_minor": 0,
       "model_id": "a808a3b21c3c46e9940253fa854d9957"
      }
     },
     "metadata": {},
     "output_type": "display_data"
    },
    {
     "name": "stdout",
     "output_type": "stream",
     "text": [
      "Test Loss: 0.103132, Acc: 0.819545\n",
      "epoch 146\n",
      "Training...\n"
     ]
    },
    {
     "data": {
      "text/plain": "  0%|          | 0/1511 [00:00<?, ?it/s]",
      "application/vnd.jupyter.widget-view+json": {
       "version_major": 2,
       "version_minor": 0,
       "model_id": "906af58de991487f9c606215d58020c1"
      }
     },
     "metadata": {},
     "output_type": "display_data"
    },
    {
     "name": "stdout",
     "output_type": "stream",
     "text": [
      "Train Loss: 0.097565, Acc: 0.900985\n",
      "Testing...\n"
     ]
    },
    {
     "data": {
      "text/plain": "  0%|          | 0/130 [00:00<?, ?it/s]",
      "application/vnd.jupyter.widget-view+json": {
       "version_major": 2,
       "version_minor": 0,
       "model_id": "01b0d5d26b044704b47ab86afc06a462"
      }
     },
     "metadata": {},
     "output_type": "display_data"
    },
    {
     "name": "stdout",
     "output_type": "stream",
     "text": [
      "Test Loss: 0.102524, Acc: 0.832608\n",
      "epoch 147\n",
      "Training...\n"
     ]
    },
    {
     "data": {
      "text/plain": "  0%|          | 0/1511 [00:00<?, ?it/s]",
      "application/vnd.jupyter.widget-view+json": {
       "version_major": 2,
       "version_minor": 0,
       "model_id": "0bc88f6dc6bc4fb28f335a9605d7b7c2"
      }
     },
     "metadata": {},
     "output_type": "display_data"
    },
    {
     "name": "stdout",
     "output_type": "stream",
     "text": [
      "Train Loss: 0.097582, Acc: 0.899661\n",
      "Testing...\n"
     ]
    },
    {
     "data": {
      "text/plain": "  0%|          | 0/130 [00:00<?, ?it/s]",
      "application/vnd.jupyter.widget-view+json": {
       "version_major": 2,
       "version_minor": 0,
       "model_id": "9ebe0263bc1e4952a27a01267e27fe5a"
      }
     },
     "metadata": {},
     "output_type": "display_data"
    },
    {
     "name": "stdout",
     "output_type": "stream",
     "text": [
      "Test Loss: 0.102387, Acc: 0.831156\n",
      "epoch 148\n",
      "Training...\n"
     ]
    },
    {
     "data": {
      "text/plain": "  0%|          | 0/1511 [00:00<?, ?it/s]",
      "application/vnd.jupyter.widget-view+json": {
       "version_major": 2,
       "version_minor": 0,
       "model_id": "abcdaa7c44384552879d44bbe55754af"
      }
     },
     "metadata": {},
     "output_type": "display_data"
    },
    {
     "name": "stdout",
     "output_type": "stream",
     "text": [
      "Train Loss: 0.097095, Acc: 0.908143\n",
      "Testing...\n"
     ]
    },
    {
     "data": {
      "text/plain": "  0%|          | 0/130 [00:00<?, ?it/s]",
      "application/vnd.jupyter.widget-view+json": {
       "version_major": 2,
       "version_minor": 0,
       "model_id": "61adedb0af874d679c12b497d51cba0f"
      }
     },
     "metadata": {},
     "output_type": "display_data"
    },
    {
     "name": "stdout",
     "output_type": "stream",
     "text": [
      "Test Loss: 0.102284, Acc: 0.835027\n",
      "epoch 149\n",
      "Training...\n"
     ]
    },
    {
     "data": {
      "text/plain": "  0%|          | 0/1511 [00:00<?, ?it/s]",
      "application/vnd.jupyter.widget-view+json": {
       "version_major": 2,
       "version_minor": 0,
       "model_id": "33b983fbb06347b49d4ceb5026d4d02f"
      }
     },
     "metadata": {},
     "output_type": "display_data"
    },
    {
     "name": "stdout",
     "output_type": "stream",
     "text": [
      "Train Loss: 0.097034, Acc: 0.909426\n",
      "Testing...\n"
     ]
    },
    {
     "data": {
      "text/plain": "  0%|          | 0/130 [00:00<?, ?it/s]",
      "application/vnd.jupyter.widget-view+json": {
       "version_major": 2,
       "version_minor": 0,
       "model_id": "7460281202644585b82c8a0e234fefc7"
      }
     },
     "metadata": {},
     "output_type": "display_data"
    },
    {
     "name": "stdout",
     "output_type": "stream",
     "text": [
      "Test Loss: 0.101725, Acc: 0.842283\n"
     ]
    }
   ],
   "source": [
    "  # --------------------训练过程---------------------------------\n",
    "\n",
    "if os.path.exists(checkPointPath + 'loss.npy'):\n",
    "    Loss_list = np.load(checkPointPath + 'loss.npy', allow_pickle=True)\n",
    "else:\n",
    "    Loss_list = []\n",
    "\n",
    "if os.path.exists(checkPointPath + 'accuracy.npy'):\n",
    "    Accuracy_list = np.load(checkPointPath + 'accuracy.npy', allow_pickle=True)\n",
    "else:\n",
    "    Accuracy_list = []\n",
    "\n",
    "for epoch in range(start_epoch, Epoch):\n",
    "    print('epoch {}'.format(epoch))\n",
    "    # training-----------------------------\n",
    "    model.train()\n",
    "    train_loss = 0.\n",
    "    train_acc = 0.\n",
    "    print('Training...')\n",
    "    trainBar = tqdm(total=len(train_dataloader))\n",
    "    for step, (batch_x, batch_y) in enumerate(train_dataloader):\n",
    "        if torch.cuda.is_available():\n",
    "            batch_x, batch_y = Variable(batch_x).cuda(), Variable(batch_y).cuda()\n",
    "        else:\n",
    "            batch_x, batch_y = Variable(batch_x), Variable(batch_y)\n",
    "        out = model(batch_x)\n",
    "        loss = loss_func(out, batch_y)\n",
    "        train_loss += loss.data\n",
    "        pred = torch.max(out, 1)[1]\n",
    "        train_correct = (pred == batch_y).sum()\n",
    "        train_acc += train_correct.data\n",
    "        optimizer.zero_grad()\n",
    "        loss.backward()\n",
    "        optimizer.step()\n",
    "        trainBar.update(1)\n",
    "    print('Train Loss: {:.6f}, Acc: {:.6f}'.format(train_loss / len(train_datasets), train_acc / len(train_datasets)))\n",
    "    trainBar.close()\n",
    "\n",
    "    # 断点保存\n",
    "    checkpoint = {\n",
    "        \"net\": model.state_dict(),\n",
    "        'optimizer':optimizer.state_dict(),\n",
    "        \"epoch\": epoch\n",
    "    }\n",
    "    torch.save(checkpoint, checkPointPath + 'VGG_best_%s.pth' %(str(epoch)))\n",
    "\n",
    "    # evaluation--------------------------------\n",
    "    model.eval()\n",
    "    eval_loss = 0.\n",
    "    eval_acc = 0.\n",
    "    print('Testing...')\n",
    "    testBar = tqdm(total=len(val_dataloader))\n",
    "    for batch_x, batch_y in val_dataloader:\n",
    "        with torch.no_grad():\n",
    "            if torch.cuda.is_available():\n",
    "                batch_x, batch_y = Variable(batch_x).cuda(), Variable(batch_y).cuda()\n",
    "            else:\n",
    "                batch_x, batch_y = Variable(batch_x), Variable(batch_y)\n",
    "        out = model(batch_x)\n",
    "        loss = loss_func(out, batch_y)\n",
    "        eval_loss += loss.data\n",
    "        pred = torch.max(out, 1)[1]\n",
    "        num_correct = (pred == batch_y).sum()\n",
    "        eval_acc += num_correct.data\n",
    "        testBar.update(1)\n",
    "    print('Test Loss: {:.6f}, Acc: {:.6f}'.format(eval_loss / len(val_datasets), eval_acc / len(val_datasets)))\n",
    "    testBar.close()\n",
    "\n",
    "    # 断点保存\n",
    "    if epoch >= len(Loss_list):\n",
    "        Loss_list = np.hstack((Loss_list, eval_loss.data.cpu() / len(val_datasets)))\n",
    "        Accuracy_list = np.hstack((Accuracy_list, 100 * eval_acc.data.cpu() / len(val_datasets)))\n",
    "    else:\n",
    "        Loss_list[epoch] = eval_loss.data.cpu() / len(val_datasets)\n",
    "        Accuracy_list[epoch] = 100 * eval_acc.data.cpu() / len(val_datasets)\n",
    "\n",
    "    np.save(checkPointPath + 'loss', Loss_list)\n",
    "    np.save(checkPointPath + 'accuracy', Accuracy_list)\n",
    "# 画图\n",
    "x1 = range(0, 10)\n",
    "x2 = range(0, 10)\n",
    "y1 = Accuracy_list\n",
    "y2 = Loss_list\n",
    "plt.subplot(2, 1, 1)\n",
    "plt.plot(x1, y1, 'o-')\n",
    "plt.title('Test accuracy vs. epoches')\n",
    "plt.ylabel('Test accuracy')\n",
    "plt.subplot(2, 1, 2)\n",
    "plt.plot(x2, y2, '.-')\n",
    "plt.xlabel('Test loss vs. epoches')\n",
    "plt.ylabel('Test loss')\n",
    "plt.show()\n",
    "# plt.savefig(\"accuracy_loss.jpg\")"
   ],
   "metadata": {
    "collapsed": false,
    "pycharm": {
     "name": "#%%\n",
     "is_executing": true
    }
   }
  },
  {
   "cell_type": "code",
   "execution_count": 8,
   "outputs": [
    {
     "name": "stdout",
     "output_type": "stream",
     "text": [
      "Testing...\n"
     ]
    },
    {
     "data": {
      "text/plain": "  0%|          | 0/647 [00:00<?, ?it/s]",
      "application/vnd.jupyter.widget-view+json": {
       "version_major": 2,
       "version_minor": 0,
       "model_id": "3875a17b07c3470498115cb22c5dbcce"
      }
     },
     "metadata": {},
     "output_type": "display_data"
    },
    {
     "name": "stdout",
     "output_type": "stream",
     "text": [
      "Test Loss: 0.101424, Acc: 0.839053\n"
     ]
    }
   ],
   "source": [
    "  # --------------------测试过程---------------------------------\n",
    "model.eval()\n",
    "eval_loss = 0.\n",
    "eval_acc = 0.\n",
    "print('Testing...')\n",
    "testBar = tqdm(total=len(test_dataloader))\n",
    "for batch_x, batch_y in test_dataloader:\n",
    "    with torch.no_grad():\n",
    "        if torch.cuda.is_available():\n",
    "            batch_x, batch_y = Variable(batch_x).cuda(), Variable(batch_y).cuda()\n",
    "        else:\n",
    "            batch_x, batch_y = Variable(batch_x), Variable(batch_y)\n",
    "    out = model(batch_x)\n",
    "    loss = loss_func(out, batch_y)\n",
    "    eval_loss += loss.data\n",
    "    pred = torch.max(out, 1)[1]\n",
    "    num_correct = (pred == batch_y).sum()\n",
    "    eval_acc += num_correct.data\n",
    "    testBar.update(1)\n",
    "print('Test Loss: {:.6f}, Acc: {:.6f}'.format(eval_loss / len(test_datasets), eval_acc / len(test_datasets)))\n",
    "testBar.close()\n"
   ],
   "metadata": {
    "collapsed": false,
    "pycharm": {
     "name": "#%%\n"
    }
   }
  },
  {
   "cell_type": "code",
   "execution_count": 2,
   "outputs": [
    {
     "data": {
      "text/plain": "<Figure size 432x288 with 2 Axes>",
      "image/png": "[encoded data removed]"
     },
     "metadata": {
      "needs_background": "light"
     },
     "output_type": "display_data"
    }
   ],
   "source": [
    "  # --------------------数据展示---------------------------------\n",
    "import numpy as np\n",
    "import matplotlib.pyplot as plt\n",
    "import os\n",
    "\n",
    "checkPointPath = '../DBtest/checkPoint/VGG_checkPoint/'\n",
    "\n",
    "if os.path.exists(checkPointPath + 'loss.npy'):\n",
    "    Loss_list = np.load(checkPointPath + 'loss.npy', allow_pickle=True)\n",
    "else:\n",
    "    Loss_list = []\n",
    "\n",
    "if os.path.exists(checkPointPath + 'accuracy.npy'):\n",
    "    Accuracy_list = np.load(checkPointPath + 'accuracy.npy', allow_pickle=True)\n",
    "else:\n",
    "    Accuracy_list = []\n",
    "\n",
    "x1 = range(0, len(Loss_list))\n",
    "x2 = range(0, len(Loss_list))\n",
    "\n",
    "f1 = np.polyfit(x1, Loss_list, 4)\n",
    "p1 = np.poly1d(f1)\n",
    "fitLoss_list = p1(x1)  #拟合y值\n",
    "\n",
    "f2 = np.polyfit(x1, Accuracy_list, 4)\n",
    "p2 = np.poly1d(f2)\n",
    "fitAccuracy_list = p2(x1)\n",
    "\n",
    "y1 = fitAccuracy_list\n",
    "y2 = fitLoss_list\n",
    "plt.subplot(2, 1, 1)\n",
    "plt.plot(x1, y1, '-')\n",
    "plt.title('Test accuracy vs. epoches')\n",
    "plt.ylabel('Test accuracy')\n",
    "plt.subplot(2, 1, 2)\n",
    "plt.plot(x2, y2, '-')\n",
    "plt.xlabel('Test loss vs. epoches')\n",
    "plt.ylabel('Test loss')\n",
    "plt.show()"
   ],
   "metadata": {
    "collapsed": false,
    "pycharm": {
     "name": "#%%\n"
    }
   }
  }
 ],
 "metadata": {
  "kernelspec": {
   "name": "python3",
   "language": "python",
   "display_name": "Python 3"
  },
  "language_info": {
   "codemirror_mode": {
    "name": "ipython",
    "version": 2
   },
   "file_extension": ".py",
   "mimetype": "text/x-python",
   "name": "python",
   "nbconvert_exporter": "python",
   "pygments_lexer": "ipython2",
   "version": "2.7.6"
  }
 },
 "nbformat": 4,
 "nbformat_minor": 0
}