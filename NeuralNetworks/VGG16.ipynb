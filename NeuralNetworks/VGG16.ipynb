{
 "cells": [
  {
   "cell_type": "code",
   "execution_count": 1,
   "metadata": {
    "collapsed": true
   },
   "outputs": [],
   "source": [
    "  # --------------------数据读取---------------------------------\n",
    "from __future__ import print_function, division\n",
    "\n",
    "import os\n",
    "\n",
    "import torch\n",
    "import torch.nn as nn\n",
    "import torch.optim as optim\n",
    "from torchvision import datasets, transforms\n",
    "from torch.autograd import Variable\n",
    "import numpy as np\n",
    "import matplotlib.pyplot as plt\n",
    "from tqdm.notebook import tqdm\n",
    "from torchsummary import summary\n",
    "\n",
    "from NeuralNetworks.VGG import VGG\n",
    "\n",
    "batch_size = 16\n",
    "learning_rate = 0.0002\n",
    "lastEpoch = 149\n",
    "Epoch = 150\n",
    "TRAIN = True\n",
    "dataPath = '../DBtest/img/'\n",
    "checkPointPath = '../DBtest/checkPoint/VGG_checkPoint/'\n",
    "\n",
    "train_transforms = transforms.Compose([\n",
    "    # transforms.RandomResizedCrop(224),\n",
    "    transforms.RandomHorizontalFlip(),\n",
    "    transforms.ToTensor(),\n",
    "    transforms.Normalize((.5, .5, .5), (.5, .5, .5))\n",
    "])\n",
    "test_transforms = transforms.Compose([\n",
    "    # transforms.Resize(256),\n",
    "    # transforms.RandomResizedCrop(224),\n",
    "    transforms.ToTensor(),\n",
    "    transforms.Normalize((.5, .5, .5), (.5, .5, .5))\n",
    "])\n",
    "val_transforms = transforms.Compose([\n",
    "    # transforms.Resize(256),\n",
    "    # transforms.RandomResizedCrop(224),\n",
    "    transforms.ToTensor(),\n",
    "    transforms.Normalize((.5, .5, .5), (.5, .5, .5))\n",
    "])\n",
    "\n",
    "train_dir = dataPath + 'train'\n",
    "train_datasets = datasets.ImageFolder(train_dir, transform=train_transforms)\n",
    "train_dataloader = torch.utils.data.DataLoader(train_datasets, batch_size=batch_size, shuffle=True)\n",
    "\n",
    "test_dir = dataPath + 'test'\n",
    "test_datasets = datasets.ImageFolder(test_dir, transform=test_transforms)\n",
    "test_dataloader = torch.utils.data.DataLoader(test_datasets, batch_size=batch_size, shuffle=True)\n",
    "\n",
    "val_dir = dataPath + 'val'\n",
    "val_datasets = datasets.ImageFolder(val_dir, transform=val_transforms)\n",
    "val_dataloader = torch.utils.data.DataLoader(val_datasets, batch_size=batch_size, shuffle=True)"
   ]
  },
  {
   "cell_type": "code",
   "execution_count": 2,
   "outputs": [
    {
     "name": "stdout",
     "output_type": "stream",
     "text": [
      "Using GPU\n"
     ]
    },
    {
     "name": "stderr",
     "output_type": "stream",
     "text": [
      "D:\\code\\python\\DeepLearning\\NeuralNetworks\\VGG.py:51: UserWarning: Implicit dimension choice for softmax has been deprecated. Change the call to include dim=X as an argument.\n",
      "  return F.softmax(self.fc3(out))\n"
     ]
    },
    {
     "name": "stdout",
     "output_type": "stream",
     "text": [
      "----------------------------------------------------------------\n",
      "        Layer (type)               Output Shape         Param #\n",
      "================================================================\n",
      "            Conv2d-1         [-1, 64, 224, 224]           1,728\n",
      "       BatchNorm2d-2         [-1, 64, 224, 224]             128\n",
      "              ReLU-3         [-1, 64, 224, 224]               0\n",
      "            Conv2d-4         [-1, 64, 224, 224]          36,864\n",
      "       BatchNorm2d-5         [-1, 64, 224, 224]             128\n",
      "              ReLU-6         [-1, 64, 224, 224]               0\n",
      "            Conv2d-7        [-1, 128, 112, 112]          73,728\n",
      "       BatchNorm2d-8        [-1, 128, 112, 112]             256\n",
      "              ReLU-9        [-1, 128, 112, 112]               0\n",
      "           Conv2d-10        [-1, 128, 112, 112]         147,456\n",
      "      BatchNorm2d-11        [-1, 128, 112, 112]             256\n",
      "             ReLU-12        [-1, 128, 112, 112]               0\n",
      "           Conv2d-13          [-1, 256, 56, 56]         294,912\n",
      "      BatchNorm2d-14          [-1, 256, 56, 56]             512\n",
      "             ReLU-15          [-1, 256, 56, 56]               0\n",
      "           Conv2d-16          [-1, 256, 56, 56]         589,824\n",
      "      BatchNorm2d-17          [-1, 256, 56, 56]             512\n",
      "             ReLU-18          [-1, 256, 56, 56]               0\n",
      "           Conv2d-19          [-1, 256, 56, 56]         589,824\n",
      "      BatchNorm2d-20          [-1, 256, 56, 56]             512\n",
      "             ReLU-21          [-1, 256, 56, 56]               0\n",
      "           Conv2d-22          [-1, 512, 28, 28]       1,179,648\n",
      "      BatchNorm2d-23          [-1, 512, 28, 28]           1,024\n",
      "             ReLU-24          [-1, 512, 28, 28]               0\n",
      "           Conv2d-25          [-1, 512, 28, 28]       2,359,296\n",
      "      BatchNorm2d-26          [-1, 512, 28, 28]           1,024\n",
      "             ReLU-27          [-1, 512, 28, 28]               0\n",
      "           Conv2d-28          [-1, 512, 28, 28]       2,359,296\n",
      "      BatchNorm2d-29          [-1, 512, 28, 28]           1,024\n",
      "             ReLU-30          [-1, 512, 28, 28]               0\n",
      "           Conv2d-31          [-1, 512, 14, 14]       2,359,296\n",
      "      BatchNorm2d-32          [-1, 512, 14, 14]           1,024\n",
      "             ReLU-33          [-1, 512, 14, 14]               0\n",
      "           Conv2d-34          [-1, 512, 14, 14]       2,359,296\n",
      "      BatchNorm2d-35          [-1, 512, 14, 14]           1,024\n",
      "             ReLU-36          [-1, 512, 14, 14]               0\n",
      "           Conv2d-37          [-1, 512, 14, 14]       2,359,296\n",
      "      BatchNorm2d-38          [-1, 512, 14, 14]           1,024\n",
      "             ReLU-39          [-1, 512, 14, 14]               0\n",
      "           Linear-40                 [-1, 4096]     102,764,544\n",
      "      BatchNorm1d-41                 [-1, 4096]           8,192\n",
      "           Linear-42                 [-1, 4096]      16,781,312\n",
      "      BatchNorm1d-43                 [-1, 4096]           8,192\n",
      "           Linear-44                   [-1, 10]          40,970\n",
      "================================================================\n",
      "Total params: 134,322,122\n",
      "Trainable params: 134,322,122\n",
      "Non-trainable params: 0\n",
      "----------------------------------------------------------------\n",
      "Input size (MB): 0.57\n",
      "Forward/backward pass size (MB): 310.20\n",
      "Params size (MB): 512.40\n",
      "Estimated Total Size (MB): 823.18\n",
      "----------------------------------------------------------------\n"
     ]
    }
   ],
   "source": [
    "  # --------------------模型定义---------------------------------\n",
    "\n",
    "def VGG_11():\n",
    "    return VGG([1, 1, 2, 2, 2], num_classes=10)\n",
    "\n",
    "def VGG_13():\n",
    "    return VGG([1, 1, 2, 2, 2], num_classes=10)\n",
    "\n",
    "def VGG_16():\n",
    "    return VGG([2, 2, 3, 3, 3], num_classes=10)\n",
    "\n",
    "def VGG_19():\n",
    "    return VGG([2, 2, 4, 4, 4], num_classes=10)\n",
    "\n",
    "model = VGG_16()\n",
    "if torch.cuda.is_available():\n",
    "    model.cuda()\n",
    "    print('Using GPU')\n",
    "summary(model, (3, 224, 224))\n",
    "\n",
    "\n",
    "# params = [{'params': md.parameters()} for md in model.children()\n",
    "#           if md in [model.classifier]]\n",
    "optimizer = optim.Adam(model.parameters(), lr=learning_rate)\n",
    "loss_func = nn.CrossEntropyLoss()\n",
    "start_epoch = 0\n",
    "\n",
    "completeCheckPointPath = checkPointPath + 'VGG_best_' + str(lastEpoch) + '.pth'\n",
    "if os.path.exists(completeCheckPointPath):\n",
    "    path_checkpoint = completeCheckPointPath  # 断点路径\n",
    "    checkpoint = torch.load(path_checkpoint)  # 加载断点\n",
    "    model.load_state_dict(checkpoint['net'])  # 加载模型可学习参数\n",
    "    optimizer.load_state_dict(checkpoint['optimizer'])  # 加载优化器参数\n",
    "    start_epoch = checkpoint['epoch'] + 1  # 设置开始的epoch"
   ],
   "metadata": {
    "collapsed": false,
    "pycharm": {
     "name": "#%%\n"
    }
   }
  },
  {
   "cell_type": "code",
   "execution_count": null,
   "outputs": [],
   "source": [
    "  # --------------------训练过程---------------------------------\n",
    "\n",
    "if os.path.exists(checkPointPath + 'loss.npy'):\n",
    "    Loss_list = np.load(checkPointPath + 'loss.npy', allow_pickle=True)\n",
    "else:\n",
    "    Loss_list = []\n",
    "\n",
    "if os.path.exists(checkPointPath + 'accuracy.npy'):\n",
    "    Accuracy_list = np.load(checkPointPath + 'accuracy.npy', allow_pickle=True)\n",
    "else:\n",
    "    Accuracy_list = []\n",
    "\n",
    "for epoch in range(start_epoch, Epoch):\n",
    "    print('epoch {}'.format(epoch))\n",
    "    # training-----------------------------\n",
    "    model.train()\n",
    "    train_loss = 0.\n",
    "    train_acc = 0.\n",
    "    print('Training...')\n",
    "    trainBar = tqdm(total=len(train_dataloader))\n",
    "    for step, (batch_x, batch_y) in enumerate(train_dataloader):\n",
    "        if torch.cuda.is_available():\n",
    "            batch_x, batch_y = Variable(batch_x).cuda(), Variable(batch_y).cuda()\n",
    "        else:\n",
    "            batch_x, batch_y = Variable(batch_x), Variable(batch_y)\n",
    "        out = model(batch_x)\n",
    "        loss = loss_func(out, batch_y)\n",
    "        train_loss += loss.data\n",
    "        pred = torch.max(out, 1)[1]\n",
    "        train_correct = (pred == batch_y).sum()\n",
    "        train_acc += train_correct.data\n",
    "        optimizer.zero_grad()\n",
    "        loss.backward()\n",
    "        optimizer.step()\n",
    "        trainBar.update(1)\n",
    "    print('Train Loss: {:.6f}, Acc: {:.6f}'.format(train_loss / len(train_datasets), train_acc / len(train_datasets)))\n",
    "    trainBar.close()\n",
    "\n",
    "    # 断点保存\n",
    "    checkpoint = {\n",
    "        \"net\": model.state_dict(),\n",
    "        'optimizer':optimizer.state_dict(),\n",
    "        \"epoch\": epoch\n",
    "    }\n",
    "    torch.save(checkpoint, checkPointPath + 'VGG_best_%s.pth' %(str(epoch)))\n",
    "\n",
    "    # evaluation--------------------------------\n",
    "    model.eval()\n",
    "    eval_loss = 0.\n",
    "    eval_acc = 0.\n",
    "    print('Testing...')\n",
    "    testBar = tqdm(total=len(val_dataloader))\n",
    "    for batch_x, batch_y in val_dataloader:\n",
    "        with torch.no_grad():\n",
    "            if torch.cuda.is_available():\n",
    "                batch_x, batch_y = Variable(batch_x).cuda(), Variable(batch_y).cuda()\n",
    "            else:\n",
    "                batch_x, batch_y = Variable(batch_x), Variable(batch_y)\n",
    "        out = model(batch_x)\n",
    "        loss = loss_func(out, batch_y)\n",
    "        eval_loss += loss.data\n",
    "        pred = torch.max(out, 1)[1]\n",
    "        num_correct = (pred == batch_y).sum()\n",
    "        eval_acc += num_correct.data\n",
    "        testBar.update(1)\n",
    "    print('Test Loss: {:.6f}, Acc: {:.6f}'.format(eval_loss / len(val_datasets), eval_acc / len(val_datasets)))\n",
    "    testBar.close()\n",
    "\n",
    "    # 断点保存\n",
    "    if epoch >= len(Loss_list):\n",
    "        Loss_list = np.hstack((Loss_list, eval_loss.data.cpu() / len(val_datasets)))\n",
    "        Accuracy_list = np.hstack((Accuracy_list, 100 * eval_acc.data.cpu() / len(val_datasets)))\n",
    "    else:\n",
    "        Loss_list[epoch] = eval_loss.data.cpu() / len(val_datasets)\n",
    "        Accuracy_list[epoch] = 100 * eval_acc.data.cpu() / len(val_datasets)\n",
    "\n",
    "    np.save(checkPointPath + 'loss', Loss_list)\n",
    "    np.save(checkPointPath + 'accuracy', Accuracy_list)\n",
    "# 画图\n",
    "x1 = range(0, 10)\n",
    "x2 = range(0, 10)\n",
    "y1 = Accuracy_list\n",
    "y2 = Loss_list\n",
    "plt.subplot(2, 1, 1)\n",
    "plt.plot(x1, y1, 'o-')\n",
    "plt.title('Test accuracy vs. epoches')\n",
    "plt.ylabel('Test accuracy')\n",
    "plt.subplot(2, 1, 2)\n",
    "plt.plot(x2, y2, '.-')\n",
    "plt.xlabel('Test loss vs. epoches')\n",
    "plt.ylabel('Test loss')\n",
    "plt.show()\n",
    "# plt.savefig(\"accuracy_loss.jpg\")"
   ],
   "metadata": {
    "collapsed": false,
    "pycharm": {
     "name": "#%%\n",
     "is_executing": true
    }
   }
  },
  {
   "cell_type": "code",
   "execution_count": 8,
   "outputs": [
    {
     "name": "stdout",
     "output_type": "stream",
     "text": [
      "Testing...\n"
     ]
    },
    {
     "data": {
      "text/plain": "  0%|          | 0/647 [00:00<?, ?it/s]",
      "application/vnd.jupyter.widget-view+json": {
       "version_major": 2,
       "version_minor": 0,
       "model_id": "3875a17b07c3470498115cb22c5dbcce"
      }
     },
     "metadata": {},
     "output_type": "display_data"
    },
    {
     "name": "stdout",
     "output_type": "stream",
     "text": [
      "Test Loss: 0.101424, Acc: 0.839053\n"
     ]
    }
   ],
   "source": [
    "  # --------------------测试过程---------------------------------\n",
    "model.eval()\n",
    "eval_loss = 0.\n",
    "eval_acc = 0.\n",
    "print('Testing...')\n",
    "testBar = tqdm(total=len(test_dataloader))\n",
    "for batch_x, batch_y in test_dataloader:\n",
    "    with torch.no_grad():\n",
    "        if torch.cuda.is_available():\n",
    "            batch_x, batch_y = Variable(batch_x).cuda(), Variable(batch_y).cuda()\n",
    "        else:\n",
    "            batch_x, batch_y = Variable(batch_x), Variable(batch_y)\n",
    "    out = model(batch_x)\n",
    "    loss = loss_func(out, batch_y)\n",
    "    eval_loss += loss.data\n",
    "    pred = torch.max(out, 1)[1]\n",
    "    num_correct = (pred == batch_y).sum()\n",
    "    eval_acc += num_correct.data\n",
    "    testBar.update(1)\n",
    "print('Test Loss: {:.6f}, Acc: {:.6f}'.format(eval_loss / len(test_datasets), eval_acc / len(test_datasets)))\n",
    "testBar.close()\n"
   ],
   "metadata": {
    "collapsed": false,
    "pycharm": {
     "name": "#%%\n"
    }
   }
  },
  {
   "cell_type": "code",
   "execution_count": 2,
   "outputs": [
    {
     "data": {
      "text/plain": "<Figure size 432x288 with 2 Axes>",
      "image/png": "[encoded data removed]"
     },
     "metadata": {
      "needs_background": "light"
     },
     "output_type": "display_data"
    }
   ],
   "source": [
    "  # --------------------数据展示---------------------------------\n",
    "import numpy as np\n",
    "import matplotlib.pyplot as plt\n",
    "import os\n",
    "\n",
    "checkPointPath = '../DBtest/checkPoint/VGG_checkPoint/'\n",
    "\n",
    "if os.path.exists(checkPointPath + 'loss.npy'):\n",
    "    Loss_list = np.load(checkPointPath + 'loss.npy', allow_pickle=True)\n",
    "else:\n",
    "    Loss_list = []\n",
    "\n",
    "if os.path.exists(checkPointPath + 'accuracy.npy'):\n",
    "    Accuracy_list = np.load(checkPointPath + 'accuracy.npy', allow_pickle=True)\n",
    "else:\n",
    "    Accuracy_list = []\n",
    "\n",
    "x1 = range(0, len(Loss_list))\n",
    "x2 = range(0, len(Loss_list))\n",
    "\n",
    "f1 = np.polyfit(x1, Loss_list, 4)\n",
    "p1 = np.poly1d(f1)\n",
    "fitLoss_list = p1(x1)  #拟合y值\n",
    "\n",
    "f2 = np.polyfit(x1, Accuracy_list, 4)\n",
    "p2 = np.poly1d(f2)\n",
    "fitAccuracy_list = p2(x1)\n",
    "\n",
    "y1 = fitAccuracy_list\n",
    "y2 = fitLoss_list\n",
    "plt.subplot(2, 1, 1)\n",
    "plt.plot(x1, y1, '-')\n",
    "plt.title('Test accuracy vs. epoches')\n",
    "plt.ylabel('Test accuracy')\n",
    "plt.subplot(2, 1, 2)\n",
    "plt.plot(x2, y2, '-')\n",
    "plt.xlabel('Test loss vs. epoches')\n",
    "plt.ylabel('Test loss')\n",
    "plt.show()"
   ],
   "metadata": {
    "collapsed": false,
    "pycharm": {
     "name": "#%%\n"
    }
   }
  }
 ],
 "metadata": {
  "kernelspec": {
   "name": "python3",
   "language": "python",
   "display_name": "Python 3"
  },
  "language_info": {
   "codemirror_mode": {
    "name": "ipython",
    "version": 2
   },
   "file_extension": ".py",
   "mimetype": "text/x-python",
   "name": "python",
   "nbconvert_exporter": "python",
   "pygments_lexer": "ipython2",
   "version": "2.7.6"
  }
 },
 "nbformat": 4,
 "nbformat_minor": 0
}