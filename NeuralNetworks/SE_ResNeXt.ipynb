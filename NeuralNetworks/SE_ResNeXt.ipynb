{
 "cells": [
  {
   "cell_type": "code",
   "execution_count": null,
   "metadata": {
    "collapsed": true,
    "pycharm": {
     "is_executing": true
    }
   },
   "outputs": [
    {
     "name": "stdout",
     "output_type": "stream",
     "text": [
      "Using GPU\n",
      "epoch 0\n",
      "Training...\n",
      "Train Loss: 0.051126, Acc: 0.337595\n",
      "Testing...\n",
      "Test Loss: 0.041854, Acc: 0.462990\n",
      "epoch 1\n",
      "Training...\n",
      "Train Loss: 0.033872, Acc: 0.547666\n",
      "Testing...\n",
      "Test Loss: 0.030208, Acc: 0.605709\n",
      "epoch 2\n",
      "Training...\n",
      "Train Loss: 0.026082, Acc: 0.652557\n",
      "Testing...\n",
      "Test Loss: 0.028208, Acc: 0.637639\n",
      "epoch 3\n",
      "Training...\n",
      "Train Loss: 0.021138, Acc: 0.721822\n",
      "Testing...\n",
      "Test Loss: 0.027320, Acc: 0.661829\n",
      "epoch 4\n",
      "Training...\n",
      "Train Loss: 0.017679, Acc: 0.770357\n",
      "Testing...\n",
      "Test Loss: 0.020513, Acc: 0.731011\n",
      "epoch 5\n",
      "Training...\n",
      "Train Loss: 0.015609, Acc: 0.800852\n",
      "Testing...\n",
      "Test Loss: 0.018785, Acc: 0.759071\n",
      "epoch 6\n",
      "Training...\n",
      "Train Loss: 0.013444, Acc: 0.829568\n",
      "Testing...\n",
      "Test Loss: 0.017610, Acc: 0.780842\n",
      "epoch 7\n",
      "Training...\n",
      "Train Loss: 0.012081, Acc: 0.849098\n",
      "Testing...\n",
      "Test Loss: 0.016796, Acc: 0.797775\n",
      "epoch 8\n",
      "Training...\n",
      "Train Loss: 0.010528, Acc: 0.868462\n",
      "Testing...\n",
      "Test Loss: 0.015543, Acc: 0.823899\n",
      "epoch 9\n",
      "Training...\n",
      "Train Loss: 0.009559, Acc: 0.882779\n",
      "Testing...\n",
      "Test Loss: 0.015305, Acc: 0.820029\n",
      "epoch 10\n",
      "Training...\n",
      "Train Loss: 0.008502, Acc: 0.899247\n",
      "Testing...\n",
      "Test Loss: 0.013253, Acc: 0.847605\n",
      "epoch 11\n",
      "Training...\n",
      "Train Loss: 0.007815, Acc: 0.906447\n",
      "Testing...\n",
      "Test Loss: 0.015441, Acc: 0.830189\n",
      "epoch 12\n",
      "Training...\n",
      "Train Loss: 0.006959, Acc: 0.915922\n",
      "Testing...\n",
      "Test Loss: 0.014754, Acc: 0.833091\n",
      "epoch 13\n",
      "Training...\n",
      "Train Loss: 0.006260, Acc: 0.926142\n",
      "Testing...\n",
      "Test Loss: 0.013835, Acc: 0.860184\n",
      "epoch 14\n",
      "Training...\n",
      "Train Loss: 0.005947, Acc: 0.931687\n",
      "Testing...\n",
      "Test Loss: 0.015960, Acc: 0.829705\n",
      "epoch 15\n",
      "Training...\n",
      "Train Loss: 0.005449, Acc: 0.936362\n",
      "Testing...\n",
      "Test Loss: 0.015088, Acc: 0.843735\n",
      "epoch 16\n",
      "Training...\n",
      "Train Loss: 0.005034, Acc: 0.939796\n",
      "Testing...\n",
      "Test Loss: 0.013692, Acc: 0.858249\n",
      "epoch 17\n",
      "Training...\n",
      "Train Loss: 0.004672, Acc: 0.946210\n",
      "Testing...\n",
      "Test Loss: 0.015036, Acc: 0.855830\n",
      "epoch 18\n",
      "Training...\n",
      "Train Loss: 0.004475, Acc: 0.948196\n",
      "Testing...\n",
      "Test Loss: 0.013273, Acc: 0.865506\n",
      "epoch 19\n",
      "Training...\n",
      "Train Loss: 0.004081, Acc: 0.952954\n",
      "Testing...\n",
      "Test Loss: 0.013359, Acc: 0.868408\n"
     ]
    },
    {
     "data": {
      "text/plain": "  0%|          | 0/756 [00:00<?, ?it/s]",
      "application/vnd.jupyter.widget-view+json": {
       "version_major": 2,
       "version_minor": 0,
       "model_id": "86b20661f6384d55a4a3bd0c57143f4b"
      }
     },
     "metadata": {},
     "output_type": "display_data"
    },
    {
     "data": {
      "text/plain": "  0%|          | 0/65 [00:00<?, ?it/s]",
      "application/vnd.jupyter.widget-view+json": {
       "version_major": 2,
       "version_minor": 0,
       "model_id": "6abb5c1a8c414b50a15bbdc93dc9e5e7"
      }
     },
     "metadata": {},
     "output_type": "display_data"
    },
    {
     "data": {
      "text/plain": "  0%|          | 0/756 [00:00<?, ?it/s]",
      "application/vnd.jupyter.widget-view+json": {
       "version_major": 2,
       "version_minor": 0,
       "model_id": "1038adf69a1042659ac2ad8883ba28e4"
      }
     },
     "metadata": {},
     "output_type": "display_data"
    },
    {
     "data": {
      "text/plain": "  0%|          | 0/65 [00:00<?, ?it/s]",
      "application/vnd.jupyter.widget-view+json": {
       "version_major": 2,
       "version_minor": 0,
       "model_id": "6333ac2b8dd444c5a9e642fe20c6f127"
      }
     },
     "metadata": {},
     "output_type": "display_data"
    },
    {
     "data": {
      "text/plain": "  0%|          | 0/756 [00:00<?, ?it/s]",
      "application/vnd.jupyter.widget-view+json": {
       "version_major": 2,
       "version_minor": 0,
       "model_id": "2b061ae54bb3428f8421aaa80bf9e32e"
      }
     },
     "metadata": {},
     "output_type": "display_data"
    },
    {
     "data": {
      "text/plain": "  0%|          | 0/65 [00:00<?, ?it/s]",
      "application/vnd.jupyter.widget-view+json": {
       "version_major": 2,
       "version_minor": 0,
       "model_id": "cfd47b80d5bb4655b7d73252831e63d4"
      }
     },
     "metadata": {},
     "output_type": "display_data"
    },
    {
     "data": {
      "text/plain": "  0%|          | 0/756 [00:00<?, ?it/s]",
      "application/vnd.jupyter.widget-view+json": {
       "version_major": 2,
       "version_minor": 0,
       "model_id": "3445b40062424780931d0de99839e11a"
      }
     },
     "metadata": {},
     "output_type": "display_data"
    },
    {
     "data": {
      "text/plain": "  0%|          | 0/65 [00:00<?, ?it/s]",
      "application/vnd.jupyter.widget-view+json": {
       "version_major": 2,
       "version_minor": 0,
       "model_id": "a9a8fb4cbf5a4008890c3cc60a676cbd"
      }
     },
     "metadata": {},
     "output_type": "display_data"
    },
    {
     "data": {
      "text/plain": "  0%|          | 0/756 [00:00<?, ?it/s]",
      "application/vnd.jupyter.widget-view+json": {
       "version_major": 2,
       "version_minor": 0,
       "model_id": "476e574c0ee54b5b9411b64604d68f7a"
      }
     },
     "metadata": {},
     "output_type": "display_data"
    },
    {
     "data": {
      "text/plain": "  0%|          | 0/65 [00:00<?, ?it/s]",
      "application/vnd.jupyter.widget-view+json": {
       "version_major": 2,
       "version_minor": 0,
       "model_id": "24329a4b208c4a738123a47226654e53"
      }
     },
     "metadata": {},
     "output_type": "display_data"
    },
    {
     "data": {
      "text/plain": "  0%|          | 0/756 [00:00<?, ?it/s]",
      "application/vnd.jupyter.widget-view+json": {
       "version_major": 2,
       "version_minor": 0,
       "model_id": "4a7871dbf7b54dd4b7fd3e9aa382d437"
      }
     },
     "metadata": {},
     "output_type": "display_data"
    },
    {
     "data": {
      "text/plain": "  0%|          | 0/65 [00:00<?, ?it/s]",
      "application/vnd.jupyter.widget-view+json": {
       "version_major": 2,
       "version_minor": 0,
       "model_id": "dff07915bf824a2d8f0c23ccc18ac729"
      }
     },
     "metadata": {},
     "output_type": "display_data"
    },
    {
     "data": {
      "text/plain": "  0%|          | 0/756 [00:00<?, ?it/s]",
      "application/vnd.jupyter.widget-view+json": {
       "version_major": 2,
       "version_minor": 0,
       "model_id": "c519e4b7c0134dbb9fcbd012b7f21277"
      }
     },
     "metadata": {},
     "output_type": "display_data"
    },
    {
     "data": {
      "text/plain": "  0%|          | 0/65 [00:00<?, ?it/s]",
      "application/vnd.jupyter.widget-view+json": {
       "version_major": 2,
       "version_minor": 0,
       "model_id": "821debb358004f59bf12b813f9968d8a"
      }
     },
     "metadata": {},
     "output_type": "display_data"
    },
    {
     "data": {
      "text/plain": "  0%|          | 0/756 [00:00<?, ?it/s]",
      "application/vnd.jupyter.widget-view+json": {
       "version_major": 2,
       "version_minor": 0,
       "model_id": "267f056ca5a845df886a89b449e55253"
      }
     },
     "metadata": {},
     "output_type": "display_data"
    },
    {
     "data": {
      "text/plain": "  0%|          | 0/65 [00:00<?, ?it/s]",
      "application/vnd.jupyter.widget-view+json": {
       "version_major": 2,
       "version_minor": 0,
       "model_id": "0b608ed1a5f74ecaaf49c90e3721dd96"
      }
     },
     "metadata": {},
     "output_type": "display_data"
    },
    {
     "data": {
      "text/plain": "  0%|          | 0/756 [00:00<?, ?it/s]",
      "application/vnd.jupyter.widget-view+json": {
       "version_major": 2,
       "version_minor": 0,
       "model_id": "30295b7869834a7d9f5dea8680343f7e"
      }
     },
     "metadata": {},
     "output_type": "display_data"
    },
    {
     "data": {
      "text/plain": "  0%|          | 0/65 [00:00<?, ?it/s]",
      "application/vnd.jupyter.widget-view+json": {
       "version_major": 2,
       "version_minor": 0,
       "model_id": "201256f06eb94a19b703714371dc4a69"
      }
     },
     "metadata": {},
     "output_type": "display_data"
    },
    {
     "data": {
      "text/plain": "  0%|          | 0/756 [00:00<?, ?it/s]",
      "application/vnd.jupyter.widget-view+json": {
       "version_major": 2,
       "version_minor": 0,
       "model_id": "99442d11cc2d4961b9f51846075478d6"
      }
     },
     "metadata": {},
     "output_type": "display_data"
    },
    {
     "data": {
      "text/plain": "  0%|          | 0/65 [00:00<?, ?it/s]",
      "application/vnd.jupyter.widget-view+json": {
       "version_major": 2,
       "version_minor": 0,
       "model_id": "19adbbb4caf34a2ba16ac8892bb2abcf"
      }
     },
     "metadata": {},
     "output_type": "display_data"
    },
    {
     "data": {
      "text/plain": "  0%|          | 0/756 [00:00<?, ?it/s]",
      "application/vnd.jupyter.widget-view+json": {
       "version_major": 2,
       "version_minor": 0,
       "model_id": "b90ecee0b592477d8040ebf0dff1a1ae"
      }
     },
     "metadata": {},
     "output_type": "display_data"
    },
    {
     "data": {
      "text/plain": "  0%|          | 0/65 [00:00<?, ?it/s]",
      "application/vnd.jupyter.widget-view+json": {
       "version_major": 2,
       "version_minor": 0,
       "model_id": "5715fcf3989c4678869b41bf110879f2"
      }
     },
     "metadata": {},
     "output_type": "display_data"
    },
    {
     "data": {
      "text/plain": "  0%|          | 0/756 [00:00<?, ?it/s]",
      "application/vnd.jupyter.widget-view+json": {
       "version_major": 2,
       "version_minor": 0,
       "model_id": "f6a6fbc160924cc2a6c97ddc61bf40e4"
      }
     },
     "metadata": {},
     "output_type": "display_data"
    },
    {
     "data": {
      "text/plain": "  0%|          | 0/65 [00:00<?, ?it/s]",
      "application/vnd.jupyter.widget-view+json": {
       "version_major": 2,
       "version_minor": 0,
       "model_id": "54eade1e0b9f47fa96bfdf60b1382266"
      }
     },
     "metadata": {},
     "output_type": "display_data"
    },
    {
     "data": {
      "text/plain": "  0%|          | 0/756 [00:00<?, ?it/s]",
      "application/vnd.jupyter.widget-view+json": {
       "version_major": 2,
       "version_minor": 0,
       "model_id": "a81d05d6a1fa435ea87a56c8ff0573b8"
      }
     },
     "metadata": {},
     "output_type": "display_data"
    },
    {
     "data": {
      "text/plain": "  0%|          | 0/65 [00:00<?, ?it/s]",
      "application/vnd.jupyter.widget-view+json": {
       "version_major": 2,
       "version_minor": 0,
       "model_id": "00136033b14946f8a317073233e2956c"
      }
     },
     "metadata": {},
     "output_type": "display_data"
    },
    {
     "data": {
      "text/plain": "  0%|          | 0/756 [00:00<?, ?it/s]",
      "application/vnd.jupyter.widget-view+json": {
       "version_major": 2,
       "version_minor": 0,
       "model_id": "a5d93e4ffaee4d72ae12aeef1f538853"
      }
     },
     "metadata": {},
     "output_type": "display_data"
    },
    {
     "data": {
      "text/plain": "  0%|          | 0/65 [00:00<?, ?it/s]",
      "application/vnd.jupyter.widget-view+json": {
       "version_major": 2,
       "version_minor": 0,
       "model_id": "6e4082d9ea314b1cbeb4173f2b1ee768"
      }
     },
     "metadata": {},
     "output_type": "display_data"
    },
    {
     "data": {
      "text/plain": "  0%|          | 0/756 [00:00<?, ?it/s]",
      "application/vnd.jupyter.widget-view+json": {
       "version_major": 2,
       "version_minor": 0,
       "model_id": "909f9eb31efd4e848a5d17540885a204"
      }
     },
     "metadata": {},
     "output_type": "display_data"
    },
    {
     "data": {
      "text/plain": "  0%|          | 0/65 [00:00<?, ?it/s]",
      "application/vnd.jupyter.widget-view+json": {
       "version_major": 2,
       "version_minor": 0,
       "model_id": "d41605b65c6a4b74a99091a64de431d8"
      }
     },
     "metadata": {},
     "output_type": "display_data"
    },
    {
     "data": {
      "text/plain": "  0%|          | 0/756 [00:00<?, ?it/s]",
      "application/vnd.jupyter.widget-view+json": {
       "version_major": 2,
       "version_minor": 0,
       "model_id": "475eb07c36db49c1bdfdf45fbf4cb925"
      }
     },
     "metadata": {},
     "output_type": "display_data"
    },
    {
     "data": {
      "text/plain": "  0%|          | 0/65 [00:00<?, ?it/s]",
      "application/vnd.jupyter.widget-view+json": {
       "version_major": 2,
       "version_minor": 0,
       "model_id": "b4629e0ec53f490ab3222722a4ecb7ec"
      }
     },
     "metadata": {},
     "output_type": "display_data"
    },
    {
     "data": {
      "text/plain": "  0%|          | 0/756 [00:00<?, ?it/s]",
      "application/vnd.jupyter.widget-view+json": {
       "version_major": 2,
       "version_minor": 0,
       "model_id": "637ef84c401e4310bb64fde4294f5bc2"
      }
     },
     "metadata": {},
     "output_type": "display_data"
    },
    {
     "data": {
      "text/plain": "  0%|          | 0/65 [00:00<?, ?it/s]",
      "application/vnd.jupyter.widget-view+json": {
       "version_major": 2,
       "version_minor": 0,
       "model_id": "4d74d263089e428e86d356a465dcbae4"
      }
     },
     "metadata": {},
     "output_type": "display_data"
    },
    {
     "data": {
      "text/plain": "  0%|          | 0/756 [00:00<?, ?it/s]",
      "application/vnd.jupyter.widget-view+json": {
       "version_major": 2,
       "version_minor": 0,
       "model_id": "8c38f9d5ed9144e5be675a23e117424d"
      }
     },
     "metadata": {},
     "output_type": "display_data"
    },
    {
     "data": {
      "text/plain": "  0%|          | 0/65 [00:00<?, ?it/s]",
      "application/vnd.jupyter.widget-view+json": {
       "version_major": 2,
       "version_minor": 0,
       "model_id": "8439d8cb127d454baed7bec88f7d6725"
      }
     },
     "metadata": {},
     "output_type": "display_data"
    },
    {
     "data": {
      "text/plain": "  0%|          | 0/756 [00:00<?, ?it/s]",
      "application/vnd.jupyter.widget-view+json": {
       "version_major": 2,
       "version_minor": 0,
       "model_id": "2c66b80a0b46485eb6ad5acab002f3dc"
      }
     },
     "metadata": {},
     "output_type": "display_data"
    },
    {
     "data": {
      "text/plain": "  0%|          | 0/65 [00:00<?, ?it/s]",
      "application/vnd.jupyter.widget-view+json": {
       "version_major": 2,
       "version_minor": 0,
       "model_id": "8b04f12e801f4477b098a29a43f991b0"
      }
     },
     "metadata": {},
     "output_type": "display_data"
    },
    {
     "data": {
      "text/plain": "  0%|          | 0/756 [00:00<?, ?it/s]",
      "application/vnd.jupyter.widget-view+json": {
       "version_major": 2,
       "version_minor": 0,
       "model_id": "ff97d6dbdef34eeaa88736702e4d1d2c"
      }
     },
     "metadata": {},
     "output_type": "display_data"
    },
    {
     "data": {
      "text/plain": "  0%|          | 0/65 [00:00<?, ?it/s]",
      "application/vnd.jupyter.widget-view+json": {
       "version_major": 2,
       "version_minor": 0,
       "model_id": "240be31251a744b6895c59e9af732db7"
      }
     },
     "metadata": {},
     "output_type": "display_data"
    }
   ],
   "source": [
    "from __future__ import print_function, division\n",
    "\n",
    "import os\n",
    "\n",
    "import torch\n",
    "import torch.nn as nn\n",
    "import torch.nn.functional as F\n",
    "import torch.optim as optim\n",
    "from torchvision import datasets, transforms\n",
    "from torch.autograd import Variable\n",
    "import numpy as np\n",
    "from torchvision import models\n",
    "import matplotlib.pyplot as plt\n",
    "from tqdm.notebook import tqdm\n",
    "import math\n",
    "\n",
    "batch_size = 32\n",
    "learning_rate = 0.0002\n",
    "Epoch = 20\n",
    "TRAIN = True\n",
    "dataPath = '../DBtest/img/'\n",
    "checkPointPath = '../DBtest/checkPoint/SEResNeXt_checkPoint/'\n",
    "\n",
    "train_transforms = transforms.Compose([\n",
    "    # transforms.RandomResizedCrop(224),\n",
    "    transforms.RandomHorizontalFlip(),\n",
    "    transforms.ToTensor(),\n",
    "    transforms.Normalize((.5, .5, .5), (.5, .5, .5))\n",
    "])\n",
    "test_transforms = transforms.Compose([\n",
    "    # transforms.Resize(256),\n",
    "    # transforms.RandomResizedCrop(224),\n",
    "    transforms.ToTensor(),\n",
    "    transforms.Normalize((.5, .5, .5), (.5, .5, .5))\n",
    "])\n",
    "val_transforms = transforms.Compose([\n",
    "    # transforms.Resize(256),\n",
    "    # transforms.RandomResizedCrop(224),\n",
    "    transforms.ToTensor(),\n",
    "    transforms.Normalize((.5, .5, .5), (.5, .5, .5))\n",
    "])\n",
    "\n",
    "train_dir = dataPath + 'train'\n",
    "train_datasets = datasets.ImageFolder(train_dir, transform=train_transforms)\n",
    "train_dataloader = torch.utils.data.DataLoader(train_datasets, batch_size=batch_size, shuffle=True)\n",
    "\n",
    "test_dir = dataPath + 'test'\n",
    "test_datasets = datasets.ImageFolder(test_dir, transform=test_transforms)\n",
    "test_dataloader = torch.utils.data.DataLoader(test_datasets, batch_size=batch_size, shuffle=True)\n",
    "\n",
    "val_dir = dataPath + 'val'\n",
    "val_datasets = datasets.ImageFolder(val_dir, transform=val_transforms)\n",
    "val_dataloader = torch.utils.data.DataLoader(val_datasets, batch_size=batch_size, shuffle=True)\n",
    "\n",
    "  # --------------------模型定义---------------------------------\n",
    "__all__ = ['SE_ResNeXt', 'se_resnext_50', 'se_resnext_101', 'se_resnext_152']\n",
    "\n",
    "\n",
    "class Bottleneck(nn.Module):\n",
    "    expansion = 4\n",
    "\n",
    "    def __init__(self, inplanes, planes, stride=1, downsample=None, num_group=32):\n",
    "        super(Bottleneck, self).__init__()\n",
    "        self.conv1 = nn.Conv2d(inplanes, planes * 2, kernel_size=1, bias=False)\n",
    "        self.bn1 = nn.BatchNorm2d(planes * 2)\n",
    "        self.conv2 = nn.Conv2d(planes * 2, planes * 2, kernel_size=3, stride=stride,\n",
    "                               padding=1, bias=False, groups=num_group)\n",
    "        self.bn2 = nn.BatchNorm2d(planes * 2)\n",
    "        self.conv3 = nn.Conv2d(planes * 2, planes * 4, kernel_size=1, bias=False)\n",
    "        self.bn3 = nn.BatchNorm2d(planes * 4)\n",
    "        self.relu = nn.ReLU(inplace=True)\n",
    "        self.downsample = downsample\n",
    "        self.stride = stride\n",
    "\n",
    "        if planes == 64:\n",
    "            self.globalAvgPool = nn.AvgPool2d(56, stride=1)\n",
    "        elif planes == 128:\n",
    "            self.globalAvgPool = nn.AvgPool2d(28, stride=1)\n",
    "        elif planes == 256:\n",
    "            self.globalAvgPool = nn.AvgPool2d(14, stride=1)\n",
    "        elif planes == 512:\n",
    "            self.globalAvgPool = nn.AvgPool2d(7, stride=1)\n",
    "        self.fc1 = nn.Linear(in_features=planes * 4, out_features=round(planes / 4))\n",
    "        self.fc2 = nn.Linear(in_features=round(planes / 4), out_features=planes * 4)\n",
    "        self.sigmoid = nn.Sigmoid()\n",
    "\n",
    "    def forward(self, x):\n",
    "        residual = x\n",
    "\n",
    "        out = self.conv1(x)\n",
    "        out = self.bn1(out)\n",
    "        out = self.relu(out)\n",
    "\n",
    "        out = self.conv2(out)\n",
    "        out = self.bn2(out)\n",
    "        out = self.relu(out)\n",
    "\n",
    "        out = self.conv3(out)\n",
    "        out = self.bn3(out)\n",
    "\n",
    "        if self.downsample is not None:\n",
    "            residual = self.downsample(x)\n",
    "\n",
    "        original_out = out\n",
    "        out = self.globalAvgPool(out)\n",
    "        out = out.view(out.size(0), -1)\n",
    "        out = self.fc1(out)\n",
    "        out = self.relu(out)\n",
    "        out = self.fc2(out)\n",
    "        out = self.sigmoid(out)\n",
    "        out = out.view(out.size(0), out.size(1), 1, 1)\n",
    "        out = out * original_out\n",
    "\n",
    "        out += residual\n",
    "        out = self.relu(out)\n",
    "\n",
    "        return out\n",
    "\n",
    "\n",
    "class SE_ResNeXt(nn.Module):\n",
    "\n",
    "    def __init__(self, block, layers, num_classes=10, num_group=32):\n",
    "        self.inplanes = 64\n",
    "        super(SE_ResNeXt, self).__init__()\n",
    "        self.conv1 = nn.Conv2d(3, 64, kernel_size=7, stride=2, padding=3,\n",
    "                               bias=False)\n",
    "        self.bn1 = nn.BatchNorm2d(64)\n",
    "        self.relu = nn.ReLU(inplace=True)\n",
    "        self.maxpool = nn.MaxPool2d(kernel_size=3, stride=2, padding=1)\n",
    "        self.layer1 = self._make_layer(block, 64, layers[0], num_group)\n",
    "        self.layer2 = self._make_layer(block, 128, layers[1], num_group, stride=2)\n",
    "        self.layer3 = self._make_layer(block, 256, layers[2], num_group, stride=2)\n",
    "        self.layer4 = self._make_layer(block, 512, layers[3], num_group, stride=2)\n",
    "        self.avgpool = nn.AvgPool2d(7, stride=1)\n",
    "        self.fc = nn.Linear(512 * block.expansion, num_classes)\n",
    "\n",
    "        for m in self.modules():\n",
    "            if isinstance(m, nn.Conv2d):\n",
    "                n = m.kernel_size[0] * m.kernel_size[1] * m.out_channels\n",
    "                m.weight.data.normal_(0, math.sqrt(2. / n))\n",
    "            elif isinstance(m, nn.BatchNorm2d):\n",
    "                m.weight.data.fill_(1)\n",
    "                m.bias.data.zero_()\n",
    "\n",
    "    def _make_layer(self, block, planes, blocks, num_group, stride=1):\n",
    "        downsample = None\n",
    "        if stride != 1 or self.inplanes != planes * block.expansion:\n",
    "            downsample = nn.Sequential(\n",
    "                nn.Conv2d(self.inplanes, planes * block.expansion,\n",
    "                          kernel_size=1, stride=stride, bias=False),\n",
    "                nn.BatchNorm2d(planes * block.expansion),\n",
    "            )\n",
    "\n",
    "        layers = []\n",
    "        layers.append(block(self.inplanes, planes, stride, downsample, num_group=num_group))\n",
    "        self.inplanes = planes * block.expansion\n",
    "        for i in range(1, blocks):\n",
    "            layers.append(block(self.inplanes, planes, num_group=num_group))\n",
    "\n",
    "        return nn.Sequential(*layers)\n",
    "\n",
    "    def forward(self, x):\n",
    "        x = self.conv1(x)\n",
    "        x = self.bn1(x)\n",
    "        x = self.relu(x)\n",
    "        x = self.maxpool(x)\n",
    "\n",
    "        x = self.layer1(x)\n",
    "        x = self.layer2(x)\n",
    "        x = self.layer3(x)\n",
    "        x = self.layer4(x)\n",
    "\n",
    "        x = self.avgpool(x)\n",
    "        x = x.view(x.size(0), -1)\n",
    "        x = self.fc(x)\n",
    "\n",
    "        return x\n",
    "\n",
    "\n",
    "def se_resnext_50(**kwargs):\n",
    "    \"\"\"Constructs a ResNeXt-50 model.\n",
    "    \"\"\"\n",
    "    model = SE_ResNeXt(Bottleneck, [3, 4, 6, 3], **kwargs)\n",
    "    return model\n",
    "\n",
    "\n",
    "def se_resnext_101(**kwargs):\n",
    "    \"\"\"Constructs a ResNeXt-101 model.\n",
    "    \"\"\"\n",
    "    model = SE_ResNeXt(Bottleneck, [3, 4, 23, 3], **kwargs)\n",
    "    return model\n",
    "\n",
    "\n",
    "def se_resnext_152(**kwargs):\n",
    "    \"\"\"Constructs a ResNeXt-152 model.\n",
    "    \"\"\"\n",
    "    model = SE_ResNeXt(Bottleneck, [3, 8, 36, 3], **kwargs)\n",
    "    return model\n",
    "\n",
    "  # --------------------训练过程---------------------------------\n",
    "model = se_resnext_50()\n",
    "if torch.cuda.is_available():\n",
    "    model.cuda()\n",
    "    print('Using GPU')\n",
    "\n",
    "params = [{'params': md.parameters()} for md in model.children()]\n",
    "optimizer = optim.Adam(model.parameters(), lr=learning_rate)\n",
    "loss_func = nn.CrossEntropyLoss()\n",
    "start_epoch = 0\n",
    "\n",
    "if os.path.exists(checkPointPath + 'SEResNeXt_best_17.pth'):\n",
    "    path_checkpoint = checkPointPath + 'SEResNeXt_best_17.pth'  # 断点路径\n",
    "    checkpoint = torch.load(path_checkpoint)  # 加载断点\n",
    "    model.load_state_dict(checkpoint['net'])  # 加载模型可学习参数\n",
    "    optimizer.load_state_dict(checkpoint['optimizer'])  # 加载优化器参数\n",
    "    start_epoch = checkpoint['epoch'] + 1  # 设置开始的epoch\n",
    "\n",
    "if TRAIN:\n",
    "  if os.path.exists(checkPointPath + 'loss.npy'):\n",
    "    Loss_list = np.load(checkPointPath + 'loss.npy', allow_pickle=True)\n",
    "  else:\n",
    "    Loss_list = []\n",
    "\n",
    "  if os.path.exists(checkPointPath + 'accuracy.npy'):\n",
    "    Accuracy_list = np.load(checkPointPath + 'accuracy.npy', allow_pickle=True)\n",
    "  else:\n",
    "    Accuracy_list = []\n",
    "\n",
    "  for epoch in range(start_epoch, Epoch):\n",
    "    print('epoch {}'.format(epoch))\n",
    "    # training-----------------------------\n",
    "    model.train()\n",
    "    train_loss = 0.\n",
    "    train_acc = 0.\n",
    "    print('Training...')\n",
    "    trainBar = tqdm(total=len(train_dataloader))\n",
    "    for step, (batch_x, batch_y) in enumerate(train_dataloader):\n",
    "      if torch.cuda.is_available():\n",
    "        batch_x, batch_y = Variable(batch_x).cuda(), Variable(batch_y).cuda()\n",
    "      else:\n",
    "        batch_x, batch_y = Variable(batch_x), Variable(batch_y)\n",
    "      out = model(batch_x)\n",
    "      loss = loss_func(out, batch_y)\n",
    "      train_loss += loss.data\n",
    "      pred = torch.max(out, 1)[1]\n",
    "      train_correct = (pred == batch_y).sum()\n",
    "      train_acc += train_correct.data\n",
    "      optimizer.zero_grad()\n",
    "      loss.backward()\n",
    "      optimizer.step()\n",
    "      trainBar.update(1)\n",
    "    print('Train Loss: {:.6f}, Acc: {:.6f}'.format(train_loss / len(train_datasets), train_acc / len(train_datasets)))\n",
    "    trainBar.close()\n",
    "\n",
    "    # 断点保存\n",
    "    checkpoint = {\n",
    "        \"net\": model.state_dict(),\n",
    "        'optimizer':optimizer.state_dict(),\n",
    "        \"epoch\": epoch\n",
    "    }\n",
    "    torch.save(checkpoint, checkPointPath + 'SEResNeXt_best_%s.pth' %(str(epoch)))\n",
    "\n",
    "    # evaluation--------------------------------\n",
    "    model.eval()\n",
    "    eval_loss = 0.\n",
    "    eval_acc = 0.\n",
    "    print('Testing...')\n",
    "    testBar = tqdm(total=len(val_dataloader))\n",
    "    for batch_x, batch_y in val_dataloader:\n",
    "      with torch.no_grad():\n",
    "        if torch.cuda.is_available():\n",
    "          batch_x, batch_y = Variable(batch_x).cuda(), Variable(batch_y).cuda()\n",
    "        else:\n",
    "          batch_x, batch_y = Variable(batch_x), Variable(batch_y)\n",
    "      out = model(batch_x)\n",
    "      loss = loss_func(out, batch_y)\n",
    "      eval_loss += loss.data\n",
    "      pred = torch.max(out, 1)[1]\n",
    "      num_correct = (pred == batch_y).sum()\n",
    "      eval_acc += num_correct.data\n",
    "      testBar.update(1)\n",
    "    print('Test Loss: {:.6f}, Acc: {:.6f}'.format(eval_loss / len(val_datasets), eval_acc / len(val_datasets)))\n",
    "    testBar.close()\n",
    "\n",
    "    # 断点保存\n",
    "    if epoch >= len(Loss_list):\n",
    "        Loss_list = np.hstack((Loss_list, eval_loss.data.cpu() / len(val_datasets)))\n",
    "        Accuracy_list = np.hstack((Accuracy_list, 100 * eval_acc.data.cpu() / len(val_datasets)))\n",
    "    else:\n",
    "        Loss_list[epoch] = eval_loss.data.cpu() / len(val_datasets)\n",
    "        Accuracy_list[epoch] = 100 * eval_acc.data.cpu() / len(val_datasets)\n",
    "\n",
    "    np.save(checkPointPath + 'loss', Loss_list)\n",
    "    np.save(checkPointPath + 'accuracy', Accuracy_list)\n",
    "\n",
    "  x1 = range(0, 10)\n",
    "  x2 = range(0, 10)\n",
    "  y1 = Accuracy_list\n",
    "  y2 = Loss_list\n",
    "  plt.subplot(2, 1, 1)\n",
    "  plt.plot(x1, y1, 'o-')\n",
    "  plt.title('Test accuracy vs. epoches')\n",
    "  plt.ylabel('Test accuracy')\n",
    "  plt.subplot(2, 1, 2)\n",
    "  plt.plot(x2, y2, '.-')\n",
    "  plt.xlabel('Test loss vs. epoches')\n",
    "  plt.ylabel('Test loss')\n",
    "  plt.show()\n",
    "  # plt.savefig(\"accuracy_loss.jpg\")\n",
    "\n",
    "else:\n",
    "  model.eval()\n",
    "  eval_loss = 0.\n",
    "  eval_acc = 0.\n",
    "  print('Testing...')\n",
    "  testBar = tqdm(total=len(test_dataloader))\n",
    "  for batch_x, batch_y in test_dataloader:\n",
    "    with torch.no_grad():\n",
    "      if torch.cuda.is_available():\n",
    "        batch_x, batch_y = Variable(batch_x).cuda(), Variable(batch_y).cuda()\n",
    "      else:\n",
    "        batch_x, batch_y = Variable(batch_x), Variable(batch_y)\n",
    "    out = model(batch_x)\n",
    "    loss = loss_func(out, batch_y)\n",
    "    eval_loss += loss.data\n",
    "    pred = torch.max(out, 1)[1]\n",
    "    num_correct = (pred == batch_y).sum()\n",
    "    eval_acc += num_correct.data\n",
    "    testBar.update(1)\n",
    "  print('Test Loss: {:.6f}, Acc: {:.6f}'.format(eval_loss / len(test_datasets), eval_acc / len(test_datasets)))\n",
    "  testBar.close()"
   ]
  }
 ],
 "metadata": {
  "kernelspec": {
   "display_name": "Python 3",
   "language": "python",
   "name": "python3"
  },
  "language_info": {
   "codemirror_mode": {
    "name": "ipython",
    "version": 2
   },
   "file_extension": ".py",
   "mimetype": "text/x-python",
   "name": "python",
   "nbconvert_exporter": "python",
   "pygments_lexer": "ipython2",
   "version": "2.7.6"
  }
 },
 "nbformat": 4,
 "nbformat_minor": 0
}