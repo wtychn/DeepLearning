{
 "cells": [
  {
   "cell_type": "code",
   "execution_count": null,
   "metadata": {
    "collapsed": true,
    "pycharm": {
     "is_executing": true
    }
   },
   "outputs": [
    {
     "name": "stdout",
     "output_type": "stream",
     "text": [
      "Using GPU\n",
      "epoch 20\n",
      "Training...\n"
     ]
    },
    {
     "data": {
      "text/plain": "  0%|          | 0/756 [00:00<?, ?it/s]",
      "application/vnd.jupyter.widget-view+json": {
       "version_major": 2,
       "version_minor": 0,
       "model_id": "39e257f717d844228bf6782bd388ed82"
      }
     },
     "metadata": {},
     "output_type": "display_data"
    },
    {
     "name": "stdout",
     "output_type": "stream",
     "text": [
      "Train Loss: 0.003920, Acc: 0.955396\n",
      "Testing...\n"
     ]
    },
    {
     "data": {
      "text/plain": "  0%|          | 0/65 [00:00<?, ?it/s]",
      "application/vnd.jupyter.widget-view+json": {
       "version_major": 2,
       "version_minor": 0,
       "model_id": "dd3e9047f468454daf8b8efebeac5be5"
      }
     },
     "metadata": {},
     "output_type": "display_data"
    },
    {
     "name": "stdout",
     "output_type": "stream",
     "text": [
      "Test Loss: 0.013221, Acc: 0.864538\n",
      "epoch 21\n",
      "Training...\n"
     ]
    },
    {
     "data": {
      "text/plain": "  0%|          | 0/756 [00:00<?, ?it/s]",
      "application/vnd.jupyter.widget-view+json": {
       "version_major": 2,
       "version_minor": 0,
       "model_id": "bb1f522793eb453296f36c51001323b9"
      }
     },
     "metadata": {},
     "output_type": "display_data"
    },
    {
     "name": "stdout",
     "output_type": "stream",
     "text": [
      "Train Loss: 0.003402, Acc: 0.963133\n",
      "Testing...\n"
     ]
    },
    {
     "data": {
      "text/plain": "  0%|          | 0/65 [00:00<?, ?it/s]",
      "application/vnd.jupyter.widget-view+json": {
       "version_major": 2,
       "version_minor": 0,
       "model_id": "d9920c381a944408b4031ec5f7d440c0"
      }
     },
     "metadata": {},
     "output_type": "display_data"
    },
    {
     "name": "stdout",
     "output_type": "stream",
     "text": [
      "Test Loss: 0.013665, Acc: 0.864054\n",
      "epoch 22\n",
      "Training...\n"
     ]
    },
    {
     "data": {
      "text/plain": "  0%|          | 0/756 [00:00<?, ?it/s]",
      "application/vnd.jupyter.widget-view+json": {
       "version_major": 2,
       "version_minor": 0,
       "model_id": "8767947fddc843bd9042a7a34453e6de"
      }
     },
     "metadata": {},
     "output_type": "display_data"
    },
    {
     "name": "stdout",
     "output_type": "stream",
     "text": [
      "Train Loss: 0.003441, Acc: 0.961685\n",
      "Testing...\n"
     ]
    },
    {
     "data": {
      "text/plain": "  0%|          | 0/65 [00:00<?, ?it/s]",
      "application/vnd.jupyter.widget-view+json": {
       "version_major": 2,
       "version_minor": 0,
       "model_id": "beb2d38e96764f8cb37b1422d9f2ed24"
      }
     },
     "metadata": {},
     "output_type": "display_data"
    },
    {
     "name": "stdout",
     "output_type": "stream",
     "text": [
      "Test Loss: 0.013462, Acc: 0.873730\n",
      "epoch 23\n",
      "Training...\n"
     ]
    },
    {
     "data": {
      "text/plain": "  0%|          | 0/756 [00:00<?, ?it/s]",
      "application/vnd.jupyter.widget-view+json": {
       "version_major": 2,
       "version_minor": 0,
       "model_id": "5a2dad3a9c1f4bbab552d9db6bfe4061"
      }
     },
     "metadata": {},
     "output_type": "display_data"
    },
    {
     "name": "stdout",
     "output_type": "stream",
     "text": [
      "Train Loss: 0.003149, Acc: 0.964995\n",
      "Testing...\n"
     ]
    },
    {
     "data": {
      "text/plain": "  0%|          | 0/65 [00:00<?, ?it/s]",
      "application/vnd.jupyter.widget-view+json": {
       "version_major": 2,
       "version_minor": 0,
       "model_id": "4671ce51959949acbfd02bebfbc3b0cf"
      }
     },
     "metadata": {},
     "output_type": "display_data"
    },
    {
     "name": "stdout",
     "output_type": "stream",
     "text": [
      "Test Loss: 0.013856, Acc: 0.876149\n",
      "epoch 24\n",
      "Training...\n"
     ]
    },
    {
     "data": {
      "text/plain": "  0%|          | 0/756 [00:00<?, ?it/s]",
      "application/vnd.jupyter.widget-view+json": {
       "version_major": 2,
       "version_minor": 0,
       "model_id": "039ff1aa870b4b5f8b6dec8d7e17fe6d"
      }
     },
     "metadata": {},
     "output_type": "display_data"
    },
    {
     "name": "stdout",
     "output_type": "stream",
     "text": [
      "Train Loss: 0.003080, Acc: 0.966816\n",
      "Testing...\n"
     ]
    },
    {
     "data": {
      "text/plain": "  0%|          | 0/65 [00:00<?, ?it/s]",
      "application/vnd.jupyter.widget-view+json": {
       "version_major": 2,
       "version_minor": 0,
       "model_id": "a4f2e0de421e4181b0a866f60c211564"
      }
     },
     "metadata": {},
     "output_type": "display_data"
    },
    {
     "name": "stdout",
     "output_type": "stream",
     "text": [
      "Test Loss: 0.013407, Acc: 0.879052\n",
      "epoch 25\n",
      "Training...\n"
     ]
    },
    {
     "data": {
      "text/plain": "  0%|          | 0/756 [00:00<?, ?it/s]",
      "application/vnd.jupyter.widget-view+json": {
       "version_major": 2,
       "version_minor": 0,
       "model_id": "98c4db35606141a18262f7a2a532d7f2"
      }
     },
     "metadata": {},
     "output_type": "display_data"
    },
    {
     "name": "stdout",
     "output_type": "stream",
     "text": [
      "Train Loss: 0.003108, Acc: 0.966526\n",
      "Testing...\n"
     ]
    },
    {
     "data": {
      "text/plain": "  0%|          | 0/65 [00:00<?, ?it/s]",
      "application/vnd.jupyter.widget-view+json": {
       "version_major": 2,
       "version_minor": 0,
       "model_id": "d8e88e354c094e19b834af12e29f59a2"
      }
     },
     "metadata": {},
     "output_type": "display_data"
    },
    {
     "name": "stdout",
     "output_type": "stream",
     "text": [
      "Test Loss: 0.013215, Acc: 0.879536\n",
      "epoch 26\n",
      "Training...\n"
     ]
    },
    {
     "data": {
      "text/plain": "  0%|          | 0/756 [00:00<?, ?it/s]",
      "application/vnd.jupyter.widget-view+json": {
       "version_major": 2,
       "version_minor": 0,
       "model_id": "f3b0758e6f8547828581c289f0a0e292"
      }
     },
     "metadata": {},
     "output_type": "display_data"
    },
    {
     "name": "stdout",
     "output_type": "stream",
     "text": [
      "Train Loss: 0.002622, Acc: 0.972029\n",
      "Testing...\n"
     ]
    },
    {
     "data": {
      "text/plain": "  0%|          | 0/65 [00:00<?, ?it/s]",
      "application/vnd.jupyter.widget-view+json": {
       "version_major": 2,
       "version_minor": 0,
       "model_id": "a9ed8ab1b8a3424585c0c3a7ac942c0d"
      }
     },
     "metadata": {},
     "output_type": "display_data"
    },
    {
     "name": "stdout",
     "output_type": "stream",
     "text": [
      "Test Loss: 0.014466, Acc: 0.881471\n",
      "epoch 27\n",
      "Training...\n"
     ]
    },
    {
     "data": {
      "text/plain": "  0%|          | 0/756 [00:00<?, ?it/s]",
      "application/vnd.jupyter.widget-view+json": {
       "version_major": 2,
       "version_minor": 0,
       "model_id": "09e07330b00f46808c4c0f5c167135bc"
      }
     },
     "metadata": {},
     "output_type": "display_data"
    },
    {
     "name": "stdout",
     "output_type": "stream",
     "text": [
      "Train Loss: 0.002744, Acc: 0.969174\n",
      "Testing...\n"
     ]
    },
    {
     "data": {
      "text/plain": "  0%|          | 0/65 [00:00<?, ?it/s]",
      "application/vnd.jupyter.widget-view+json": {
       "version_major": 2,
       "version_minor": 0,
       "model_id": "99b5629a44a8498c9a93d04eea6a9980"
      }
     },
     "metadata": {},
     "output_type": "display_data"
    },
    {
     "name": "stdout",
     "output_type": "stream",
     "text": [
      "Test Loss: 0.013889, Acc: 0.880019\n",
      "epoch 28\n",
      "Training...\n"
     ]
    },
    {
     "data": {
      "text/plain": "  0%|          | 0/756 [00:00<?, ?it/s]",
      "application/vnd.jupyter.widget-view+json": {
       "version_major": 2,
       "version_minor": 0,
       "model_id": "9c469b6c30b14fda80c0097f5d7ef9fb"
      }
     },
     "metadata": {},
     "output_type": "display_data"
    },
    {
     "name": "stdout",
     "output_type": "stream",
     "text": [
      "Train Loss: 0.002417, Acc: 0.974098\n",
      "Testing...\n"
     ]
    },
    {
     "data": {
      "text/plain": "  0%|          | 0/65 [00:00<?, ?it/s]",
      "application/vnd.jupyter.widget-view+json": {
       "version_major": 2,
       "version_minor": 0,
       "model_id": "9258faf9df764b6e91e77744d08a978e"
      }
     },
     "metadata": {},
     "output_type": "display_data"
    },
    {
     "name": "stdout",
     "output_type": "stream",
     "text": [
      "Test Loss: 0.018356, Acc: 0.852443\n",
      "epoch 29\n",
      "Training...\n"
     ]
    },
    {
     "data": {
      "text/plain": "  0%|          | 0/756 [00:00<?, ?it/s]",
      "application/vnd.jupyter.widget-view+json": {
       "version_major": 2,
       "version_minor": 0,
       "model_id": "3038a69716244569b6e1439e6e6035da"
      }
     },
     "metadata": {},
     "output_type": "display_data"
    },
    {
     "name": "stdout",
     "output_type": "stream",
     "text": [
      "Train Loss: 0.002543, Acc: 0.971946\n",
      "Testing...\n"
     ]
    },
    {
     "data": {
      "text/plain": "  0%|          | 0/65 [00:00<?, ?it/s]",
      "application/vnd.jupyter.widget-view+json": {
       "version_major": 2,
       "version_minor": 0,
       "model_id": "70ac524293584f7dbdc63be7315f22b5"
      }
     },
     "metadata": {},
     "output_type": "display_data"
    },
    {
     "name": "stdout",
     "output_type": "stream",
     "text": [
      "Test Loss: 0.013821, Acc: 0.885825\n",
      "epoch 30\n",
      "Training...\n"
     ]
    },
    {
     "data": {
      "text/plain": "  0%|          | 0/756 [00:00<?, ?it/s]",
      "application/vnd.jupyter.widget-view+json": {
       "version_major": 2,
       "version_minor": 0,
       "model_id": "cd0a021568914640824b79d505b67619"
      }
     },
     "metadata": {},
     "output_type": "display_data"
    },
    {
     "name": "stdout",
     "output_type": "stream",
     "text": [
      "Train Loss: 0.002487, Acc: 0.973353\n",
      "Testing...\n"
     ]
    },
    {
     "data": {
      "text/plain": "  0%|          | 0/65 [00:00<?, ?it/s]",
      "application/vnd.jupyter.widget-view+json": {
       "version_major": 2,
       "version_minor": 0,
       "model_id": "a625f7f6ceba4cf292a5557cbac6b69a"
      }
     },
     "metadata": {},
     "output_type": "display_data"
    },
    {
     "name": "stdout",
     "output_type": "stream",
     "text": [
      "Test Loss: 0.016171, Acc: 0.868892\n",
      "epoch 31\n",
      "Training...\n"
     ]
    },
    {
     "data": {
      "text/plain": "  0%|          | 0/756 [00:00<?, ?it/s]",
      "application/vnd.jupyter.widget-view+json": {
       "version_major": 2,
       "version_minor": 0,
       "model_id": "befe2f9c672b4a30a1d1b49fa6e51e7b"
      }
     },
     "metadata": {},
     "output_type": "display_data"
    },
    {
     "name": "stdout",
     "output_type": "stream",
     "text": [
      "Train Loss: 0.002206, Acc: 0.977822\n",
      "Testing...\n"
     ]
    },
    {
     "data": {
      "text/plain": "  0%|          | 0/65 [00:00<?, ?it/s]",
      "application/vnd.jupyter.widget-view+json": {
       "version_major": 2,
       "version_minor": 0,
       "model_id": "a3d2ad2f6fe34275b90744a1883df641"
      }
     },
     "metadata": {},
     "output_type": "display_data"
    },
    {
     "name": "stdout",
     "output_type": "stream",
     "text": [
      "Test Loss: 0.012618, Acc: 0.893566\n",
      "epoch 32\n",
      "Training...\n"
     ]
    },
    {
     "data": {
      "text/plain": "  0%|          | 0/756 [00:00<?, ?it/s]",
      "application/vnd.jupyter.widget-view+json": {
       "version_major": 2,
       "version_minor": 0,
       "model_id": "938dc1e495b54f96a178fb3e0de6387b"
      }
     },
     "metadata": {},
     "output_type": "display_data"
    },
    {
     "name": "stdout",
     "output_type": "stream",
     "text": [
      "Train Loss: 0.002097, Acc: 0.978856\n",
      "Testing...\n"
     ]
    },
    {
     "data": {
      "text/plain": "  0%|          | 0/65 [00:00<?, ?it/s]",
      "application/vnd.jupyter.widget-view+json": {
       "version_major": 2,
       "version_minor": 0,
       "model_id": "c033f594bf0d4d7b89583e2efc795554"
      }
     },
     "metadata": {},
     "output_type": "display_data"
    },
    {
     "name": "stdout",
     "output_type": "stream",
     "text": [
      "Test Loss: 0.015876, Acc: 0.876149\n",
      "epoch 33\n",
      "Training...\n"
     ]
    },
    {
     "data": {
      "text/plain": "  0%|          | 0/756 [00:00<?, ?it/s]",
      "application/vnd.jupyter.widget-view+json": {
       "version_major": 2,
       "version_minor": 0,
       "model_id": "8160342310c14be9bceaea2b16e0642e"
      }
     },
     "metadata": {},
     "output_type": "display_data"
    },
    {
     "name": "stdout",
     "output_type": "stream",
     "text": [
      "Train Loss: 0.002103, Acc: 0.978898\n",
      "Testing...\n"
     ]
    },
    {
     "data": {
      "text/plain": "  0%|          | 0/65 [00:00<?, ?it/s]",
      "application/vnd.jupyter.widget-view+json": {
       "version_major": 2,
       "version_minor": 0,
       "model_id": "5af61598c51144f184255592963a7d5a"
      }
     },
     "metadata": {},
     "output_type": "display_data"
    },
    {
     "name": "stdout",
     "output_type": "stream",
     "text": [
      "Test Loss: 0.014881, Acc: 0.874698\n",
      "epoch 34\n",
      "Training...\n"
     ]
    },
    {
     "data": {
      "text/plain": "  0%|          | 0/756 [00:00<?, ?it/s]",
      "application/vnd.jupyter.widget-view+json": {
       "version_major": 2,
       "version_minor": 0,
       "model_id": "adaaa4f59cc24eb18598041a382e12b4"
      }
     },
     "metadata": {},
     "output_type": "display_data"
    },
    {
     "name": "stdout",
     "output_type": "stream",
     "text": [
      "Train Loss: 0.002146, Acc: 0.977863\n",
      "Testing...\n"
     ]
    },
    {
     "data": {
      "text/plain": "  0%|          | 0/65 [00:00<?, ?it/s]",
      "application/vnd.jupyter.widget-view+json": {
       "version_major": 2,
       "version_minor": 0,
       "model_id": "8393d5ace3f746d0b1239008d0f9dfa9"
      }
     },
     "metadata": {},
     "output_type": "display_data"
    },
    {
     "name": "stdout",
     "output_type": "stream",
     "text": [
      "Test Loss: 0.013762, Acc: 0.879536\n",
      "epoch 35\n",
      "Training...\n"
     ]
    },
    {
     "data": {
      "text/plain": "  0%|          | 0/756 [00:00<?, ?it/s]",
      "application/vnd.jupyter.widget-view+json": {
       "version_major": 2,
       "version_minor": 0,
       "model_id": "a2e729fd80834120a0c29a4470893dde"
      }
     },
     "metadata": {},
     "output_type": "display_data"
    },
    {
     "name": "stdout",
     "output_type": "stream",
     "text": [
      "Train Loss: 0.001879, Acc: 0.979518\n",
      "Testing...\n"
     ]
    },
    {
     "data": {
      "text/plain": "  0%|          | 0/65 [00:00<?, ?it/s]",
      "application/vnd.jupyter.widget-view+json": {
       "version_major": 2,
       "version_minor": 0,
       "model_id": "17b8a52d04504c18bd1ffb55dfc7decc"
      }
     },
     "metadata": {},
     "output_type": "display_data"
    },
    {
     "name": "stdout",
     "output_type": "stream",
     "text": [
      "Test Loss: 0.015966, Acc: 0.882922\n",
      "epoch 36\n",
      "Training...\n"
     ]
    },
    {
     "data": {
      "text/plain": "  0%|          | 0/756 [00:00<?, ?it/s]",
      "application/vnd.jupyter.widget-view+json": {
       "version_major": 2,
       "version_minor": 0,
       "model_id": "7f9f07ead29a4cb1b360187a07cd4276"
      }
     },
     "metadata": {},
     "output_type": "display_data"
    },
    {
     "name": "stdout",
     "output_type": "stream",
     "text": [
      "Train Loss: 0.002087, Acc: 0.978898\n",
      "Testing...\n"
     ]
    },
    {
     "data": {
      "text/plain": "  0%|          | 0/65 [00:00<?, ?it/s]",
      "application/vnd.jupyter.widget-view+json": {
       "version_major": 2,
       "version_minor": 0,
       "model_id": "9a7ff952035546c594b18fc4e358e8bc"
      }
     },
     "metadata": {},
     "output_type": "display_data"
    },
    {
     "name": "stdout",
     "output_type": "stream",
     "text": [
      "Test Loss: 0.014461, Acc: 0.877600\n",
      "epoch 37\n",
      "Training...\n"
     ]
    },
    {
     "data": {
      "text/plain": "  0%|          | 0/756 [00:00<?, ?it/s]",
      "application/vnd.jupyter.widget-view+json": {
       "version_major": 2,
       "version_minor": 0,
       "model_id": "0371b2ddbadc4be2b65f1271d9a597a6"
      }
     },
     "metadata": {},
     "output_type": "display_data"
    },
    {
     "name": "stdout",
     "output_type": "stream",
     "text": [
      "Train Loss: 0.001816, Acc: 0.981256\n",
      "Testing...\n"
     ]
    },
    {
     "data": {
      "text/plain": "  0%|          | 0/65 [00:00<?, ?it/s]",
      "application/vnd.jupyter.widget-view+json": {
       "version_major": 2,
       "version_minor": 0,
       "model_id": "4b62e362de59420d8e510d83b0c57959"
      }
     },
     "metadata": {},
     "output_type": "display_data"
    },
    {
     "name": "stdout",
     "output_type": "stream",
     "text": [
      "Test Loss: 0.015949, Acc: 0.877600\n",
      "epoch 38\n",
      "Training...\n"
     ]
    },
    {
     "data": {
      "text/plain": "  0%|          | 0/756 [00:00<?, ?it/s]",
      "application/vnd.jupyter.widget-view+json": {
       "version_major": 2,
       "version_minor": 0,
       "model_id": "fcd8bb9cadce4457b44f61c983a6852a"
      }
     },
     "metadata": {},
     "output_type": "display_data"
    },
    {
     "name": "stdout",
     "output_type": "stream",
     "text": [
      "Train Loss: 0.001638, Acc: 0.983946\n",
      "Testing...\n"
     ]
    },
    {
     "data": {
      "text/plain": "  0%|          | 0/65 [00:00<?, ?it/s]",
      "application/vnd.jupyter.widget-view+json": {
       "version_major": 2,
       "version_minor": 0,
       "model_id": "773d60bcb9094cb18544cd3e4ed6b830"
      }
     },
     "metadata": {},
     "output_type": "display_data"
    },
    {
     "name": "stdout",
     "output_type": "stream",
     "text": [
      "Test Loss: 0.013502, Acc: 0.890179\n",
      "epoch 39\n",
      "Training...\n"
     ]
    },
    {
     "data": {
      "text/plain": "  0%|          | 0/756 [00:00<?, ?it/s]",
      "application/vnd.jupyter.widget-view+json": {
       "version_major": 2,
       "version_minor": 0,
       "model_id": "fcc01f4309ab41cfbbeffd1c84ce3e36"
      }
     },
     "metadata": {},
     "output_type": "display_data"
    },
    {
     "name": "stdout",
     "output_type": "stream",
     "text": [
      "Train Loss: 0.001873, Acc: 0.980967\n",
      "Testing...\n"
     ]
    },
    {
     "data": {
      "text/plain": "  0%|          | 0/65 [00:00<?, ?it/s]",
      "application/vnd.jupyter.widget-view+json": {
       "version_major": 2,
       "version_minor": 0,
       "model_id": "7ce88395e12d4fa6bc162a364c1fbc7f"
      }
     },
     "metadata": {},
     "output_type": "display_data"
    },
    {
     "name": "stdout",
     "output_type": "stream",
     "text": [
      "Test Loss: 0.015853, Acc: 0.882438\n",
      "epoch 40\n",
      "Training...\n"
     ]
    },
    {
     "data": {
      "text/plain": "  0%|          | 0/756 [00:00<?, ?it/s]",
      "application/vnd.jupyter.widget-view+json": {
       "version_major": 2,
       "version_minor": 0,
       "model_id": "f4bf0b3c67184f4fbf92cb44ae3425f0"
      }
     },
     "metadata": {},
     "output_type": "display_data"
    },
    {
     "name": "stdout",
     "output_type": "stream",
     "text": [
      "Train Loss: 0.001688, Acc: 0.982746\n",
      "Testing...\n"
     ]
    },
    {
     "data": {
      "text/plain": "  0%|          | 0/65 [00:00<?, ?it/s]",
      "application/vnd.jupyter.widget-view+json": {
       "version_major": 2,
       "version_minor": 0,
       "model_id": "6fd3d6986e5944448623e58795a2af55"
      }
     },
     "metadata": {},
     "output_type": "display_data"
    },
    {
     "name": "stdout",
     "output_type": "stream",
     "text": [
      "Test Loss: 0.015025, Acc: 0.885825\n",
      "epoch 41\n",
      "Training...\n"
     ]
    },
    {
     "data": {
      "text/plain": "  0%|          | 0/756 [00:00<?, ?it/s]",
      "application/vnd.jupyter.widget-view+json": {
       "version_major": 2,
       "version_minor": 0,
       "model_id": "7ea454e70bd54e4389a15b64f818f932"
      }
     },
     "metadata": {},
     "output_type": "display_data"
    },
    {
     "name": "stdout",
     "output_type": "stream",
     "text": [
      "Train Loss: 0.001742, Acc: 0.981835\n",
      "Testing...\n"
     ]
    },
    {
     "data": {
      "text/plain": "  0%|          | 0/65 [00:00<?, ?it/s]",
      "application/vnd.jupyter.widget-view+json": {
       "version_major": 2,
       "version_minor": 0,
       "model_id": "9c98f770bfca484595bf2c408cd73896"
      }
     },
     "metadata": {},
     "output_type": "display_data"
    },
    {
     "name": "stdout",
     "output_type": "stream",
     "text": [
      "Test Loss: 0.016745, Acc: 0.880019\n",
      "epoch 42\n",
      "Training...\n"
     ]
    },
    {
     "data": {
      "text/plain": "  0%|          | 0/756 [00:00<?, ?it/s]",
      "application/vnd.jupyter.widget-view+json": {
       "version_major": 2,
       "version_minor": 0,
       "model_id": "e3b216476ac145b398de6a978c5a681a"
      }
     },
     "metadata": {},
     "output_type": "display_data"
    },
    {
     "name": "stdout",
     "output_type": "stream",
     "text": [
      "Train Loss: 0.001446, Acc: 0.985890\n",
      "Testing...\n"
     ]
    },
    {
     "data": {
      "text/plain": "  0%|          | 0/65 [00:00<?, ?it/s]",
      "application/vnd.jupyter.widget-view+json": {
       "version_major": 2,
       "version_minor": 0,
       "model_id": "2ed90476e3c14f84aeef1112c4ac2e86"
      }
     },
     "metadata": {},
     "output_type": "display_data"
    },
    {
     "name": "stdout",
     "output_type": "stream",
     "text": [
      "Test Loss: 0.014775, Acc: 0.885825\n",
      "epoch 43\n",
      "Training...\n"
     ]
    },
    {
     "data": {
      "text/plain": "  0%|          | 0/756 [00:00<?, ?it/s]",
      "application/vnd.jupyter.widget-view+json": {
       "version_major": 2,
       "version_minor": 0,
       "model_id": "016f5b8c11c74162b814ed0d59c39d34"
      }
     },
     "metadata": {},
     "output_type": "display_data"
    },
    {
     "name": "stdout",
     "output_type": "stream",
     "text": [
      "Train Loss: 0.001464, Acc: 0.985518\n",
      "Testing...\n"
     ]
    },
    {
     "data": {
      "text/plain": "  0%|          | 0/65 [00:00<?, ?it/s]",
      "application/vnd.jupyter.widget-view+json": {
       "version_major": 2,
       "version_minor": 0,
       "model_id": "f7b5a04ac3dc467897f8fa96e314979b"
      }
     },
     "metadata": {},
     "output_type": "display_data"
    },
    {
     "name": "stdout",
     "output_type": "stream",
     "text": [
      "Test Loss: 0.016298, Acc: 0.887276\n",
      "epoch 44\n",
      "Training...\n"
     ]
    },
    {
     "data": {
      "text/plain": "  0%|          | 0/756 [00:00<?, ?it/s]",
      "application/vnd.jupyter.widget-view+json": {
       "version_major": 2,
       "version_minor": 0,
       "model_id": "0954bcdc0dd04eb1a19c028e419ed671"
      }
     },
     "metadata": {},
     "output_type": "display_data"
    },
    {
     "name": "stdout",
     "output_type": "stream",
     "text": [
      "Train Loss: 0.001655, Acc: 0.982663\n",
      "Testing...\n"
     ]
    },
    {
     "data": {
      "text/plain": "  0%|          | 0/65 [00:00<?, ?it/s]",
      "application/vnd.jupyter.widget-view+json": {
       "version_major": 2,
       "version_minor": 0,
       "model_id": "468e1dc2148d46ca9b6696f80795dc7a"
      }
     },
     "metadata": {},
     "output_type": "display_data"
    },
    {
     "name": "stdout",
     "output_type": "stream",
     "text": [
      "Test Loss: 0.014285, Acc: 0.890663\n",
      "epoch 45\n",
      "Training...\n"
     ]
    },
    {
     "data": {
      "text/plain": "  0%|          | 0/756 [00:00<?, ?it/s]",
      "application/vnd.jupyter.widget-view+json": {
       "version_major": 2,
       "version_minor": 0,
       "model_id": "54cb7d6a5a64433b875d5a7f75552b81"
      }
     },
     "metadata": {},
     "output_type": "display_data"
    },
    {
     "name": "stdout",
     "output_type": "stream",
     "text": [
      "Train Loss: 0.001456, Acc: 0.986346\n",
      "Testing...\n"
     ]
    },
    {
     "data": {
      "text/plain": "  0%|          | 0/65 [00:00<?, ?it/s]",
      "application/vnd.jupyter.widget-view+json": {
       "version_major": 2,
       "version_minor": 0,
       "model_id": "3561a0e73d304bf4b2e675d4c5d1dcc2"
      }
     },
     "metadata": {},
     "output_type": "display_data"
    },
    {
     "name": "stdout",
     "output_type": "stream",
     "text": [
      "Test Loss: 0.016037, Acc: 0.891147\n",
      "epoch 46\n",
      "Training...\n"
     ]
    },
    {
     "data": {
      "text/plain": "  0%|          | 0/756 [00:00<?, ?it/s]",
      "application/vnd.jupyter.widget-view+json": {
       "version_major": 2,
       "version_minor": 0,
       "model_id": "18b90eb84b094dd199d3dbb8cd5e55a4"
      }
     },
     "metadata": {},
     "output_type": "display_data"
    },
    {
     "name": "stdout",
     "output_type": "stream",
     "text": [
      "Train Loss: 0.001490, Acc: 0.984939\n",
      "Testing...\n"
     ]
    },
    {
     "data": {
      "text/plain": "  0%|          | 0/65 [00:00<?, ?it/s]",
      "application/vnd.jupyter.widget-view+json": {
       "version_major": 2,
       "version_minor": 0,
       "model_id": "8d896872a3074753810f0dac921f51be"
      }
     },
     "metadata": {},
     "output_type": "display_data"
    },
    {
     "name": "stdout",
     "output_type": "stream",
     "text": [
      "Test Loss: 0.014466, Acc: 0.893082\n",
      "epoch 47\n",
      "Training...\n"
     ]
    },
    {
     "data": {
      "text/plain": "  0%|          | 0/756 [00:00<?, ?it/s]",
      "application/vnd.jupyter.widget-view+json": {
       "version_major": 2,
       "version_minor": 0,
       "model_id": "212b689369b8413ea229c3dfc6a4bfb3"
      }
     },
     "metadata": {},
     "output_type": "display_data"
    },
    {
     "name": "stdout",
     "output_type": "stream",
     "text": [
      "Train Loss: 0.001299, Acc: 0.987297\n",
      "Testing...\n"
     ]
    },
    {
     "data": {
      "text/plain": "  0%|          | 0/65 [00:00<?, ?it/s]",
      "application/vnd.jupyter.widget-view+json": {
       "version_major": 2,
       "version_minor": 0,
       "model_id": "4bf9c009212448df9923655580080173"
      }
     },
     "metadata": {},
     "output_type": "display_data"
    },
    {
     "name": "stdout",
     "output_type": "stream",
     "text": [
      "Test Loss: 0.014391, Acc: 0.898404\n",
      "epoch 48\n",
      "Training...\n"
     ]
    },
    {
     "data": {
      "text/plain": "  0%|          | 0/756 [00:00<?, ?it/s]",
      "application/vnd.jupyter.widget-view+json": {
       "version_major": 2,
       "version_minor": 0,
       "model_id": "5d8dae77c55f48f4a866452b5d3fdb51"
      }
     },
     "metadata": {},
     "output_type": "display_data"
    },
    {
     "name": "stdout",
     "output_type": "stream",
     "text": [
      "Train Loss: 0.001306, Acc: 0.987463\n",
      "Testing...\n"
     ]
    },
    {
     "data": {
      "text/plain": "  0%|          | 0/65 [00:00<?, ?it/s]",
      "application/vnd.jupyter.widget-view+json": {
       "version_major": 2,
       "version_minor": 0,
       "model_id": "f38d077a6df1451bb09145a04398bd99"
      }
     },
     "metadata": {},
     "output_type": "display_data"
    },
    {
     "name": "stdout",
     "output_type": "stream",
     "text": [
      "Test Loss: 0.016026, Acc: 0.881471\n",
      "epoch 49\n",
      "Training...\n"
     ]
    },
    {
     "data": {
      "text/plain": "  0%|          | 0/756 [00:00<?, ?it/s]",
      "application/vnd.jupyter.widget-view+json": {
       "version_major": 2,
       "version_minor": 0,
       "model_id": "c86bfa21e2d747eebdc3466a605b0436"
      }
     },
     "metadata": {},
     "output_type": "display_data"
    },
    {
     "name": "stdout",
     "output_type": "stream",
     "text": [
      "Train Loss: 0.001325, Acc: 0.987132\n",
      "Testing...\n"
     ]
    },
    {
     "data": {
      "text/plain": "  0%|          | 0/65 [00:00<?, ?it/s]",
      "application/vnd.jupyter.widget-view+json": {
       "version_major": 2,
       "version_minor": 0,
       "model_id": "f11e9eac05b14627a1fd91611f725302"
      }
     },
     "metadata": {},
     "output_type": "display_data"
    },
    {
     "name": "stdout",
     "output_type": "stream",
     "text": [
      "Test Loss: 0.015778, Acc: 0.877117\n",
      "epoch 50\n",
      "Training...\n"
     ]
    },
    {
     "data": {
      "text/plain": "  0%|          | 0/756 [00:00<?, ?it/s]",
      "application/vnd.jupyter.widget-view+json": {
       "version_major": 2,
       "version_minor": 0,
       "model_id": "959bf186c04e47a99297e2c4070aab60"
      }
     },
     "metadata": {},
     "output_type": "display_data"
    },
    {
     "name": "stdout",
     "output_type": "stream",
     "text": [
      "Train Loss: 0.001621, Acc: 0.983035\n",
      "Testing...\n"
     ]
    },
    {
     "data": {
      "text/plain": "  0%|          | 0/65 [00:00<?, ?it/s]",
      "application/vnd.jupyter.widget-view+json": {
       "version_major": 2,
       "version_minor": 0,
       "model_id": "9ad4809b86ad4b95952589403d0774a5"
      }
     },
     "metadata": {},
     "output_type": "display_data"
    },
    {
     "name": "stdout",
     "output_type": "stream",
     "text": [
      "Test Loss: 0.014496, Acc: 0.881955\n",
      "epoch 51\n",
      "Training...\n"
     ]
    },
    {
     "data": {
      "text/plain": "  0%|          | 0/756 [00:00<?, ?it/s]",
      "application/vnd.jupyter.widget-view+json": {
       "version_major": 2,
       "version_minor": 0,
       "model_id": "69ccb38e46124e31814d6dcd8c50db8e"
      }
     },
     "metadata": {},
     "output_type": "display_data"
    },
    {
     "name": "stdout",
     "output_type": "stream",
     "text": [
      "Train Loss: 0.001138, Acc: 0.989366\n",
      "Testing...\n"
     ]
    },
    {
     "data": {
      "text/plain": "  0%|          | 0/65 [00:00<?, ?it/s]",
      "application/vnd.jupyter.widget-view+json": {
       "version_major": 2,
       "version_minor": 0,
       "model_id": "10b422b966644614bd62f7d9cce171de"
      }
     },
     "metadata": {},
     "output_type": "display_data"
    },
    {
     "name": "stdout",
     "output_type": "stream",
     "text": [
      "Test Loss: 0.013316, Acc: 0.897920\n",
      "epoch 52\n",
      "Training...\n"
     ]
    },
    {
     "data": {
      "text/plain": "  0%|          | 0/756 [00:00<?, ?it/s]",
      "application/vnd.jupyter.widget-view+json": {
       "version_major": 2,
       "version_minor": 0,
       "model_id": "6643475c73424a688e746f4920f7ae01"
      }
     },
     "metadata": {},
     "output_type": "display_data"
    },
    {
     "name": "stdout",
     "output_type": "stream",
     "text": [
      "Train Loss: 0.001346, Acc: 0.986759\n",
      "Testing...\n"
     ]
    },
    {
     "data": {
      "text/plain": "  0%|          | 0/65 [00:00<?, ?it/s]",
      "application/vnd.jupyter.widget-view+json": {
       "version_major": 2,
       "version_minor": 0,
       "model_id": "5e0034988798482f9719e95fa3b233a6"
      }
     },
     "metadata": {},
     "output_type": "display_data"
    },
    {
     "name": "stdout",
     "output_type": "stream",
     "text": [
      "Test Loss: 0.013341, Acc: 0.892598\n",
      "epoch 53\n",
      "Training...\n"
     ]
    },
    {
     "data": {
      "text/plain": "  0%|          | 0/756 [00:00<?, ?it/s]",
      "application/vnd.jupyter.widget-view+json": {
       "version_major": 2,
       "version_minor": 0,
       "model_id": "7c841a14468346e3b7d492007ab5cd3e"
      }
     },
     "metadata": {},
     "output_type": "display_data"
    },
    {
     "name": "stdout",
     "output_type": "stream",
     "text": [
      "Train Loss: 0.001013, Acc: 0.989366\n",
      "Testing...\n"
     ]
    },
    {
     "data": {
      "text/plain": "  0%|          | 0/65 [00:00<?, ?it/s]",
      "application/vnd.jupyter.widget-view+json": {
       "version_major": 2,
       "version_minor": 0,
       "model_id": "7b4d1ebf07e04fc696a3d3a18c76ec87"
      }
     },
     "metadata": {},
     "output_type": "display_data"
    },
    {
     "name": "stdout",
     "output_type": "stream",
     "text": [
      "Test Loss: 0.013384, Acc: 0.906628\n",
      "epoch 54\n",
      "Training...\n"
     ]
    },
    {
     "data": {
      "text/plain": "  0%|          | 0/756 [00:00<?, ?it/s]",
      "application/vnd.jupyter.widget-view+json": {
       "version_major": 2,
       "version_minor": 0,
       "model_id": "1a24d6cc40c24ddaabd0aa95be56412c"
      }
     },
     "metadata": {},
     "output_type": "display_data"
    },
    {
     "name": "stdout",
     "output_type": "stream",
     "text": [
      "Train Loss: 0.001258, Acc: 0.986594\n",
      "Testing...\n"
     ]
    },
    {
     "data": {
      "text/plain": "  0%|          | 0/65 [00:00<?, ?it/s]",
      "application/vnd.jupyter.widget-view+json": {
       "version_major": 2,
       "version_minor": 0,
       "model_id": "3722a03d0b1c450eb5e22601b75922db"
      }
     },
     "metadata": {},
     "output_type": "display_data"
    },
    {
     "name": "stdout",
     "output_type": "stream",
     "text": [
      "Test Loss: 0.014646, Acc: 0.893082\n",
      "epoch 55\n",
      "Training...\n"
     ]
    },
    {
     "data": {
      "text/plain": "  0%|          | 0/756 [00:00<?, ?it/s]",
      "application/vnd.jupyter.widget-view+json": {
       "version_major": 2,
       "version_minor": 0,
       "model_id": "3e1bc52c30b14833b0cb291427bc2502"
      }
     },
     "metadata": {},
     "output_type": "display_data"
    },
    {
     "name": "stdout",
     "output_type": "stream",
     "text": [
      "Train Loss: 0.001059, Acc: 0.989697\n",
      "Testing...\n"
     ]
    },
    {
     "data": {
      "text/plain": "  0%|          | 0/65 [00:00<?, ?it/s]",
      "application/vnd.jupyter.widget-view+json": {
       "version_major": 2,
       "version_minor": 0,
       "model_id": "ecc97359e5704ad8b9cda1378dd0d9ec"
      }
     },
     "metadata": {},
     "output_type": "display_data"
    },
    {
     "name": "stdout",
     "output_type": "stream",
     "text": [
      "Test Loss: 0.015676, Acc: 0.881471\n",
      "epoch 56\n",
      "Training...\n"
     ]
    },
    {
     "data": {
      "text/plain": "  0%|          | 0/756 [00:00<?, ?it/s]",
      "application/vnd.jupyter.widget-view+json": {
       "version_major": 2,
       "version_minor": 0,
       "model_id": "d250ff90b92d424b9139cb9cf4bec958"
      }
     },
     "metadata": {},
     "output_type": "display_data"
    },
    {
     "name": "stdout",
     "output_type": "stream",
     "text": [
      "Train Loss: 0.001253, Acc: 0.987670\n",
      "Testing...\n"
     ]
    },
    {
     "data": {
      "text/plain": "  0%|          | 0/65 [00:00<?, ?it/s]",
      "application/vnd.jupyter.widget-view+json": {
       "version_major": 2,
       "version_minor": 0,
       "model_id": "ef5734507a324af6b3e46521f510b61f"
      }
     },
     "metadata": {},
     "output_type": "display_data"
    },
    {
     "name": "stdout",
     "output_type": "stream",
     "text": [
      "Test Loss: 0.016811, Acc: 0.877117\n",
      "epoch 57\n",
      "Training...\n"
     ]
    },
    {
     "data": {
      "text/plain": "  0%|          | 0/756 [00:00<?, ?it/s]",
      "application/vnd.jupyter.widget-view+json": {
       "version_major": 2,
       "version_minor": 0,
       "model_id": "adabebae8a8c4abf973c3eb4c6f3c612"
      }
     },
     "metadata": {},
     "output_type": "display_data"
    },
    {
     "name": "stdout",
     "output_type": "stream",
     "text": [
      "Train Loss: 0.001026, Acc: 0.989614\n",
      "Testing...\n"
     ]
    },
    {
     "data": {
      "text/plain": "  0%|          | 0/65 [00:00<?, ?it/s]",
      "application/vnd.jupyter.widget-view+json": {
       "version_major": 2,
       "version_minor": 0,
       "model_id": "499ecd26df3d41a68f21ec85dba5f7d8"
      }
     },
     "metadata": {},
     "output_type": "display_data"
    },
    {
     "name": "stdout",
     "output_type": "stream",
     "text": [
      "Test Loss: 0.015452, Acc: 0.890663\n",
      "epoch 58\n",
      "Training...\n"
     ]
    },
    {
     "data": {
      "text/plain": "  0%|          | 0/756 [00:00<?, ?it/s]",
      "application/vnd.jupyter.widget-view+json": {
       "version_major": 2,
       "version_minor": 0,
       "model_id": "ea78607c63194d0e96d8411c1d39e9b5"
      }
     },
     "metadata": {},
     "output_type": "display_data"
    },
    {
     "name": "stdout",
     "output_type": "stream",
     "text": [
      "Train Loss: 0.001277, Acc: 0.987297\n",
      "Testing...\n"
     ]
    },
    {
     "data": {
      "text/plain": "  0%|          | 0/65 [00:00<?, ?it/s]",
      "application/vnd.jupyter.widget-view+json": {
       "version_major": 2,
       "version_minor": 0,
       "model_id": "74ae5eff9fbc4e57a776da12de14d407"
      }
     },
     "metadata": {},
     "output_type": "display_data"
    },
    {
     "name": "stdout",
     "output_type": "stream",
     "text": [
      "Test Loss: 0.012127, Acc: 0.899855\n",
      "epoch 59\n",
      "Training...\n"
     ]
    },
    {
     "data": {
      "text/plain": "  0%|          | 0/756 [00:00<?, ?it/s]",
      "application/vnd.jupyter.widget-view+json": {
       "version_major": 2,
       "version_minor": 0,
       "model_id": "1cba3dcbd5904e69a43eb260ada17c29"
      }
     },
     "metadata": {},
     "output_type": "display_data"
    },
    {
     "name": "stdout",
     "output_type": "stream",
     "text": [
      "Train Loss: 0.001116, Acc: 0.989118\n",
      "Testing...\n"
     ]
    },
    {
     "data": {
      "text/plain": "  0%|          | 0/65 [00:00<?, ?it/s]",
      "application/vnd.jupyter.widget-view+json": {
       "version_major": 2,
       "version_minor": 0,
       "model_id": "c4b0456a0fdf4ee2ace1aaea0288ddf3"
      }
     },
     "metadata": {},
     "output_type": "display_data"
    },
    {
     "name": "stdout",
     "output_type": "stream",
     "text": [
      "Test Loss: 0.015426, Acc: 0.891147\n",
      "epoch 60\n",
      "Training...\n"
     ]
    },
    {
     "data": {
      "text/plain": "  0%|          | 0/756 [00:00<?, ?it/s]",
      "application/vnd.jupyter.widget-view+json": {
       "version_major": 2,
       "version_minor": 0,
       "model_id": "00b562b7bf21463ab590011c2e863844"
      }
     },
     "metadata": {},
     "output_type": "display_data"
    },
    {
     "name": "stdout",
     "output_type": "stream",
     "text": [
      "Train Loss: 0.000948, Acc: 0.991228\n",
      "Testing...\n"
     ]
    },
    {
     "data": {
      "text/plain": "  0%|          | 0/65 [00:00<?, ?it/s]",
      "application/vnd.jupyter.widget-view+json": {
       "version_major": 2,
       "version_minor": 0,
       "model_id": "283e2a1c8d7d44c497a7f9b2d3083ffa"
      }
     },
     "metadata": {},
     "output_type": "display_data"
    },
    {
     "name": "stdout",
     "output_type": "stream",
     "text": [
      "Test Loss: 0.016448, Acc: 0.887760\n",
      "epoch 61\n",
      "Training...\n"
     ]
    },
    {
     "data": {
      "text/plain": "  0%|          | 0/756 [00:00<?, ?it/s]",
      "application/vnd.jupyter.widget-view+json": {
       "version_major": 2,
       "version_minor": 0,
       "model_id": "ac2c1682b62f4fc8a446765acc496992"
      }
     },
     "metadata": {},
     "output_type": "display_data"
    },
    {
     "name": "stdout",
     "output_type": "stream",
     "text": [
      "Train Loss: 0.001017, Acc: 0.990318\n",
      "Testing...\n"
     ]
    },
    {
     "data": {
      "text/plain": "  0%|          | 0/65 [00:00<?, ?it/s]",
      "application/vnd.jupyter.widget-view+json": {
       "version_major": 2,
       "version_minor": 0,
       "model_id": "224c3ab51aab4aabb91d10072db9d036"
      }
     },
     "metadata": {},
     "output_type": "display_data"
    },
    {
     "name": "stdout",
     "output_type": "stream",
     "text": [
      "Test Loss: 0.014776, Acc: 0.890179\n",
      "epoch 62\n",
      "Training...\n"
     ]
    },
    {
     "data": {
      "text/plain": "  0%|          | 0/756 [00:00<?, ?it/s]",
      "application/vnd.jupyter.widget-view+json": {
       "version_major": 2,
       "version_minor": 0,
       "model_id": "fe974cf6288747ff840353ff8a2c8ded"
      }
     },
     "metadata": {},
     "output_type": "display_data"
    },
    {
     "name": "stdout",
     "output_type": "stream",
     "text": [
      "Train Loss: 0.001112, Acc: 0.988911\n",
      "Testing...\n"
     ]
    },
    {
     "data": {
      "text/plain": "  0%|          | 0/65 [00:00<?, ?it/s]",
      "application/vnd.jupyter.widget-view+json": {
       "version_major": 2,
       "version_minor": 0,
       "model_id": "91099a3168ff4b78b04476902ce97b1f"
      }
     },
     "metadata": {},
     "output_type": "display_data"
    },
    {
     "name": "stdout",
     "output_type": "stream",
     "text": [
      "Test Loss: 0.014694, Acc: 0.895985\n",
      "epoch 63\n",
      "Training...\n"
     ]
    },
    {
     "data": {
      "text/plain": "  0%|          | 0/756 [00:00<?, ?it/s]",
      "application/vnd.jupyter.widget-view+json": {
       "version_major": 2,
       "version_minor": 0,
       "model_id": "08dfc28dc75f4e1b9dfafae9ff9a6852"
      }
     },
     "metadata": {},
     "output_type": "display_data"
    },
    {
     "name": "stdout",
     "output_type": "stream",
     "text": [
      "Train Loss: 0.001028, Acc: 0.989532\n",
      "Testing...\n"
     ]
    },
    {
     "data": {
      "text/plain": "  0%|          | 0/65 [00:00<?, ?it/s]",
      "application/vnd.jupyter.widget-view+json": {
       "version_major": 2,
       "version_minor": 0,
       "model_id": "8ab99f8df9cc4cc899937aa6837a2e2b"
      }
     },
     "metadata": {},
     "output_type": "display_data"
    },
    {
     "name": "stdout",
     "output_type": "stream",
     "text": [
      "Test Loss: 0.015489, Acc: 0.895017\n",
      "epoch 64\n",
      "Training...\n"
     ]
    },
    {
     "data": {
      "text/plain": "  0%|          | 0/756 [00:00<?, ?it/s]",
      "application/vnd.jupyter.widget-view+json": {
       "version_major": 2,
       "version_minor": 0,
       "model_id": "1a734c40ad7c4da7b7ea2686db9c6e2e"
      }
     },
     "metadata": {},
     "output_type": "display_data"
    },
    {
     "name": "stdout",
     "output_type": "stream",
     "text": [
      "Train Loss: 0.000970, Acc: 0.990442\n",
      "Testing...\n"
     ]
    },
    {
     "data": {
      "text/plain": "  0%|          | 0/65 [00:00<?, ?it/s]",
      "application/vnd.jupyter.widget-view+json": {
       "version_major": 2,
       "version_minor": 0,
       "model_id": "c6ef8c9743b04a6b9dc6dc083c3ca8fb"
      }
     },
     "metadata": {},
     "output_type": "display_data"
    },
    {
     "name": "stdout",
     "output_type": "stream",
     "text": [
      "Test Loss: 0.014268, Acc: 0.896952\n",
      "epoch 65\n",
      "Training...\n"
     ]
    },
    {
     "data": {
      "text/plain": "  0%|          | 0/756 [00:00<?, ?it/s]",
      "application/vnd.jupyter.widget-view+json": {
       "version_major": 2,
       "version_minor": 0,
       "model_id": "b3262ab07c2e4505bdab265519cf7016"
      }
     },
     "metadata": {},
     "output_type": "display_data"
    },
    {
     "name": "stdout",
     "output_type": "stream",
     "text": [
      "Train Loss: 0.001128, Acc: 0.989656\n",
      "Testing...\n"
     ]
    },
    {
     "data": {
      "text/plain": "  0%|          | 0/65 [00:00<?, ?it/s]",
      "application/vnd.jupyter.widget-view+json": {
       "version_major": 2,
       "version_minor": 0,
       "model_id": "3c3b642dc61f4e2a8cb6f04da1b872f0"
      }
     },
     "metadata": {},
     "output_type": "display_data"
    },
    {
     "name": "stdout",
     "output_type": "stream",
     "text": [
      "Test Loss: 0.015764, Acc: 0.880987\n",
      "epoch 66\n",
      "Training...\n"
     ]
    },
    {
     "data": {
      "text/plain": "  0%|          | 0/756 [00:00<?, ?it/s]",
      "application/vnd.jupyter.widget-view+json": {
       "version_major": 2,
       "version_minor": 0,
       "model_id": "2ac7ccfd3617424397d48e59f650272d"
      }
     },
     "metadata": {},
     "output_type": "display_data"
    },
    {
     "name": "stdout",
     "output_type": "stream",
     "text": [
      "Train Loss: 0.000823, Acc: 0.991394\n",
      "Testing...\n"
     ]
    },
    {
     "data": {
      "text/plain": "  0%|          | 0/65 [00:00<?, ?it/s]",
      "application/vnd.jupyter.widget-view+json": {
       "version_major": 2,
       "version_minor": 0,
       "model_id": "4a3b511cbbd4428593c7308efed8206a"
      }
     },
     "metadata": {},
     "output_type": "display_data"
    },
    {
     "name": "stdout",
     "output_type": "stream",
     "text": [
      "Test Loss: 0.015419, Acc: 0.892598\n",
      "epoch 67\n",
      "Training...\n"
     ]
    },
    {
     "data": {
      "text/plain": "  0%|          | 0/756 [00:00<?, ?it/s]",
      "application/vnd.jupyter.widget-view+json": {
       "version_major": 2,
       "version_minor": 0,
       "model_id": "1200af7573554c0f807d87b6f90be368"
      }
     },
     "metadata": {},
     "output_type": "display_data"
    },
    {
     "name": "stdout",
     "output_type": "stream",
     "text": [
      "Train Loss: 0.001060, Acc: 0.989035\n",
      "Testing...\n"
     ]
    },
    {
     "data": {
      "text/plain": "  0%|          | 0/65 [00:00<?, ?it/s]",
      "application/vnd.jupyter.widget-view+json": {
       "version_major": 2,
       "version_minor": 0,
       "model_id": "88dc47115ca04a90b095c53db32fe418"
      }
     },
     "metadata": {},
     "output_type": "display_data"
    },
    {
     "name": "stdout",
     "output_type": "stream",
     "text": [
      "Test Loss: 0.015262, Acc: 0.895017\n",
      "epoch 68\n",
      "Training...\n"
     ]
    },
    {
     "data": {
      "text/plain": "  0%|          | 0/756 [00:00<?, ?it/s]",
      "application/vnd.jupyter.widget-view+json": {
       "version_major": 2,
       "version_minor": 0,
       "model_id": "c67530ee0e6940858c696ac15f7e7803"
      }
     },
     "metadata": {},
     "output_type": "display_data"
    },
    {
     "name": "stdout",
     "output_type": "stream",
     "text": [
      "Train Loss: 0.000764, Acc: 0.991725\n",
      "Testing...\n"
     ]
    },
    {
     "data": {
      "text/plain": "  0%|          | 0/65 [00:00<?, ?it/s]",
      "application/vnd.jupyter.widget-view+json": {
       "version_major": 2,
       "version_minor": 0,
       "model_id": "74fdc10fdf874704bf7f542d748c1158"
      }
     },
     "metadata": {},
     "output_type": "display_data"
    },
    {
     "name": "stdout",
     "output_type": "stream",
     "text": [
      "Test Loss: 0.015253, Acc: 0.897920\n",
      "epoch 69\n",
      "Training...\n"
     ]
    },
    {
     "data": {
      "text/plain": "  0%|          | 0/756 [00:00<?, ?it/s]",
      "application/vnd.jupyter.widget-view+json": {
       "version_major": 2,
       "version_minor": 0,
       "model_id": "4d8e8ac2a7244b9d8f57491ae4ee3217"
      }
     },
     "metadata": {},
     "output_type": "display_data"
    },
    {
     "name": "stdout",
     "output_type": "stream",
     "text": [
      "Train Loss: 0.001046, Acc: 0.989656\n",
      "Testing...\n"
     ]
    },
    {
     "data": {
      "text/plain": "  0%|          | 0/65 [00:00<?, ?it/s]",
      "application/vnd.jupyter.widget-view+json": {
       "version_major": 2,
       "version_minor": 0,
       "model_id": "f128d733ff65416ea797d625a0e02283"
      }
     },
     "metadata": {},
     "output_type": "display_data"
    },
    {
     "name": "stdout",
     "output_type": "stream",
     "text": [
      "Test Loss: 0.014114, Acc: 0.896468\n",
      "epoch 70\n",
      "Training...\n"
     ]
    },
    {
     "data": {
      "text/plain": "  0%|          | 0/756 [00:00<?, ?it/s]",
      "application/vnd.jupyter.widget-view+json": {
       "version_major": 2,
       "version_minor": 0,
       "model_id": "2288c3b297aa4933bad04714db45bb19"
      }
     },
     "metadata": {},
     "output_type": "display_data"
    },
    {
     "name": "stdout",
     "output_type": "stream",
     "text": [
      "Train Loss: 0.000745, Acc: 0.992925\n",
      "Testing...\n"
     ]
    },
    {
     "data": {
      "text/plain": "  0%|          | 0/65 [00:00<?, ?it/s]",
      "application/vnd.jupyter.widget-view+json": {
       "version_major": 2,
       "version_minor": 0,
       "model_id": "cbcf9edc8d354c7d96120b155ec157b4"
      }
     },
     "metadata": {},
     "output_type": "display_data"
    },
    {
     "name": "stdout",
     "output_type": "stream",
     "text": [
      "Test Loss: 0.016919, Acc: 0.888244\n",
      "epoch 71\n",
      "Training...\n"
     ]
    },
    {
     "data": {
      "text/plain": "  0%|          | 0/756 [00:00<?, ?it/s]",
      "application/vnd.jupyter.widget-view+json": {
       "version_major": 2,
       "version_minor": 0,
       "model_id": "307a3c352dec4d2fa020d72ebf92526d"
      }
     },
     "metadata": {},
     "output_type": "display_data"
    },
    {
     "name": "stdout",
     "output_type": "stream",
     "text": [
      "Train Loss: 0.000738, Acc: 0.992883\n",
      "Testing...\n"
     ]
    },
    {
     "data": {
      "text/plain": "  0%|          | 0/65 [00:00<?, ?it/s]",
      "application/vnd.jupyter.widget-view+json": {
       "version_major": 2,
       "version_minor": 0,
       "model_id": "c47e2d875e2445c5bd6f8322d792333e"
      }
     },
     "metadata": {},
     "output_type": "display_data"
    },
    {
     "name": "stdout",
     "output_type": "stream",
     "text": [
      "Test Loss: 0.016733, Acc: 0.891147\n",
      "epoch 72\n",
      "Training...\n"
     ]
    },
    {
     "data": {
      "text/plain": "  0%|          | 0/756 [00:00<?, ?it/s]",
      "application/vnd.jupyter.widget-view+json": {
       "version_major": 2,
       "version_minor": 0,
       "model_id": "a31d104267a44752bf961ed20bec409c"
      }
     },
     "metadata": {},
     "output_type": "display_data"
    },
    {
     "name": "stdout",
     "output_type": "stream",
     "text": [
      "Train Loss: 0.000918, Acc: 0.990938\n",
      "Testing...\n"
     ]
    },
    {
     "data": {
      "text/plain": "  0%|          | 0/65 [00:00<?, ?it/s]",
      "application/vnd.jupyter.widget-view+json": {
       "version_major": 2,
       "version_minor": 0,
       "model_id": "587fdc3c854945b1ad113038c53407a8"
      }
     },
     "metadata": {},
     "output_type": "display_data"
    },
    {
     "name": "stdout",
     "output_type": "stream",
     "text": [
      "Test Loss: 0.014725, Acc: 0.896952\n",
      "epoch 73\n",
      "Training...\n"
     ]
    },
    {
     "data": {
      "text/plain": "  0%|          | 0/756 [00:00<?, ?it/s]",
      "application/vnd.jupyter.widget-view+json": {
       "version_major": 2,
       "version_minor": 0,
       "model_id": "9096dd241fe94e32bcefdac1c3b24098"
      }
     },
     "metadata": {},
     "output_type": "display_data"
    },
    {
     "name": "stdout",
     "output_type": "stream",
     "text": [
      "Train Loss: 0.000868, Acc: 0.990856\n",
      "Testing...\n"
     ]
    },
    {
     "data": {
      "text/plain": "  0%|          | 0/65 [00:00<?, ?it/s]",
      "application/vnd.jupyter.widget-view+json": {
       "version_major": 2,
       "version_minor": 0,
       "model_id": "965d43b5b3004023bda6df089ced67c9"
      }
     },
     "metadata": {},
     "output_type": "display_data"
    },
    {
     "name": "stdout",
     "output_type": "stream",
     "text": [
      "Test Loss: 0.015637, Acc: 0.889695\n",
      "epoch 74\n",
      "Training...\n"
     ]
    },
    {
     "data": {
      "text/plain": "  0%|          | 0/756 [00:00<?, ?it/s]",
      "application/vnd.jupyter.widget-view+json": {
       "version_major": 2,
       "version_minor": 0,
       "model_id": "f5fa6965950946db93b45f9dee84acec"
      }
     },
     "metadata": {},
     "output_type": "display_data"
    },
    {
     "name": "stdout",
     "output_type": "stream",
     "text": [
      "Train Loss: 0.000711, Acc: 0.993752\n",
      "Testing...\n"
     ]
    },
    {
     "data": {
      "text/plain": "  0%|          | 0/65 [00:00<?, ?it/s]",
      "application/vnd.jupyter.widget-view+json": {
       "version_major": 2,
       "version_minor": 0,
       "model_id": "a0ce049c04c5446cb87fccc2a6e9136d"
      }
     },
     "metadata": {},
     "output_type": "display_data"
    },
    {
     "name": "stdout",
     "output_type": "stream",
     "text": [
      "Test Loss: 0.016120, Acc: 0.891630\n",
      "epoch 75\n",
      "Training...\n"
     ]
    },
    {
     "data": {
      "text/plain": "  0%|          | 0/756 [00:00<?, ?it/s]",
      "application/vnd.jupyter.widget-view+json": {
       "version_major": 2,
       "version_minor": 0,
       "model_id": "1062deff0f1d4d1dadc348803c47744e"
      }
     },
     "metadata": {},
     "output_type": "display_data"
    },
    {
     "name": "stdout",
     "output_type": "stream",
     "text": [
      "Train Loss: 0.001006, Acc: 0.990111\n",
      "Testing...\n"
     ]
    },
    {
     "data": {
      "text/plain": "  0%|          | 0/65 [00:00<?, ?it/s]",
      "application/vnd.jupyter.widget-view+json": {
       "version_major": 2,
       "version_minor": 0,
       "model_id": "28ae539dda764177bd37732b04fd54fb"
      }
     },
     "metadata": {},
     "output_type": "display_data"
    },
    {
     "name": "stdout",
     "output_type": "stream",
     "text": [
      "Test Loss: 0.014119, Acc: 0.899371\n",
      "epoch 76\n",
      "Training...\n"
     ]
    },
    {
     "data": {
      "text/plain": "  0%|          | 0/756 [00:00<?, ?it/s]",
      "application/vnd.jupyter.widget-view+json": {
       "version_major": 2,
       "version_minor": 0,
       "model_id": "3065ea062ecb4ecf8ad9e090626832c9"
      }
     },
     "metadata": {},
     "output_type": "display_data"
    },
    {
     "name": "stdout",
     "output_type": "stream",
     "text": [
      "Train Loss: 0.000811, Acc: 0.992469\n",
      "Testing...\n"
     ]
    },
    {
     "data": {
      "text/plain": "  0%|          | 0/65 [00:00<?, ?it/s]",
      "application/vnd.jupyter.widget-view+json": {
       "version_major": 2,
       "version_minor": 0,
       "model_id": "b2e7674e8b8c4e1ca13eadb2775b2d48"
      }
     },
     "metadata": {},
     "output_type": "display_data"
    },
    {
     "name": "stdout",
     "output_type": "stream",
     "text": [
      "Test Loss: 0.014464, Acc: 0.896468\n",
      "epoch 77\n",
      "Training...\n"
     ]
    },
    {
     "data": {
      "text/plain": "  0%|          | 0/756 [00:00<?, ?it/s]",
      "application/vnd.jupyter.widget-view+json": {
       "version_major": 2,
       "version_minor": 0,
       "model_id": "aa743f3462b24a3682629f20e5146d29"
      }
     },
     "metadata": {},
     "output_type": "display_data"
    },
    {
     "name": "stdout",
     "output_type": "stream",
     "text": [
      "Train Loss: 0.000709, Acc: 0.993462\n",
      "Testing...\n"
     ]
    },
    {
     "data": {
      "text/plain": "  0%|          | 0/65 [00:00<?, ?it/s]",
      "application/vnd.jupyter.widget-view+json": {
       "version_major": 2,
       "version_minor": 0,
       "model_id": "0685205a5e7b460792426d533045c3cd"
      }
     },
     "metadata": {},
     "output_type": "display_data"
    },
    {
     "name": "stdout",
     "output_type": "stream",
     "text": [
      "Test Loss: 0.014642, Acc: 0.900339\n",
      "epoch 78\n",
      "Training...\n"
     ]
    },
    {
     "data": {
      "text/plain": "  0%|          | 0/756 [00:00<?, ?it/s]",
      "application/vnd.jupyter.widget-view+json": {
       "version_major": 2,
       "version_minor": 0,
       "model_id": "39b98f43be2a4231ade93c5cd9020441"
      }
     },
     "metadata": {},
     "output_type": "display_data"
    },
    {
     "name": "stdout",
     "output_type": "stream",
     "text": [
      "Train Loss: 0.000702, Acc: 0.993545\n",
      "Testing...\n"
     ]
    },
    {
     "data": {
      "text/plain": "  0%|          | 0/65 [00:00<?, ?it/s]",
      "application/vnd.jupyter.widget-view+json": {
       "version_major": 2,
       "version_minor": 0,
       "model_id": "fd07baaa554648e59826af24773f204c"
      }
     },
     "metadata": {},
     "output_type": "display_data"
    },
    {
     "name": "stdout",
     "output_type": "stream",
     "text": [
      "Test Loss: 0.015351, Acc: 0.890179\n",
      "epoch 79\n",
      "Training...\n"
     ]
    },
    {
     "data": {
      "text/plain": "  0%|          | 0/756 [00:00<?, ?it/s]",
      "application/vnd.jupyter.widget-view+json": {
       "version_major": 2,
       "version_minor": 0,
       "model_id": "68820cba92804fbfade32c13b6c313cf"
      }
     },
     "metadata": {},
     "output_type": "display_data"
    },
    {
     "name": "stdout",
     "output_type": "stream",
     "text": [
      "Train Loss: 0.000971, Acc: 0.990442\n",
      "Testing...\n"
     ]
    },
    {
     "data": {
      "text/plain": "  0%|          | 0/65 [00:00<?, ?it/s]",
      "application/vnd.jupyter.widget-view+json": {
       "version_major": 2,
       "version_minor": 0,
       "model_id": "81f855fbb9b645229b86ebe4a3158366"
      }
     },
     "metadata": {},
     "output_type": "display_data"
    },
    {
     "name": "stdout",
     "output_type": "stream",
     "text": [
      "Test Loss: 0.015875, Acc: 0.888728\n",
      "epoch 80\n",
      "Training...\n"
     ]
    },
    {
     "data": {
      "text/plain": "  0%|          | 0/756 [00:00<?, ?it/s]",
      "application/vnd.jupyter.widget-view+json": {
       "version_major": 2,
       "version_minor": 0,
       "model_id": "e31866959ec94723a02b7c260713f43b"
      }
     },
     "metadata": {},
     "output_type": "display_data"
    },
    {
     "name": "stdout",
     "output_type": "stream",
     "text": [
      "Train Loss: 0.000900, Acc: 0.990732\n",
      "Testing...\n"
     ]
    },
    {
     "data": {
      "text/plain": "  0%|          | 0/65 [00:00<?, ?it/s]",
      "application/vnd.jupyter.widget-view+json": {
       "version_major": 2,
       "version_minor": 0,
       "model_id": "c72fbc44fd6e467eba90ee56d348cb9e"
      }
     },
     "metadata": {},
     "output_type": "display_data"
    },
    {
     "name": "stdout",
     "output_type": "stream",
     "text": [
      "Test Loss: 0.015728, Acc: 0.887760\n",
      "epoch 81\n",
      "Training...\n"
     ]
    },
    {
     "data": {
      "text/plain": "  0%|          | 0/756 [00:00<?, ?it/s]",
      "application/vnd.jupyter.widget-view+json": {
       "version_major": 2,
       "version_minor": 0,
       "model_id": "b2e28472b36543c1a91a515a7d14be99"
      }
     },
     "metadata": {},
     "output_type": "display_data"
    },
    {
     "name": "stdout",
     "output_type": "stream",
     "text": [
      "Train Loss: 0.000656, Acc: 0.993545\n",
      "Testing...\n"
     ]
    },
    {
     "data": {
      "text/plain": "  0%|          | 0/65 [00:00<?, ?it/s]",
      "application/vnd.jupyter.widget-view+json": {
       "version_major": 2,
       "version_minor": 0,
       "model_id": "a1f47eadf4c741a686d5b79b82797264"
      }
     },
     "metadata": {},
     "output_type": "display_data"
    },
    {
     "name": "stdout",
     "output_type": "stream",
     "text": [
      "Test Loss: 0.014712, Acc: 0.894049\n",
      "epoch 82\n",
      "Training...\n"
     ]
    },
    {
     "data": {
      "text/plain": "  0%|          | 0/756 [00:00<?, ?it/s]",
      "application/vnd.jupyter.widget-view+json": {
       "version_major": 2,
       "version_minor": 0,
       "model_id": "e03bcd5514ab4fdf8382c880adbcdb17"
      }
     },
     "metadata": {},
     "output_type": "display_data"
    },
    {
     "name": "stdout",
     "output_type": "stream",
     "text": [
      "Train Loss: 0.000533, Acc: 0.994952\n",
      "Testing...\n"
     ]
    },
    {
     "data": {
      "text/plain": "  0%|          | 0/65 [00:00<?, ?it/s]",
      "application/vnd.jupyter.widget-view+json": {
       "version_major": 2,
       "version_minor": 0,
       "model_id": "a0970dbc3b8a4f7faa001b1261ef5114"
      }
     },
     "metadata": {},
     "output_type": "display_data"
    },
    {
     "name": "stdout",
     "output_type": "stream",
     "text": [
      "Test Loss: 0.015172, Acc: 0.896952\n",
      "epoch 83\n",
      "Training...\n"
     ]
    },
    {
     "data": {
      "text/plain": "  0%|          | 0/756 [00:00<?, ?it/s]",
      "application/vnd.jupyter.widget-view+json": {
       "version_major": 2,
       "version_minor": 0,
       "model_id": "63686d09fb05464dad3d6d46b561c92a"
      }
     },
     "metadata": {},
     "output_type": "display_data"
    },
    {
     "name": "stdout",
     "output_type": "stream",
     "text": [
      "Train Loss: 0.000810, Acc: 0.991890\n",
      "Testing...\n"
     ]
    },
    {
     "data": {
      "text/plain": "  0%|          | 0/65 [00:00<?, ?it/s]",
      "application/vnd.jupyter.widget-view+json": {
       "version_major": 2,
       "version_minor": 0,
       "model_id": "152fe3a9b47b4ae4928a955828dc8b28"
      }
     },
     "metadata": {},
     "output_type": "display_data"
    },
    {
     "name": "stdout",
     "output_type": "stream",
     "text": [
      "Test Loss: 0.015138, Acc: 0.892114\n",
      "epoch 84\n",
      "Training...\n"
     ]
    },
    {
     "data": {
      "text/plain": "  0%|          | 0/756 [00:00<?, ?it/s]",
      "application/vnd.jupyter.widget-view+json": {
       "version_major": 2,
       "version_minor": 0,
       "model_id": "6ee1c3b2535346b1b4f7eadaba20cd29"
      }
     },
     "metadata": {},
     "output_type": "display_data"
    },
    {
     "name": "stdout",
     "output_type": "stream",
     "text": [
      "Train Loss: 0.000607, Acc: 0.994042\n",
      "Testing...\n"
     ]
    },
    {
     "data": {
      "text/plain": "  0%|          | 0/65 [00:00<?, ?it/s]",
      "application/vnd.jupyter.widget-view+json": {
       "version_major": 2,
       "version_minor": 0,
       "model_id": "16468e13a8d7407b94b383eb39df212b"
      }
     },
     "metadata": {},
     "output_type": "display_data"
    },
    {
     "name": "stdout",
     "output_type": "stream",
     "text": [
      "Test Loss: 0.015261, Acc: 0.893566\n",
      "epoch 85\n",
      "Training...\n"
     ]
    },
    {
     "data": {
      "text/plain": "  0%|          | 0/756 [00:00<?, ?it/s]",
      "application/vnd.jupyter.widget-view+json": {
       "version_major": 2,
       "version_minor": 0,
       "model_id": "b6787200d68144ca82d90e9c6e492295"
      }
     },
     "metadata": {},
     "output_type": "display_data"
    },
    {
     "name": "stdout",
     "output_type": "stream",
     "text": [
      "Train Loss: 0.000806, Acc: 0.992387\n",
      "Testing...\n"
     ]
    },
    {
     "data": {
      "text/plain": "  0%|          | 0/65 [00:00<?, ?it/s]",
      "application/vnd.jupyter.widget-view+json": {
       "version_major": 2,
       "version_minor": 0,
       "model_id": "59f0d85654684b7191ebe9129892e96a"
      }
     },
     "metadata": {},
     "output_type": "display_data"
    },
    {
     "name": "stdout",
     "output_type": "stream",
     "text": [
      "Test Loss: 0.015539, Acc: 0.888728\n",
      "epoch 86\n",
      "Training...\n"
     ]
    },
    {
     "data": {
      "text/plain": "  0%|          | 0/756 [00:00<?, ?it/s]",
      "application/vnd.jupyter.widget-view+json": {
       "version_major": 2,
       "version_minor": 0,
       "model_id": "6745e61c88a443c493a1b9d5b013f82b"
      }
     },
     "metadata": {},
     "output_type": "display_data"
    },
    {
     "name": "stdout",
     "output_type": "stream",
     "text": [
      "Train Loss: 0.000594, Acc: 0.993462\n",
      "Testing...\n"
     ]
    },
    {
     "data": {
      "text/plain": "  0%|          | 0/65 [00:00<?, ?it/s]",
      "application/vnd.jupyter.widget-view+json": {
       "version_major": 2,
       "version_minor": 0,
       "model_id": "8010e7653e0b4a78a1ac70d6f0fa8518"
      }
     },
     "metadata": {},
     "output_type": "display_data"
    },
    {
     "name": "stdout",
     "output_type": "stream",
     "text": [
      "Test Loss: 0.015032, Acc: 0.897920\n",
      "epoch 87\n",
      "Training...\n"
     ]
    },
    {
     "data": {
      "text/plain": "  0%|          | 0/756 [00:00<?, ?it/s]",
      "application/vnd.jupyter.widget-view+json": {
       "version_major": 2,
       "version_minor": 0,
       "model_id": "25d8e4ba17934a67856976aaad280910"
      }
     },
     "metadata": {},
     "output_type": "display_data"
    },
    {
     "name": "stdout",
     "output_type": "stream",
     "text": [
      "Train Loss: 0.000802, Acc: 0.991973\n",
      "Testing...\n"
     ]
    },
    {
     "data": {
      "text/plain": "  0%|          | 0/65 [00:00<?, ?it/s]",
      "application/vnd.jupyter.widget-view+json": {
       "version_major": 2,
       "version_minor": 0,
       "model_id": "9b6d1be0b56b45109dea092574f315b7"
      }
     },
     "metadata": {},
     "output_type": "display_data"
    },
    {
     "name": "stdout",
     "output_type": "stream",
     "text": [
      "Test Loss: 0.015668, Acc: 0.887276\n",
      "epoch 88\n",
      "Training...\n"
     ]
    },
    {
     "data": {
      "text/plain": "  0%|          | 0/756 [00:00<?, ?it/s]",
      "application/vnd.jupyter.widget-view+json": {
       "version_major": 2,
       "version_minor": 0,
       "model_id": "9051d320bcdb4a3bb5cf598bd8fdfb5f"
      }
     },
     "metadata": {},
     "output_type": "display_data"
    },
    {
     "name": "stdout",
     "output_type": "stream",
     "text": [
      "Train Loss: 0.000679, Acc: 0.993214\n",
      "Testing...\n"
     ]
    },
    {
     "data": {
      "text/plain": "  0%|          | 0/65 [00:00<?, ?it/s]",
      "application/vnd.jupyter.widget-view+json": {
       "version_major": 2,
       "version_minor": 0,
       "model_id": "f49620a33692408db50901d38d8fde04"
      }
     },
     "metadata": {},
     "output_type": "display_data"
    },
    {
     "name": "stdout",
     "output_type": "stream",
     "text": [
      "Test Loss: 0.015425, Acc: 0.895017\n",
      "epoch 89\n",
      "Training...\n"
     ]
    },
    {
     "data": {
      "text/plain": "  0%|          | 0/756 [00:00<?, ?it/s]",
      "application/vnd.jupyter.widget-view+json": {
       "version_major": 2,
       "version_minor": 0,
       "model_id": "dd20facd3a6f470e8160dd251f181de3"
      }
     },
     "metadata": {},
     "output_type": "display_data"
    },
    {
     "name": "stdout",
     "output_type": "stream",
     "text": [
      "Train Loss: 0.000570, Acc: 0.993918\n",
      "Testing...\n"
     ]
    },
    {
     "data": {
      "text/plain": "  0%|          | 0/65 [00:00<?, ?it/s]",
      "application/vnd.jupyter.widget-view+json": {
       "version_major": 2,
       "version_minor": 0,
       "model_id": "f147729964564f80b9a192bce7bc279f"
      }
     },
     "metadata": {},
     "output_type": "display_data"
    },
    {
     "name": "stdout",
     "output_type": "stream",
     "text": [
      "Test Loss: 0.015683, Acc: 0.900822\n",
      "epoch 90\n",
      "Training...\n"
     ]
    },
    {
     "data": {
      "text/plain": "  0%|          | 0/756 [00:00<?, ?it/s]",
      "application/vnd.jupyter.widget-view+json": {
       "version_major": 2,
       "version_minor": 0,
       "model_id": "20f352dbbcf248dba2bf6723f8bbb50d"
      }
     },
     "metadata": {},
     "output_type": "display_data"
    },
    {
     "name": "stdout",
     "output_type": "stream",
     "text": [
      "Train Loss: 0.000655, Acc: 0.993669\n",
      "Testing...\n"
     ]
    },
    {
     "data": {
      "text/plain": "  0%|          | 0/65 [00:00<?, ?it/s]",
      "application/vnd.jupyter.widget-view+json": {
       "version_major": 2,
       "version_minor": 0,
       "model_id": "15392d350b6a46be93d07fa806e3527f"
      }
     },
     "metadata": {},
     "output_type": "display_data"
    },
    {
     "name": "stdout",
     "output_type": "stream",
     "text": [
      "Test Loss: 0.016444, Acc: 0.903241\n",
      "epoch 91\n",
      "Training...\n"
     ]
    },
    {
     "data": {
      "text/plain": "  0%|          | 0/756 [00:00<?, ?it/s]",
      "application/vnd.jupyter.widget-view+json": {
       "version_major": 2,
       "version_minor": 0,
       "model_id": "d7ba6e805abb4f34a12e0cc1ee1d9a15"
      }
     },
     "metadata": {},
     "output_type": "display_data"
    },
    {
     "name": "stdout",
     "output_type": "stream",
     "text": [
      "Train Loss: 0.000752, Acc: 0.992263\n",
      "Testing...\n"
     ]
    },
    {
     "data": {
      "text/plain": "  0%|          | 0/65 [00:00<?, ?it/s]",
      "application/vnd.jupyter.widget-view+json": {
       "version_major": 2,
       "version_minor": 0,
       "model_id": "87c8a61de55f4bfd9f7a3a1cbd35b98f"
      }
     },
     "metadata": {},
     "output_type": "display_data"
    },
    {
     "name": "stdout",
     "output_type": "stream",
     "text": [
      "Test Loss: 0.019154, Acc: 0.881955\n",
      "epoch 92\n",
      "Training...\n"
     ]
    },
    {
     "data": {
      "text/plain": "  0%|          | 0/756 [00:00<?, ?it/s]",
      "application/vnd.jupyter.widget-view+json": {
       "version_major": 2,
       "version_minor": 0,
       "model_id": "89e2c5ef851840a281bd1d4898114344"
      }
     },
     "metadata": {},
     "output_type": "display_data"
    },
    {
     "name": "stdout",
     "output_type": "stream",
     "text": [
      "Train Loss: 0.000722, Acc: 0.992676\n",
      "Testing...\n"
     ]
    },
    {
     "data": {
      "text/plain": "  0%|          | 0/65 [00:00<?, ?it/s]",
      "application/vnd.jupyter.widget-view+json": {
       "version_major": 2,
       "version_minor": 0,
       "model_id": "947187618b9e49269707bffd712c8c3d"
      }
     },
     "metadata": {},
     "output_type": "display_data"
    },
    {
     "name": "stdout",
     "output_type": "stream",
     "text": [
      "Test Loss: 0.016086, Acc: 0.893566\n",
      "epoch 93\n",
      "Training...\n"
     ]
    },
    {
     "data": {
      "text/plain": "  0%|          | 0/756 [00:00<?, ?it/s]",
      "application/vnd.jupyter.widget-view+json": {
       "version_major": 2,
       "version_minor": 0,
       "model_id": "4999f142dd9e41698e4248466f95a001"
      }
     },
     "metadata": {},
     "output_type": "display_data"
    },
    {
     "name": "stdout",
     "output_type": "stream",
     "text": [
      "Train Loss: 0.000586, Acc: 0.994869\n",
      "Testing...\n"
     ]
    },
    {
     "data": {
      "text/plain": "  0%|          | 0/65 [00:00<?, ?it/s]",
      "application/vnd.jupyter.widget-view+json": {
       "version_major": 2,
       "version_minor": 0,
       "model_id": "dca56bc64fda4ad086b0315fde960885"
      }
     },
     "metadata": {},
     "output_type": "display_data"
    },
    {
     "name": "stdout",
     "output_type": "stream",
     "text": [
      "Test Loss: 0.018216, Acc: 0.885825\n",
      "epoch 94\n",
      "Training...\n"
     ]
    },
    {
     "data": {
      "text/plain": "  0%|          | 0/756 [00:00<?, ?it/s]",
      "application/vnd.jupyter.widget-view+json": {
       "version_major": 2,
       "version_minor": 0,
       "model_id": "b57d50076af84fe4bf016bae29b88914"
      }
     },
     "metadata": {},
     "output_type": "display_data"
    },
    {
     "name": "stdout",
     "output_type": "stream",
     "text": [
      "Train Loss: 0.000769, Acc: 0.992883\n",
      "Testing...\n"
     ]
    },
    {
     "data": {
      "text/plain": "  0%|          | 0/65 [00:00<?, ?it/s]",
      "application/vnd.jupyter.widget-view+json": {
       "version_major": 2,
       "version_minor": 0,
       "model_id": "cf9dfa4b5b0745049c6ca2e10057389e"
      }
     },
     "metadata": {},
     "output_type": "display_data"
    },
    {
     "name": "stdout",
     "output_type": "stream",
     "text": [
      "Test Loss: 0.016290, Acc: 0.890663\n",
      "epoch 95\n",
      "Training...\n"
     ]
    },
    {
     "data": {
      "text/plain": "  0%|          | 0/756 [00:00<?, ?it/s]",
      "application/vnd.jupyter.widget-view+json": {
       "version_major": 2,
       "version_minor": 0,
       "model_id": "0a247c19479e4328a7806e65a16f4352"
      }
     },
     "metadata": {},
     "output_type": "display_data"
    },
    {
     "name": "stdout",
     "output_type": "stream",
     "text": [
      "Train Loss: 0.000561, Acc: 0.994373\n",
      "Testing...\n"
     ]
    },
    {
     "data": {
      "text/plain": "  0%|          | 0/65 [00:00<?, ?it/s]",
      "application/vnd.jupyter.widget-view+json": {
       "version_major": 2,
       "version_minor": 0,
       "model_id": "1c8541bbb350430ea8f298378f3a0498"
      }
     },
     "metadata": {},
     "output_type": "display_data"
    },
    {
     "name": "stdout",
     "output_type": "stream",
     "text": [
      "Test Loss: 0.014738, Acc: 0.899855\n",
      "epoch 96\n",
      "Training...\n"
     ]
    },
    {
     "data": {
      "text/plain": "  0%|          | 0/756 [00:00<?, ?it/s]",
      "application/vnd.jupyter.widget-view+json": {
       "version_major": 2,
       "version_minor": 0,
       "model_id": "91bb2ff704364bc490dde0cecdea0be0"
      }
     },
     "metadata": {},
     "output_type": "display_data"
    },
    {
     "name": "stdout",
     "output_type": "stream",
     "text": [
      "Train Loss: 0.000514, Acc: 0.994911\n",
      "Testing...\n"
     ]
    },
    {
     "data": {
      "text/plain": "  0%|          | 0/65 [00:00<?, ?it/s]",
      "application/vnd.jupyter.widget-view+json": {
       "version_major": 2,
       "version_minor": 0,
       "model_id": "c9dbf104a11a4be482d6ffd01ef60fe6"
      }
     },
     "metadata": {},
     "output_type": "display_data"
    },
    {
     "name": "stdout",
     "output_type": "stream",
     "text": [
      "Test Loss: 0.015865, Acc: 0.902274\n",
      "epoch 97\n",
      "Training...\n"
     ]
    },
    {
     "data": {
      "text/plain": "  0%|          | 0/756 [00:00<?, ?it/s]",
      "application/vnd.jupyter.widget-view+json": {
       "version_major": 2,
       "version_minor": 0,
       "model_id": "68dfb133c75e4385a62d4547aa4a7374"
      }
     },
     "metadata": {},
     "output_type": "display_data"
    },
    {
     "name": "stdout",
     "output_type": "stream",
     "text": [
      "Train Loss: 0.000725, Acc: 0.993214\n",
      "Testing...\n"
     ]
    },
    {
     "data": {
      "text/plain": "  0%|          | 0/65 [00:00<?, ?it/s]",
      "application/vnd.jupyter.widget-view+json": {
       "version_major": 2,
       "version_minor": 0,
       "model_id": "5504348d0d2d489c8ba569b9ba06573a"
      }
     },
     "metadata": {},
     "output_type": "display_data"
    },
    {
     "name": "stdout",
     "output_type": "stream",
     "text": [
      "Test Loss: 0.015614, Acc: 0.890179\n",
      "epoch 98\n",
      "Training...\n"
     ]
    },
    {
     "data": {
      "text/plain": "  0%|          | 0/756 [00:00<?, ?it/s]",
      "application/vnd.jupyter.widget-view+json": {
       "version_major": 2,
       "version_minor": 0,
       "model_id": "5cad33bd9a964cceaba6dfd10ec22728"
      }
     },
     "metadata": {},
     "output_type": "display_data"
    },
    {
     "name": "stdout",
     "output_type": "stream",
     "text": [
      "Train Loss: 0.000607, Acc: 0.994373\n",
      "Testing...\n"
     ]
    },
    {
     "data": {
      "text/plain": "  0%|          | 0/65 [00:00<?, ?it/s]",
      "application/vnd.jupyter.widget-view+json": {
       "version_major": 2,
       "version_minor": 0,
       "model_id": "8fdd4534ba1b48ccad1d26ce0dc16f7a"
      }
     },
     "metadata": {},
     "output_type": "display_data"
    },
    {
     "name": "stdout",
     "output_type": "stream",
     "text": [
      "Test Loss: 0.016054, Acc: 0.897920\n",
      "epoch 99\n",
      "Training...\n"
     ]
    },
    {
     "data": {
      "text/plain": "  0%|          | 0/756 [00:00<?, ?it/s]",
      "application/vnd.jupyter.widget-view+json": {
       "version_major": 2,
       "version_minor": 0,
       "model_id": "1f03779718c345fe8df566ac489a24f9"
      }
     },
     "metadata": {},
     "output_type": "display_data"
    },
    {
     "name": "stdout",
     "output_type": "stream",
     "text": [
      "Train Loss: 0.000594, Acc: 0.994373\n",
      "Testing...\n"
     ]
    },
    {
     "data": {
      "text/plain": "  0%|          | 0/65 [00:00<?, ?it/s]",
      "application/vnd.jupyter.widget-view+json": {
       "version_major": 2,
       "version_minor": 0,
       "model_id": "fc741ac0dd70419a97c946eee8322832"
      }
     },
     "metadata": {},
     "output_type": "display_data"
    },
    {
     "name": "stdout",
     "output_type": "stream",
     "text": [
      "Test Loss: 0.015746, Acc: 0.898404\n"
     ]
    }
   ],
   "source": [
    "from __future__ import print_function, division\n",
    "\n",
    "import os\n",
    "\n",
    "import torch\n",
    "import torch.nn as nn\n",
    "import torch.nn.functional as F\n",
    "import torch.optim as optim\n",
    "from torchvision import datasets, transforms\n",
    "from torch.autograd import Variable\n",
    "import numpy as np\n",
    "from torchvision import models\n",
    "import matplotlib.pyplot as plt\n",
    "from tqdm.notebook import tqdm\n",
    "import math\n",
    "\n",
    "batch_size = 32\n",
    "learning_rate = 0.0002\n",
    "Epoch = 100\n",
    "TRAIN = True\n",
    "dataPath = '../DBtest/img/'\n",
    "checkPointPath = '../DBtest/checkPoint/SEResNeXt_checkPoint/'\n",
    "\n",
    "train_transforms = transforms.Compose([\n",
    "    # transforms.RandomResizedCrop(224),\n",
    "    transforms.RandomHorizontalFlip(),\n",
    "    transforms.ToTensor(),\n",
    "    transforms.Normalize((.5, .5, .5), (.5, .5, .5))\n",
    "])\n",
    "test_transforms = transforms.Compose([\n",
    "    # transforms.Resize(256),\n",
    "    # transforms.RandomResizedCrop(224),\n",
    "    transforms.ToTensor(),\n",
    "    transforms.Normalize((.5, .5, .5), (.5, .5, .5))\n",
    "])\n",
    "val_transforms = transforms.Compose([\n",
    "    # transforms.Resize(256),\n",
    "    # transforms.RandomResizedCrop(224),\n",
    "    transforms.ToTensor(),\n",
    "    transforms.Normalize((.5, .5, .5), (.5, .5, .5))\n",
    "])\n",
    "\n",
    "train_dir = dataPath + 'train'\n",
    "train_datasets = datasets.ImageFolder(train_dir, transform=train_transforms)\n",
    "train_dataloader = torch.utils.data.DataLoader(train_datasets, batch_size=batch_size, shuffle=True)\n",
    "\n",
    "test_dir = dataPath + 'test'\n",
    "test_datasets = datasets.ImageFolder(test_dir, transform=test_transforms)\n",
    "test_dataloader = torch.utils.data.DataLoader(test_datasets, batch_size=batch_size, shuffle=True)\n",
    "\n",
    "val_dir = dataPath + 'val'\n",
    "val_datasets = datasets.ImageFolder(val_dir, transform=val_transforms)\n",
    "val_dataloader = torch.utils.data.DataLoader(val_datasets, batch_size=batch_size, shuffle=True)\n",
    "\n",
    "  # --------------------模型定义---------------------------------\n",
    "__all__ = ['SE_ResNeXt', 'se_resnext_50', 'se_resnext_101', 'se_resnext_152']\n",
    "\n",
    "\n",
    "class Bottleneck(nn.Module):\n",
    "    expansion = 4\n",
    "\n",
    "    def __init__(self, inplanes, planes, stride=1, downsample=None, num_group=32):\n",
    "        super(Bottleneck, self).__init__()\n",
    "        self.conv1 = nn.Conv2d(inplanes, planes * 2, kernel_size=1, bias=False)\n",
    "        self.bn1 = nn.BatchNorm2d(planes * 2)\n",
    "        self.conv2 = nn.Conv2d(planes * 2, planes * 2, kernel_size=3, stride=stride,\n",
    "                               padding=1, bias=False, groups=num_group)\n",
    "        self.bn2 = nn.BatchNorm2d(planes * 2)\n",
    "        self.conv3 = nn.Conv2d(planes * 2, planes * 4, kernel_size=1, bias=False)\n",
    "        self.bn3 = nn.BatchNorm2d(planes * 4)\n",
    "        self.relu = nn.ReLU(inplace=True)\n",
    "        self.downsample = downsample\n",
    "        self.stride = stride\n",
    "\n",
    "        if planes == 64:\n",
    "            self.globalAvgPool = nn.AvgPool2d(56, stride=1)\n",
    "        elif planes == 128:\n",
    "            self.globalAvgPool = nn.AvgPool2d(28, stride=1)\n",
    "        elif planes == 256:\n",
    "            self.globalAvgPool = nn.AvgPool2d(14, stride=1)\n",
    "        elif planes == 512:\n",
    "            self.globalAvgPool = nn.AvgPool2d(7, stride=1)\n",
    "        self.fc1 = nn.Linear(in_features=planes * 4, out_features=round(planes / 4))\n",
    "        self.fc2 = nn.Linear(in_features=round(planes / 4), out_features=planes * 4)\n",
    "        self.sigmoid = nn.Sigmoid()\n",
    "\n",
    "    def forward(self, x):\n",
    "        residual = x\n",
    "\n",
    "        out = self.conv1(x)\n",
    "        out = self.bn1(out)\n",
    "        out = self.relu(out)\n",
    "\n",
    "        out = self.conv2(out)\n",
    "        out = self.bn2(out)\n",
    "        out = self.relu(out)\n",
    "\n",
    "        out = self.conv3(out)\n",
    "        out = self.bn3(out)\n",
    "\n",
    "        if self.downsample is not None:\n",
    "            residual = self.downsample(x)\n",
    "\n",
    "        original_out = out\n",
    "        out = self.globalAvgPool(out)\n",
    "        out = out.view(out.size(0), -1)\n",
    "        out = self.fc1(out)\n",
    "        out = self.relu(out)\n",
    "        out = self.fc2(out)\n",
    "        out = self.sigmoid(out)\n",
    "        out = out.view(out.size(0), out.size(1), 1, 1)\n",
    "        out = out * original_out\n",
    "\n",
    "        out += residual\n",
    "        out = self.relu(out)\n",
    "\n",
    "        return out\n",
    "\n",
    "\n",
    "class SE_ResNeXt(nn.Module):\n",
    "\n",
    "    def __init__(self, block, layers, num_classes=10, num_group=32):\n",
    "        self.inplanes = 64\n",
    "        super(SE_ResNeXt, self).__init__()\n",
    "        self.conv1 = nn.Conv2d(3, 64, kernel_size=7, stride=2, padding=3,\n",
    "                               bias=False)\n",
    "        self.bn1 = nn.BatchNorm2d(64)\n",
    "        self.relu = nn.ReLU(inplace=True)\n",
    "        self.maxpool = nn.MaxPool2d(kernel_size=3, stride=2, padding=1)\n",
    "        self.layer1 = self._make_layer(block, 64, layers[0], num_group)\n",
    "        self.layer2 = self._make_layer(block, 128, layers[1], num_group, stride=2)\n",
    "        self.layer3 = self._make_layer(block, 256, layers[2], num_group, stride=2)\n",
    "        self.layer4 = self._make_layer(block, 512, layers[3], num_group, stride=2)\n",
    "        self.avgpool = nn.AvgPool2d(7, stride=1)\n",
    "        self.fc = nn.Linear(512 * block.expansion, num_classes)\n",
    "\n",
    "        for m in self.modules():\n",
    "            if isinstance(m, nn.Conv2d):\n",
    "                n = m.kernel_size[0] * m.kernel_size[1] * m.out_channels\n",
    "                m.weight.data.normal_(0, math.sqrt(2. / n))\n",
    "            elif isinstance(m, nn.BatchNorm2d):\n",
    "                m.weight.data.fill_(1)\n",
    "                m.bias.data.zero_()\n",
    "\n",
    "    def _make_layer(self, block, planes, blocks, num_group, stride=1):\n",
    "        downsample = None\n",
    "        if stride != 1 or self.inplanes != planes * block.expansion:\n",
    "            downsample = nn.Sequential(\n",
    "                nn.Conv2d(self.inplanes, planes * block.expansion,\n",
    "                          kernel_size=1, stride=stride, bias=False),\n",
    "                nn.BatchNorm2d(planes * block.expansion),\n",
    "            )\n",
    "\n",
    "        layers = []\n",
    "        layers.append(block(self.inplanes, planes, stride, downsample, num_group=num_group))\n",
    "        self.inplanes = planes * block.expansion\n",
    "        for i in range(1, blocks):\n",
    "            layers.append(block(self.inplanes, planes, num_group=num_group))\n",
    "\n",
    "        return nn.Sequential(*layers)\n",
    "\n",
    "    def forward(self, x):\n",
    "        x = self.conv1(x)\n",
    "        x = self.bn1(x)\n",
    "        x = self.relu(x)\n",
    "        x = self.maxpool(x)\n",
    "\n",
    "        x = self.layer1(x)\n",
    "        x = self.layer2(x)\n",
    "        x = self.layer3(x)\n",
    "        x = self.layer4(x)\n",
    "\n",
    "        x = self.avgpool(x)\n",
    "        x = x.view(x.size(0), -1)\n",
    "        x = self.fc(x)\n",
    "\n",
    "        return x\n",
    "\n",
    "\n",
    "def se_resnext_50(**kwargs):\n",
    "    \"\"\"Constructs a ResNeXt-50 model.\n",
    "    \"\"\"\n",
    "    model = SE_ResNeXt(Bottleneck, [3, 4, 6, 3], **kwargs)\n",
    "    return model\n",
    "\n",
    "\n",
    "def se_resnext_101(**kwargs):\n",
    "    \"\"\"Constructs a ResNeXt-101 model.\n",
    "    \"\"\"\n",
    "    model = SE_ResNeXt(Bottleneck, [3, 4, 23, 3], **kwargs)\n",
    "    return model\n",
    "\n",
    "\n",
    "def se_resnext_152(**kwargs):\n",
    "    \"\"\"Constructs a ResNeXt-152 model.\n",
    "    \"\"\"\n",
    "    model = SE_ResNeXt(Bottleneck, [3, 8, 36, 3], **kwargs)\n",
    "    return model\n",
    "\n",
    "  # --------------------训练过程---------------------------------\n",
    "model = se_resnext_50()\n",
    "if torch.cuda.is_available():\n",
    "    model.cuda()\n",
    "    print('Using GPU')\n",
    "\n",
    "params = [{'params': md.parameters()} for md in model.children()]\n",
    "optimizer = optim.Adam(model.parameters(), lr=learning_rate)\n",
    "loss_func = nn.CrossEntropyLoss()\n",
    "start_epoch = 0\n",
    "\n",
    "if os.path.exists(checkPointPath + 'SEResNeXt_best_19.pth'):\n",
    "    path_checkpoint = checkPointPath + 'SEResNeXt_best_19.pth'  # 断点路径\n",
    "    checkpoint = torch.load(path_checkpoint)  # 加载断点\n",
    "    model.load_state_dict(checkpoint['net'])  # 加载模型可学习参数\n",
    "    optimizer.load_state_dict(checkpoint['optimizer'])  # 加载优化器参数\n",
    "    start_epoch = checkpoint['epoch'] + 1  # 设置开始的epoch\n",
    "\n",
    "if TRAIN:\n",
    "  if os.path.exists(checkPointPath + 'loss.npy'):\n",
    "    Loss_list = np.load(checkPointPath + 'loss.npy', allow_pickle=True)\n",
    "  else:\n",
    "    Loss_list = []\n",
    "\n",
    "  if os.path.exists(checkPointPath + 'accuracy.npy'):\n",
    "    Accuracy_list = np.load(checkPointPath + 'accuracy.npy', allow_pickle=True)\n",
    "  else:\n",
    "    Accuracy_list = []\n",
    "\n",
    "  for epoch in range(start_epoch, Epoch):\n",
    "    print('epoch {}'.format(epoch))\n",
    "    # training-----------------------------\n",
    "    model.train()\n",
    "    train_loss = 0.\n",
    "    train_acc = 0.\n",
    "    print('Training...')\n",
    "    trainBar = tqdm(total=len(train_dataloader))\n",
    "    for step, (batch_x, batch_y) in enumerate(train_dataloader):\n",
    "      if torch.cuda.is_available():\n",
    "        batch_x, batch_y = Variable(batch_x).cuda(), Variable(batch_y).cuda()\n",
    "      else:\n",
    "        batch_x, batch_y = Variable(batch_x), Variable(batch_y)\n",
    "      out = model(batch_x)\n",
    "      loss = loss_func(out, batch_y)\n",
    "      train_loss += loss.data\n",
    "      pred = torch.max(out, 1)[1]\n",
    "      train_correct = (pred == batch_y).sum()\n",
    "      train_acc += train_correct.data\n",
    "      optimizer.zero_grad()\n",
    "      loss.backward()\n",
    "      optimizer.step()\n",
    "      trainBar.update(1)\n",
    "    print('Train Loss: {:.6f}, Acc: {:.6f}'.format(train_loss / len(train_datasets), train_acc / len(train_datasets)))\n",
    "    trainBar.close()\n",
    "\n",
    "    # 断点保存\n",
    "    checkpoint = {\n",
    "        \"net\": model.state_dict(),\n",
    "        'optimizer':optimizer.state_dict(),\n",
    "        \"epoch\": epoch\n",
    "    }\n",
    "    torch.save(checkpoint, checkPointPath + 'SEResNeXt_best_%s.pth' %(str(epoch)))\n",
    "\n",
    "    # evaluation--------------------------------\n",
    "    model.eval()\n",
    "    eval_loss = 0.\n",
    "    eval_acc = 0.\n",
    "    print('Testing...')\n",
    "    testBar = tqdm(total=len(val_dataloader))\n",
    "    for batch_x, batch_y in val_dataloader:\n",
    "      with torch.no_grad():\n",
    "        if torch.cuda.is_available():\n",
    "          batch_x, batch_y = Variable(batch_x).cuda(), Variable(batch_y).cuda()\n",
    "        else:\n",
    "          batch_x, batch_y = Variable(batch_x), Variable(batch_y)\n",
    "      out = model(batch_x)\n",
    "      loss = loss_func(out, batch_y)\n",
    "      eval_loss += loss.data\n",
    "      pred = torch.max(out, 1)[1]\n",
    "      num_correct = (pred == batch_y).sum()\n",
    "      eval_acc += num_correct.data\n",
    "      testBar.update(1)\n",
    "    print('Test Loss: {:.6f}, Acc: {:.6f}'.format(eval_loss / len(val_datasets), eval_acc / len(val_datasets)))\n",
    "    testBar.close()\n",
    "\n",
    "    # 断点保存\n",
    "    if epoch >= len(Loss_list):\n",
    "        Loss_list = np.hstack((Loss_list, eval_loss.data.cpu() / len(val_datasets)))\n",
    "        Accuracy_list = np.hstack((Accuracy_list, 100 * eval_acc.data.cpu() / len(val_datasets)))\n",
    "    else:\n",
    "        Loss_list[epoch] = eval_loss.data.cpu() / len(val_datasets)\n",
    "        Accuracy_list[epoch] = 100 * eval_acc.data.cpu() / len(val_datasets)\n",
    "\n",
    "    np.save(checkPointPath + 'loss', Loss_list)\n",
    "    np.save(checkPointPath + 'accuracy', Accuracy_list)\n",
    "\n",
    "  x1 = range(0, 10)\n",
    "  x2 = range(0, 10)\n",
    "  y1 = Accuracy_list\n",
    "  y2 = Loss_list\n",
    "  plt.subplot(2, 1, 1)\n",
    "  plt.plot(x1, y1, 'o-')\n",
    "  plt.title('Test accuracy vs. epoches')\n",
    "  plt.ylabel('Test accuracy')\n",
    "  plt.subplot(2, 1, 2)\n",
    "  plt.plot(x2, y2, '.-')\n",
    "  plt.xlabel('Test loss vs. epoches')\n",
    "  plt.ylabel('Test loss')\n",
    "  plt.show()\n",
    "  # plt.savefig(\"accuracy_loss.jpg\")\n",
    "\n",
    "else:\n",
    "  model.eval()\n",
    "  eval_loss = 0.\n",
    "  eval_acc = 0.\n",
    "  print('Testing...')\n",
    "  testBar = tqdm(total=len(test_dataloader))\n",
    "  for batch_x, batch_y in test_dataloader:\n",
    "    with torch.no_grad():\n",
    "      if torch.cuda.is_available():\n",
    "        batch_x, batch_y = Variable(batch_x).cuda(), Variable(batch_y).cuda()\n",
    "      else:\n",
    "        batch_x, batch_y = Variable(batch_x), Variable(batch_y)\n",
    "    out = model(batch_x)\n",
    "    loss = loss_func(out, batch_y)\n",
    "    eval_loss += loss.data\n",
    "    pred = torch.max(out, 1)[1]\n",
    "    num_correct = (pred == batch_y).sum()\n",
    "    eval_acc += num_correct.data\n",
    "    testBar.update(1)\n",
    "  print('Test Loss: {:.6f}, Acc: {:.6f}'.format(eval_loss / len(test_datasets), eval_acc / len(test_datasets)))\n",
    "  testBar.close()"
   ]
  }
 ],
 "metadata": {
  "kernelspec": {
   "display_name": "Python 3",
   "language": "python",
   "name": "python3"
  },
  "language_info": {
   "codemirror_mode": {
    "name": "ipython",
    "version": 2
   },
   "file_extension": ".py",
   "mimetype": "text/x-python",
   "name": "python",
   "nbconvert_exporter": "python",
   "pygments_lexer": "ipython2",
   "version": "2.7.6"
  }
 },
 "nbformat": 4,
 "nbformat_minor": 0
}