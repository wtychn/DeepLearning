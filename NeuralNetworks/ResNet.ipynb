{
 "cells": [
  {
   "cell_type": "code",
   "execution_count": null,
   "metadata": {
    "collapsed": true,
    "pycharm": {
     "is_executing": true
    }
   },
   "outputs": [
    {
     "name": "stdout",
     "output_type": "stream",
     "text": [
      "Using GPU\n",
      "epoch 20\n",
      "Training...\n"
     ]
    },
    {
     "data": {
      "text/plain": "  0%|          | 0/756 [00:00<?, ?it/s]",
      "application/vnd.jupyter.widget-view+json": {
       "version_major": 2,
       "version_minor": 0,
       "model_id": "46b0c41586ff436c989b45b59fbce110"
      }
     },
     "metadata": {},
     "output_type": "display_data"
    },
    {
     "name": "stdout",
     "output_type": "stream",
     "text": [
      "Train Loss: 0.010302, Acc: 0.878889\n",
      "Testing...\n"
     ]
    },
    {
     "data": {
      "text/plain": "  0%|          | 0/65 [00:00<?, ?it/s]",
      "application/vnd.jupyter.widget-view+json": {
       "version_major": 2,
       "version_minor": 0,
       "model_id": "2dac22f787c04c9ab685fe6d31e9e0f5"
      }
     },
     "metadata": {},
     "output_type": "display_data"
    },
    {
     "name": "stdout",
     "output_type": "stream",
     "text": [
      "Test Loss: 0.015031, Acc: 0.826318\n",
      "epoch 21\n",
      "Training...\n"
     ]
    },
    {
     "data": {
      "text/plain": "  0%|          | 0/756 [00:00<?, ?it/s]",
      "application/vnd.jupyter.widget-view+json": {
       "version_major": 2,
       "version_minor": 0,
       "model_id": "b928073b41ee429db7f370bb39d23ed2"
      }
     },
     "metadata": {},
     "output_type": "display_data"
    },
    {
     "name": "stdout",
     "output_type": "stream",
     "text": [
      "Train Loss: 0.009850, Acc: 0.885055\n",
      "Testing...\n"
     ]
    },
    {
     "data": {
      "text/plain": "  0%|          | 0/65 [00:00<?, ?it/s]",
      "application/vnd.jupyter.widget-view+json": {
       "version_major": 2,
       "version_minor": 0,
       "model_id": "926853c534ac44b494595dc545dfc026"
      }
     },
     "metadata": {},
     "output_type": "display_data"
    },
    {
     "name": "stdout",
     "output_type": "stream",
     "text": [
      "Test Loss: 0.019729, Acc: 0.787131\n",
      "epoch 22\n",
      "Training...\n"
     ]
    },
    {
     "data": {
      "text/plain": "  0%|          | 0/756 [00:00<?, ?it/s]",
      "application/vnd.jupyter.widget-view+json": {
       "version_major": 2,
       "version_minor": 0,
       "model_id": "cdda2e9fb7724a2ca4f1dd47a1418ed6"
      }
     },
     "metadata": {},
     "output_type": "display_data"
    },
    {
     "name": "stdout",
     "output_type": "stream",
     "text": [
      "Train Loss: 0.009941, Acc: 0.882862\n",
      "Testing...\n"
     ]
    },
    {
     "data": {
      "text/plain": "  0%|          | 0/65 [00:00<?, ?it/s]",
      "application/vnd.jupyter.widget-view+json": {
       "version_major": 2,
       "version_minor": 0,
       "model_id": "d4d8515c6fd349f1b462f96a301bce63"
      }
     },
     "metadata": {},
     "output_type": "display_data"
    },
    {
     "name": "stdout",
     "output_type": "stream",
     "text": [
      "Test Loss: 0.014048, Acc: 0.839865\n",
      "epoch 23\n",
      "Training...\n"
     ]
    },
    {
     "data": {
      "text/plain": "  0%|          | 0/756 [00:00<?, ?it/s]",
      "application/vnd.jupyter.widget-view+json": {
       "version_major": 2,
       "version_minor": 0,
       "model_id": "d642a1407f86484ea047b9a25f8c51eb"
      }
     },
     "metadata": {},
     "output_type": "display_data"
    },
    {
     "name": "stdout",
     "output_type": "stream",
     "text": [
      "Train Loss: 0.009087, Acc: 0.895854\n",
      "Testing...\n"
     ]
    },
    {
     "data": {
      "text/plain": "  0%|          | 0/65 [00:00<?, ?it/s]",
      "application/vnd.jupyter.widget-view+json": {
       "version_major": 2,
       "version_minor": 0,
       "model_id": "b92404b787484f2caad1472cc601f901"
      }
     },
     "metadata": {},
     "output_type": "display_data"
    },
    {
     "name": "stdout",
     "output_type": "stream",
     "text": [
      "Test Loss: 0.014441, Acc: 0.823416\n",
      "epoch 24\n",
      "Training...\n"
     ]
    },
    {
     "data": {
      "text/plain": "  0%|          | 0/756 [00:00<?, ?it/s]",
      "application/vnd.jupyter.widget-view+json": {
       "version_major": 2,
       "version_minor": 0,
       "model_id": "4bca7bef2e8a409294069d38d489b0a0"
      }
     },
     "metadata": {},
     "output_type": "display_data"
    },
    {
     "name": "stdout",
     "output_type": "stream",
     "text": [
      "Train Loss: 0.008998, Acc: 0.895606\n",
      "Testing...\n"
     ]
    },
    {
     "data": {
      "text/plain": "  0%|          | 0/65 [00:00<?, ?it/s]",
      "application/vnd.jupyter.widget-view+json": {
       "version_major": 2,
       "version_minor": 0,
       "model_id": "8989b47742e44726b62725bbe78a06a5"
      }
     },
     "metadata": {},
     "output_type": "display_data"
    },
    {
     "name": "stdout",
     "output_type": "stream",
     "text": [
      "Test Loss: 0.015168, Acc: 0.836478\n",
      "epoch 25\n",
      "Training...\n"
     ]
    },
    {
     "data": {
      "text/plain": "  0%|          | 0/756 [00:00<?, ?it/s]",
      "application/vnd.jupyter.widget-view+json": {
       "version_major": 2,
       "version_minor": 0,
       "model_id": "83175ff3081b4169a27632b94b4ae701"
      }
     },
     "metadata": {},
     "output_type": "display_data"
    },
    {
     "name": "stdout",
     "output_type": "stream",
     "text": [
      "Train Loss: 0.008518, Acc: 0.903592\n",
      "Testing...\n"
     ]
    },
    {
     "data": {
      "text/plain": "  0%|          | 0/65 [00:00<?, ?it/s]",
      "application/vnd.jupyter.widget-view+json": {
       "version_major": 2,
       "version_minor": 0,
       "model_id": "cd2c40d9aa7f4c3e8ab56e5d793d4489"
      }
     },
     "metadata": {},
     "output_type": "display_data"
    },
    {
     "name": "stdout",
     "output_type": "stream",
     "text": [
      "Test Loss: 0.014880, Acc: 0.841316\n",
      "epoch 26\n",
      "Training...\n"
     ]
    },
    {
     "data": {
      "text/plain": "  0%|          | 0/756 [00:00<?, ?it/s]",
      "application/vnd.jupyter.widget-view+json": {
       "version_major": 2,
       "version_minor": 0,
       "model_id": "250f98fc7dac4fdab8e49e1046826de3"
      }
     },
     "metadata": {},
     "output_type": "display_data"
    },
    {
     "name": "stdout",
     "output_type": "stream",
     "text": [
      "Train Loss: 0.008303, Acc: 0.905536\n",
      "Testing...\n"
     ]
    },
    {
     "data": {
      "text/plain": "  0%|          | 0/65 [00:00<?, ?it/s]",
      "application/vnd.jupyter.widget-view+json": {
       "version_major": 2,
       "version_minor": 0,
       "model_id": "4b22436e0757434a80467446e33b6609"
      }
     },
     "metadata": {},
     "output_type": "display_data"
    },
    {
     "name": "stdout",
     "output_type": "stream",
     "text": [
      "Test Loss: 0.015975, Acc: 0.840348\n",
      "epoch 27\n",
      "Training...\n"
     ]
    },
    {
     "data": {
      "text/plain": "  0%|          | 0/756 [00:00<?, ?it/s]",
      "application/vnd.jupyter.widget-view+json": {
       "version_major": 2,
       "version_minor": 0,
       "model_id": "b9fcf11c999546f48e07c8d5f17f4cd1"
      }
     },
     "metadata": {},
     "output_type": "display_data"
    },
    {
     "name": "stdout",
     "output_type": "stream",
     "text": [
      "Train Loss: 0.008212, Acc: 0.906198\n",
      "Testing...\n"
     ]
    },
    {
     "data": {
      "text/plain": "  0%|          | 0/65 [00:00<?, ?it/s]",
      "application/vnd.jupyter.widget-view+json": {
       "version_major": 2,
       "version_minor": 0,
       "model_id": "8520712566b94b169c78f5574bc89c63"
      }
     },
     "metadata": {},
     "output_type": "display_data"
    },
    {
     "name": "stdout",
     "output_type": "stream",
     "text": [
      "Test Loss: 0.013671, Acc: 0.848573\n",
      "epoch 28\n",
      "Training...\n"
     ]
    },
    {
     "data": {
      "text/plain": "  0%|          | 0/756 [00:00<?, ?it/s]",
      "application/vnd.jupyter.widget-view+json": {
       "version_major": 2,
       "version_minor": 0,
       "model_id": "deb7d80d35af4f3ea5da541cb25a49a6"
      }
     },
     "metadata": {},
     "output_type": "display_data"
    },
    {
     "name": "stdout",
     "output_type": "stream",
     "text": [
      "Train Loss: 0.007666, Acc: 0.913398\n",
      "Testing...\n"
     ]
    },
    {
     "data": {
      "text/plain": "  0%|          | 0/65 [00:00<?, ?it/s]",
      "application/vnd.jupyter.widget-view+json": {
       "version_major": 2,
       "version_minor": 0,
       "model_id": "81e1855399064532b5bb37591f355b45"
      }
     },
     "metadata": {},
     "output_type": "display_data"
    },
    {
     "name": "stdout",
     "output_type": "stream",
     "text": [
      "Test Loss: 0.016421, Acc: 0.835510\n",
      "epoch 29\n",
      "Training...\n"
     ]
    },
    {
     "data": {
      "text/plain": "  0%|          | 0/756 [00:00<?, ?it/s]",
      "application/vnd.jupyter.widget-view+json": {
       "version_major": 2,
       "version_minor": 0,
       "model_id": "068e598b55bd43e784e1289368e543e5"
      }
     },
     "metadata": {},
     "output_type": "display_data"
    },
    {
     "name": "stdout",
     "output_type": "stream",
     "text": [
      "Train Loss: 0.007524, Acc: 0.914350\n",
      "Testing...\n"
     ]
    },
    {
     "data": {
      "text/plain": "  0%|          | 0/65 [00:00<?, ?it/s]",
      "application/vnd.jupyter.widget-view+json": {
       "version_major": 2,
       "version_minor": 0,
       "model_id": "eb1bfd1e67c34389a89bc71a27a2d8fd"
      }
     },
     "metadata": {},
     "output_type": "display_data"
    },
    {
     "name": "stdout",
     "output_type": "stream",
     "text": [
      "Test Loss: 0.014800, Acc: 0.843735\n",
      "epoch 30\n",
      "Training...\n"
     ]
    },
    {
     "data": {
      "text/plain": "  0%|          | 0/756 [00:00<?, ?it/s]",
      "application/vnd.jupyter.widget-view+json": {
       "version_major": 2,
       "version_minor": 0,
       "model_id": "20f7279493384e75b4944c07429ac49f"
      }
     },
     "metadata": {},
     "output_type": "display_data"
    },
    {
     "name": "stdout",
     "output_type": "stream",
     "text": [
      "Train Loss: 0.007170, Acc: 0.919273\n",
      "Testing...\n"
     ]
    },
    {
     "data": {
      "text/plain": "  0%|          | 0/65 [00:00<?, ?it/s]",
      "application/vnd.jupyter.widget-view+json": {
       "version_major": 2,
       "version_minor": 0,
       "model_id": "bb44225ab86c42f5bad41c7c6a4c94d6"
      }
     },
     "metadata": {},
     "output_type": "display_data"
    },
    {
     "name": "stdout",
     "output_type": "stream",
     "text": [
      "Test Loss: 0.014923, Acc: 0.851476\n",
      "epoch 31\n",
      "Training...\n"
     ]
    },
    {
     "data": {
      "text/plain": "  0%|          | 0/756 [00:00<?, ?it/s]",
      "application/vnd.jupyter.widget-view+json": {
       "version_major": 2,
       "version_minor": 0,
       "model_id": "dee7c79c3ae64e9994bd91b9114c260a"
      }
     },
     "metadata": {},
     "output_type": "display_data"
    },
    {
     "name": "stdout",
     "output_type": "stream",
     "text": [
      "Train Loss: 0.007289, Acc: 0.919191\n",
      "Testing...\n"
     ]
    },
    {
     "data": {
      "text/plain": "  0%|          | 0/65 [00:00<?, ?it/s]",
      "application/vnd.jupyter.widget-view+json": {
       "version_major": 2,
       "version_minor": 0,
       "model_id": "5b47d581e1424c189443990a3ec0ce5e"
      }
     },
     "metadata": {},
     "output_type": "display_data"
    },
    {
     "name": "stdout",
     "output_type": "stream",
     "text": [
      "Test Loss: 0.014825, Acc: 0.840348\n",
      "epoch 32\n",
      "Training...\n"
     ]
    },
    {
     "data": {
      "text/plain": "  0%|          | 0/756 [00:00<?, ?it/s]",
      "application/vnd.jupyter.widget-view+json": {
       "version_major": 2,
       "version_minor": 0,
       "model_id": "b2a75c1d14e8424fb91958dd862dd0a0"
      }
     },
     "metadata": {},
     "output_type": "display_data"
    },
    {
     "name": "stdout",
     "output_type": "stream",
     "text": [
      "Train Loss: 0.006917, Acc: 0.922294\n",
      "Testing...\n"
     ]
    },
    {
     "data": {
      "text/plain": "  0%|          | 0/65 [00:00<?, ?it/s]",
      "application/vnd.jupyter.widget-view+json": {
       "version_major": 2,
       "version_minor": 0,
       "model_id": "93ae9a3c6ba14b218a125e86b41300cf"
      }
     },
     "metadata": {},
     "output_type": "display_data"
    },
    {
     "name": "stdout",
     "output_type": "stream",
     "text": [
      "Test Loss: 0.015847, Acc: 0.825351\n",
      "epoch 33\n",
      "Training...\n"
     ]
    },
    {
     "data": {
      "text/plain": "  0%|          | 0/756 [00:00<?, ?it/s]",
      "application/vnd.jupyter.widget-view+json": {
       "version_major": 2,
       "version_minor": 0,
       "model_id": "a1f3cdf18fad4c359c95748c36cb8ac2"
      }
     },
     "metadata": {},
     "output_type": "display_data"
    },
    {
     "name": "stdout",
     "output_type": "stream",
     "text": [
      "Train Loss: 0.006360, Acc: 0.928956\n",
      "Testing...\n"
     ]
    },
    {
     "data": {
      "text/plain": "  0%|          | 0/65 [00:00<?, ?it/s]",
      "application/vnd.jupyter.widget-view+json": {
       "version_major": 2,
       "version_minor": 0,
       "model_id": "b9af5c5d0f714cbe8fc09030914005e9"
      }
     },
     "metadata": {},
     "output_type": "display_data"
    },
    {
     "name": "stdout",
     "output_type": "stream",
     "text": [
      "Test Loss: 0.015732, Acc: 0.848089\n",
      "epoch 34\n",
      "Training...\n"
     ]
    },
    {
     "data": {
      "text/plain": "  0%|          | 0/756 [00:00<?, ?it/s]",
      "application/vnd.jupyter.widget-view+json": {
       "version_major": 2,
       "version_minor": 0,
       "model_id": "cbf95c6bb4814b5eb6c7c00e838023cd"
      }
     },
     "metadata": {},
     "output_type": "display_data"
    },
    {
     "name": "stdout",
     "output_type": "stream",
     "text": [
      "Train Loss: 0.006426, Acc: 0.928956\n",
      "Testing...\n"
     ]
    },
    {
     "data": {
      "text/plain": "  0%|          | 0/65 [00:00<?, ?it/s]",
      "application/vnd.jupyter.widget-view+json": {
       "version_major": 2,
       "version_minor": 0,
       "model_id": "a6c2947d34074b2691ec728f68b7e53d"
      }
     },
     "metadata": {},
     "output_type": "display_data"
    },
    {
     "name": "stdout",
     "output_type": "stream",
     "text": [
      "Test Loss: 0.014782, Acc: 0.848573\n",
      "epoch 35\n",
      "Training...\n"
     ]
    },
    {
     "data": {
      "text/plain": "  0%|          | 0/756 [00:00<?, ?it/s]",
      "application/vnd.jupyter.widget-view+json": {
       "version_major": 2,
       "version_minor": 0,
       "model_id": "d99d43929c094435a20670b853ef745f"
      }
     },
     "metadata": {},
     "output_type": "display_data"
    },
    {
     "name": "stdout",
     "output_type": "stream",
     "text": [
      "Train Loss: 0.006083, Acc: 0.932555\n",
      "Testing...\n"
     ]
    },
    {
     "data": {
      "text/plain": "  0%|          | 0/65 [00:00<?, ?it/s]",
      "application/vnd.jupyter.widget-view+json": {
       "version_major": 2,
       "version_minor": 0,
       "model_id": "50dc5950fb6945f1afc6a9b2448fea2d"
      }
     },
     "metadata": {},
     "output_type": "display_data"
    },
    {
     "name": "stdout",
     "output_type": "stream",
     "text": [
      "Test Loss: 0.017164, Acc: 0.852927\n",
      "epoch 36\n",
      "Training...\n"
     ]
    },
    {
     "data": {
      "text/plain": "  0%|          | 0/756 [00:00<?, ?it/s]",
      "application/vnd.jupyter.widget-view+json": {
       "version_major": 2,
       "version_minor": 0,
       "model_id": "8aad3e813af14f8ea9e66e75cdf10fe3"
      }
     },
     "metadata": {},
     "output_type": "display_data"
    },
    {
     "name": "stdout",
     "output_type": "stream",
     "text": [
      "Train Loss: 0.006376, Acc: 0.931024\n",
      "Testing...\n"
     ]
    },
    {
     "data": {
      "text/plain": "  0%|          | 0/65 [00:00<?, ?it/s]",
      "application/vnd.jupyter.widget-view+json": {
       "version_major": 2,
       "version_minor": 0,
       "model_id": "90be69fbb2bb44bc9f0fe9794103884d"
      }
     },
     "metadata": {},
     "output_type": "display_data"
    },
    {
     "name": "stdout",
     "output_type": "stream",
     "text": [
      "Test Loss: 0.015401, Acc: 0.852443\n",
      "epoch 37\n",
      "Training...\n"
     ]
    },
    {
     "data": {
      "text/plain": "  0%|          | 0/756 [00:00<?, ?it/s]",
      "application/vnd.jupyter.widget-view+json": {
       "version_major": 2,
       "version_minor": 0,
       "model_id": "e5ec994b71ea4492856c501d0835c977"
      }
     },
     "metadata": {},
     "output_type": "display_data"
    },
    {
     "name": "stdout",
     "output_type": "stream",
     "text": [
      "Train Loss: 0.005598, Acc: 0.938638\n",
      "Testing...\n"
     ]
    },
    {
     "data": {
      "text/plain": "  0%|          | 0/65 [00:00<?, ?it/s]",
      "application/vnd.jupyter.widget-view+json": {
       "version_major": 2,
       "version_minor": 0,
       "model_id": "b0458d1c3d324f74bedfe717862fa82c"
      }
     },
     "metadata": {},
     "output_type": "display_data"
    },
    {
     "name": "stdout",
     "output_type": "stream",
     "text": [
      "Test Loss: 0.018099, Acc: 0.863087\n",
      "epoch 38\n",
      "Training...\n"
     ]
    },
    {
     "data": {
      "text/plain": "  0%|          | 0/756 [00:00<?, ?it/s]",
      "application/vnd.jupyter.widget-view+json": {
       "version_major": 2,
       "version_minor": 0,
       "model_id": "357e91eb88ec455da61b2caba1132937"
      }
     },
     "metadata": {},
     "output_type": "display_data"
    },
    {
     "name": "stdout",
     "output_type": "stream",
     "text": [
      "Train Loss: 0.005805, Acc: 0.937272\n",
      "Testing...\n"
     ]
    },
    {
     "data": {
      "text/plain": "  0%|          | 0/65 [00:00<?, ?it/s]",
      "application/vnd.jupyter.widget-view+json": {
       "version_major": 2,
       "version_minor": 0,
       "model_id": "75ed94d2af14434b8d9481da6a8afb21"
      }
     },
     "metadata": {},
     "output_type": "display_data"
    },
    {
     "name": "stdout",
     "output_type": "stream",
     "text": [
      "Test Loss: 0.014915, Acc: 0.862603\n",
      "epoch 39\n",
      "Training...\n"
     ]
    },
    {
     "data": {
      "text/plain": "  0%|          | 0/756 [00:00<?, ?it/s]",
      "application/vnd.jupyter.widget-view+json": {
       "version_major": 2,
       "version_minor": 0,
       "model_id": "dad914eb712c4ca8be250df448dbc317"
      }
     },
     "metadata": {},
     "output_type": "display_data"
    },
    {
     "name": "stdout",
     "output_type": "stream",
     "text": [
      "Train Loss: 0.005920, Acc: 0.933176\n",
      "Testing...\n"
     ]
    },
    {
     "data": {
      "text/plain": "  0%|          | 0/65 [00:00<?, ?it/s]",
      "application/vnd.jupyter.widget-view+json": {
       "version_major": 2,
       "version_minor": 0,
       "model_id": "f756983c15a345e8b209226270c78bcd"
      }
     },
     "metadata": {},
     "output_type": "display_data"
    },
    {
     "name": "stdout",
     "output_type": "stream",
     "text": [
      "Test Loss: 0.015775, Acc: 0.864538\n",
      "epoch 40\n",
      "Training...\n"
     ]
    },
    {
     "data": {
      "text/plain": "  0%|          | 0/756 [00:00<?, ?it/s]",
      "application/vnd.jupyter.widget-view+json": {
       "version_major": 2,
       "version_minor": 0,
       "model_id": "4ee04b28797e477783d9a2dc421f7cd3"
      }
     },
     "metadata": {},
     "output_type": "display_data"
    },
    {
     "name": "stdout",
     "output_type": "stream",
     "text": [
      "Train Loss: 0.005579, Acc: 0.942362\n",
      "Testing...\n"
     ]
    },
    {
     "data": {
      "text/plain": "  0%|          | 0/65 [00:00<?, ?it/s]",
      "application/vnd.jupyter.widget-view+json": {
       "version_major": 2,
       "version_minor": 0,
       "model_id": "a4546dfb4cc045fda4406dc1458c4770"
      }
     },
     "metadata": {},
     "output_type": "display_data"
    },
    {
     "name": "stdout",
     "output_type": "stream",
     "text": [
      "Test Loss: 0.018641, Acc: 0.848573\n",
      "epoch 41\n",
      "Training...\n"
     ]
    },
    {
     "data": {
      "text/plain": "  0%|          | 0/756 [00:00<?, ?it/s]",
      "application/vnd.jupyter.widget-view+json": {
       "version_major": 2,
       "version_minor": 0,
       "model_id": "1c7091c06d284cf9a6a91ce7408eef4e"
      }
     },
     "metadata": {},
     "output_type": "display_data"
    },
    {
     "name": "stdout",
     "output_type": "stream",
     "text": [
      "Train Loss: 0.005395, Acc: 0.941617\n",
      "Testing...\n"
     ]
    },
    {
     "data": {
      "text/plain": "  0%|          | 0/65 [00:00<?, ?it/s]",
      "application/vnd.jupyter.widget-view+json": {
       "version_major": 2,
       "version_minor": 0,
       "model_id": "7a6d0e3ea6194b3ba0687cbbc1013b5a"
      }
     },
     "metadata": {},
     "output_type": "display_data"
    },
    {
     "name": "stdout",
     "output_type": "stream",
     "text": [
      "Test Loss: 0.019104, Acc: 0.824383\n",
      "epoch 42\n",
      "Training...\n"
     ]
    },
    {
     "data": {
      "text/plain": "  0%|          | 0/756 [00:00<?, ?it/s]",
      "application/vnd.jupyter.widget-view+json": {
       "version_major": 2,
       "version_minor": 0,
       "model_id": "5b9be39ca3274d348d8016ef99ed7908"
      }
     },
     "metadata": {},
     "output_type": "display_data"
    },
    {
     "name": "stdout",
     "output_type": "stream",
     "text": [
      "Train Loss: 0.005358, Acc: 0.942776\n",
      "Testing...\n"
     ]
    },
    {
     "data": {
      "text/plain": "  0%|          | 0/65 [00:00<?, ?it/s]",
      "application/vnd.jupyter.widget-view+json": {
       "version_major": 2,
       "version_minor": 0,
       "model_id": "712fa75f0f83406cb3d466684a1dc3f3"
      }
     },
     "metadata": {},
     "output_type": "display_data"
    },
    {
     "name": "stdout",
     "output_type": "stream",
     "text": [
      "Test Loss: 0.016276, Acc: 0.864538\n",
      "epoch 43\n",
      "Training...\n"
     ]
    },
    {
     "data": {
      "text/plain": "  0%|          | 0/756 [00:00<?, ?it/s]",
      "application/vnd.jupyter.widget-view+json": {
       "version_major": 2,
       "version_minor": 0,
       "model_id": "1934fd820d494c71842e5709fca87075"
      }
     },
     "metadata": {},
     "output_type": "display_data"
    },
    {
     "name": "stdout",
     "output_type": "stream",
     "text": [
      "Train Loss: 0.005085, Acc: 0.943727\n",
      "Testing...\n"
     ]
    },
    {
     "data": {
      "text/plain": "  0%|          | 0/65 [00:00<?, ?it/s]",
      "application/vnd.jupyter.widget-view+json": {
       "version_major": 2,
       "version_minor": 0,
       "model_id": "1959b70034b64c8ea94dc651a33ed7d0"
      }
     },
     "metadata": {},
     "output_type": "display_data"
    },
    {
     "name": "stdout",
     "output_type": "stream",
     "text": [
      "Test Loss: 0.015816, Acc: 0.870344\n",
      "epoch 44\n",
      "Training...\n"
     ]
    },
    {
     "data": {
      "text/plain": "  0%|          | 0/756 [00:00<?, ?it/s]",
      "application/vnd.jupyter.widget-view+json": {
       "version_major": 2,
       "version_minor": 0,
       "model_id": "ccde0d153d1f4e25a88653c211e34c68"
      }
     },
     "metadata": {},
     "output_type": "display_data"
    },
    {
     "name": "stdout",
     "output_type": "stream",
     "text": [
      "Train Loss: 0.005122, Acc: 0.946913\n",
      "Testing...\n"
     ]
    },
    {
     "data": {
      "text/plain": "  0%|          | 0/65 [00:00<?, ?it/s]",
      "application/vnd.jupyter.widget-view+json": {
       "version_major": 2,
       "version_minor": 0,
       "model_id": "c47c5aad63904214a8266f4c2c2f4508"
      }
     },
     "metadata": {},
     "output_type": "display_data"
    },
    {
     "name": "stdout",
     "output_type": "stream",
     "text": [
      "Test Loss: 0.015370, Acc: 0.870344\n",
      "epoch 45\n",
      "Training...\n"
     ]
    },
    {
     "data": {
      "text/plain": "  0%|          | 0/756 [00:00<?, ?it/s]",
      "application/vnd.jupyter.widget-view+json": {
       "version_major": 2,
       "version_minor": 0,
       "model_id": "6d45b40e1cbb4382810b143ed6989624"
      }
     },
     "metadata": {},
     "output_type": "display_data"
    },
    {
     "name": "stdout",
     "output_type": "stream",
     "text": [
      "Train Loss: 0.005051, Acc: 0.946706\n",
      "Testing...\n"
     ]
    },
    {
     "data": {
      "text/plain": "  0%|          | 0/65 [00:00<?, ?it/s]",
      "application/vnd.jupyter.widget-view+json": {
       "version_major": 2,
       "version_minor": 0,
       "model_id": "48ecb51c2b4b4144842ae8369cb935b5"
      }
     },
     "metadata": {},
     "output_type": "display_data"
    },
    {
     "name": "stdout",
     "output_type": "stream",
     "text": [
      "Test Loss: 0.015422, Acc: 0.856314\n",
      "epoch 46\n",
      "Training...\n"
     ]
    },
    {
     "data": {
      "text/plain": "  0%|          | 0/756 [00:00<?, ?it/s]",
      "application/vnd.jupyter.widget-view+json": {
       "version_major": 2,
       "version_minor": 0,
       "model_id": "e676023e8a394d3f84318e6c7a96cdc9"
      }
     },
     "metadata": {},
     "output_type": "display_data"
    },
    {
     "name": "stdout",
     "output_type": "stream",
     "text": [
      "Train Loss: 0.004887, Acc: 0.945920\n",
      "Testing...\n"
     ]
    },
    {
     "data": {
      "text/plain": "  0%|          | 0/65 [00:00<?, ?it/s]",
      "application/vnd.jupyter.widget-view+json": {
       "version_major": 2,
       "version_minor": 0,
       "model_id": "605a01d6ab6e4d7f979656806b5bf1e0"
      }
     },
     "metadata": {},
     "output_type": "display_data"
    },
    {
     "name": "stdout",
     "output_type": "stream",
     "text": [
      "Test Loss: 0.017843, Acc: 0.858249\n",
      "epoch 47\n",
      "Training...\n"
     ]
    },
    {
     "data": {
      "text/plain": "  0%|          | 0/756 [00:00<?, ?it/s]",
      "application/vnd.jupyter.widget-view+json": {
       "version_major": 2,
       "version_minor": 0,
       "model_id": "e88a73edc2514de88a935752e03f1b2c"
      }
     },
     "metadata": {},
     "output_type": "display_data"
    },
    {
     "name": "stdout",
     "output_type": "stream",
     "text": [
      "Train Loss: 0.004808, Acc: 0.948362\n",
      "Testing...\n"
     ]
    },
    {
     "data": {
      "text/plain": "  0%|          | 0/65 [00:00<?, ?it/s]",
      "application/vnd.jupyter.widget-view+json": {
       "version_major": 2,
       "version_minor": 0,
       "model_id": "5b6a9c8364db41a58c54ed440e7eaca8"
      }
     },
     "metadata": {},
     "output_type": "display_data"
    },
    {
     "name": "stdout",
     "output_type": "stream",
     "text": [
      "Test Loss: 0.017660, Acc: 0.848089\n",
      "epoch 48\n",
      "Training...\n"
     ]
    },
    {
     "data": {
      "text/plain": "  0%|          | 0/756 [00:00<?, ?it/s]",
      "application/vnd.jupyter.widget-view+json": {
       "version_major": 2,
       "version_minor": 0,
       "model_id": "4f61e1f85ec247bfabda2d767282b231"
      }
     },
     "metadata": {},
     "output_type": "display_data"
    },
    {
     "name": "stdout",
     "output_type": "stream",
     "text": [
      "Train Loss: 0.004718, Acc: 0.951217\n",
      "Testing...\n"
     ]
    },
    {
     "data": {
      "text/plain": "  0%|          | 0/65 [00:00<?, ?it/s]",
      "application/vnd.jupyter.widget-view+json": {
       "version_major": 2,
       "version_minor": 0,
       "model_id": "fd571b620df74976953affe168ddb779"
      }
     },
     "metadata": {},
     "output_type": "display_data"
    },
    {
     "name": "stdout",
     "output_type": "stream",
     "text": [
      "Test Loss: 0.016968, Acc: 0.853411\n",
      "epoch 49\n",
      "Training...\n"
     ]
    },
    {
     "data": {
      "text/plain": "  0%|          | 0/756 [00:00<?, ?it/s]",
      "application/vnd.jupyter.widget-view+json": {
       "version_major": 2,
       "version_minor": 0,
       "model_id": "5417a5f72bc04be5a51661540d45e4f4"
      }
     },
     "metadata": {},
     "output_type": "display_data"
    },
    {
     "name": "stdout",
     "output_type": "stream",
     "text": [
      "Train Loss: 0.004361, Acc: 0.953782\n",
      "Testing...\n"
     ]
    },
    {
     "data": {
      "text/plain": "  0%|          | 0/65 [00:00<?, ?it/s]",
      "application/vnd.jupyter.widget-view+json": {
       "version_major": 2,
       "version_minor": 0,
       "model_id": "995c179a0450452c92fee07c0343d69a"
      }
     },
     "metadata": {},
     "output_type": "display_data"
    },
    {
     "name": "stdout",
     "output_type": "stream",
     "text": [
      "Test Loss: 0.016407, Acc: 0.869376\n",
      "epoch 50\n",
      "Training...\n"
     ]
    },
    {
     "data": {
      "text/plain": "  0%|          | 0/756 [00:00<?, ?it/s]",
      "application/vnd.jupyter.widget-view+json": {
       "version_major": 2,
       "version_minor": 0,
       "model_id": "7a495b29d741454a94fbccdee930d823"
      }
     },
     "metadata": {},
     "output_type": "display_data"
    },
    {
     "name": "stdout",
     "output_type": "stream",
     "text": [
      "Train Loss: 0.004435, Acc: 0.952996\n",
      "Testing...\n"
     ]
    },
    {
     "data": {
      "text/plain": "  0%|          | 0/65 [00:00<?, ?it/s]",
      "application/vnd.jupyter.widget-view+json": {
       "version_major": 2,
       "version_minor": 0,
       "model_id": "c56fe3efe3e54c6eae40891735e31a49"
      }
     },
     "metadata": {},
     "output_type": "display_data"
    },
    {
     "name": "stdout",
     "output_type": "stream",
     "text": [
      "Test Loss: 0.016384, Acc: 0.872279\n",
      "epoch 51\n",
      "Training...\n"
     ]
    },
    {
     "data": {
      "text/plain": "  0%|          | 0/756 [00:00<?, ?it/s]",
      "application/vnd.jupyter.widget-view+json": {
       "version_major": 2,
       "version_minor": 0,
       "model_id": "4f768caba9e945c0a1763fb172cee3fe"
      }
     },
     "metadata": {},
     "output_type": "display_data"
    },
    {
     "name": "stdout",
     "output_type": "stream",
     "text": [
      "Train Loss: 0.004441, Acc: 0.953409\n",
      "Testing...\n"
     ]
    },
    {
     "data": {
      "text/plain": "  0%|          | 0/65 [00:00<?, ?it/s]",
      "application/vnd.jupyter.widget-view+json": {
       "version_major": 2,
       "version_minor": 0,
       "model_id": "9ec5e8037d504e6ca6b8bd99f1c9deba"
      }
     },
     "metadata": {},
     "output_type": "display_data"
    },
    {
     "name": "stdout",
     "output_type": "stream",
     "text": [
      "Test Loss: 0.016895, Acc: 0.869860\n",
      "epoch 52\n",
      "Training...\n"
     ]
    },
    {
     "data": {
      "text/plain": "  0%|          | 0/756 [00:00<?, ?it/s]",
      "application/vnd.jupyter.widget-view+json": {
       "version_major": 2,
       "version_minor": 0,
       "model_id": "c8c25840d94e48d9b680ef92cc3e7e0a"
      }
     },
     "metadata": {},
     "output_type": "display_data"
    },
    {
     "name": "stdout",
     "output_type": "stream",
     "text": [
      "Train Loss: 0.004395, Acc: 0.952623\n",
      "Testing...\n"
     ]
    },
    {
     "data": {
      "text/plain": "  0%|          | 0/65 [00:00<?, ?it/s]",
      "application/vnd.jupyter.widget-view+json": {
       "version_major": 2,
       "version_minor": 0,
       "model_id": "b9635d46e2734b4e9db80ebecf463df4"
      }
     },
     "metadata": {},
     "output_type": "display_data"
    },
    {
     "name": "stdout",
     "output_type": "stream",
     "text": [
      "Test Loss: 0.017016, Acc: 0.857281\n",
      "epoch 53\n",
      "Training...\n"
     ]
    },
    {
     "data": {
      "text/plain": "  0%|          | 0/756 [00:00<?, ?it/s]",
      "application/vnd.jupyter.widget-view+json": {
       "version_major": 2,
       "version_minor": 0,
       "model_id": "620c151589b64dc99b270d96dd7ccc61"
      }
     },
     "metadata": {},
     "output_type": "display_data"
    },
    {
     "name": "stdout",
     "output_type": "stream",
     "text": [
      "Train Loss: 0.004453, Acc: 0.952665\n",
      "Testing...\n"
     ]
    },
    {
     "data": {
      "text/plain": "  0%|          | 0/65 [00:00<?, ?it/s]",
      "application/vnd.jupyter.widget-view+json": {
       "version_major": 2,
       "version_minor": 0,
       "model_id": "6f78ae1d7a1e4e37885b2efff6073798"
      }
     },
     "metadata": {},
     "output_type": "display_data"
    },
    {
     "name": "stdout",
     "output_type": "stream",
     "text": [
      "Test Loss: 0.016103, Acc: 0.872763\n",
      "epoch 54\n",
      "Training...\n"
     ]
    },
    {
     "data": {
      "text/plain": "  0%|          | 0/756 [00:00<?, ?it/s]",
      "application/vnd.jupyter.widget-view+json": {
       "version_major": 2,
       "version_minor": 0,
       "model_id": "4b3fd17f1af94f2eab78db320739acd0"
      }
     },
     "metadata": {},
     "output_type": "display_data"
    },
    {
     "name": "stdout",
     "output_type": "stream",
     "text": [
      "Train Loss: 0.004361, Acc: 0.956058\n",
      "Testing...\n"
     ]
    },
    {
     "data": {
      "text/plain": "  0%|          | 0/65 [00:00<?, ?it/s]",
      "application/vnd.jupyter.widget-view+json": {
       "version_major": 2,
       "version_minor": 0,
       "model_id": "cd04b059c7474625bdb3577f08d34cf8"
      }
     },
     "metadata": {},
     "output_type": "display_data"
    },
    {
     "name": "stdout",
     "output_type": "stream",
     "text": [
      "Test Loss: 0.017287, Acc: 0.866473\n",
      "epoch 55\n",
      "Training...\n"
     ]
    },
    {
     "data": {
      "text/plain": "  0%|          | 0/756 [00:00<?, ?it/s]",
      "application/vnd.jupyter.widget-view+json": {
       "version_major": 2,
       "version_minor": 0,
       "model_id": "d05fab9d76704b699bad2356ad38afa8"
      }
     },
     "metadata": {},
     "output_type": "display_data"
    },
    {
     "name": "stdout",
     "output_type": "stream",
     "text": [
      "Train Loss: 0.004212, Acc: 0.957671\n",
      "Testing...\n"
     ]
    },
    {
     "data": {
      "text/plain": "  0%|          | 0/65 [00:00<?, ?it/s]",
      "application/vnd.jupyter.widget-view+json": {
       "version_major": 2,
       "version_minor": 0,
       "model_id": "ebcae4ffd9904b73a2197fa2ee662d8d"
      }
     },
     "metadata": {},
     "output_type": "display_data"
    },
    {
     "name": "stdout",
     "output_type": "stream",
     "text": [
      "Test Loss: 0.018289, Acc: 0.857765\n",
      "epoch 56\n",
      "Training...\n"
     ]
    },
    {
     "data": {
      "text/plain": "  0%|          | 0/756 [00:00<?, ?it/s]",
      "application/vnd.jupyter.widget-view+json": {
       "version_major": 2,
       "version_minor": 0,
       "model_id": "5f9b41bf9f80462bb2a676ba248d7925"
      }
     },
     "metadata": {},
     "output_type": "display_data"
    },
    {
     "name": "stdout",
     "output_type": "stream",
     "text": [
      "Train Loss: 0.004304, Acc: 0.956058\n",
      "Testing...\n"
     ]
    },
    {
     "data": {
      "text/plain": "  0%|          | 0/65 [00:00<?, ?it/s]",
      "application/vnd.jupyter.widget-view+json": {
       "version_major": 2,
       "version_minor": 0,
       "model_id": "a7314d6e704548af9c76ce56cd2e27a0"
      }
     },
     "metadata": {},
     "output_type": "display_data"
    },
    {
     "name": "stdout",
     "output_type": "stream",
     "text": [
      "Test Loss: 0.018713, Acc: 0.859216\n",
      "epoch 57\n",
      "Training...\n"
     ]
    },
    {
     "data": {
      "text/plain": "  0%|          | 0/756 [00:00<?, ?it/s]",
      "application/vnd.jupyter.widget-view+json": {
       "version_major": 2,
       "version_minor": 0,
       "model_id": "8beaf4efc1b942c89d25760a1dff3de9"
      }
     },
     "metadata": {},
     "output_type": "display_data"
    },
    {
     "name": "stdout",
     "output_type": "stream",
     "text": [
      "Train Loss: 0.004172, Acc: 0.957630\n",
      "Testing...\n"
     ]
    },
    {
     "data": {
      "text/plain": "  0%|          | 0/65 [00:00<?, ?it/s]",
      "application/vnd.jupyter.widget-view+json": {
       "version_major": 2,
       "version_minor": 0,
       "model_id": "59c4480305a9453b92364a735c0ca7c1"
      }
     },
     "metadata": {},
     "output_type": "display_data"
    },
    {
     "name": "stdout",
     "output_type": "stream",
     "text": [
      "Test Loss: 0.019642, Acc: 0.855346\n",
      "epoch 58\n",
      "Training...\n"
     ]
    },
    {
     "data": {
      "text/plain": "  0%|          | 0/756 [00:00<?, ?it/s]",
      "application/vnd.jupyter.widget-view+json": {
       "version_major": 2,
       "version_minor": 0,
       "model_id": "ce502b67621a4c549ee63c395d939252"
      }
     },
     "metadata": {},
     "output_type": "display_data"
    },
    {
     "name": "stdout",
     "output_type": "stream",
     "text": [
      "Train Loss: 0.003756, Acc: 0.960609\n",
      "Testing...\n"
     ]
    },
    {
     "data": {
      "text/plain": "  0%|          | 0/65 [00:00<?, ?it/s]",
      "application/vnd.jupyter.widget-view+json": {
       "version_major": 2,
       "version_minor": 0,
       "model_id": "4f83a4ff9a644a99a1a83ed8f6add9a9"
      }
     },
     "metadata": {},
     "output_type": "display_data"
    },
    {
     "name": "stdout",
     "output_type": "stream",
     "text": [
      "Test Loss: 0.020845, Acc: 0.854378\n",
      "epoch 59\n",
      "Training...\n"
     ]
    },
    {
     "data": {
      "text/plain": "  0%|          | 0/756 [00:00<?, ?it/s]",
      "application/vnd.jupyter.widget-view+json": {
       "version_major": 2,
       "version_minor": 0,
       "model_id": "d2cc96fef8bb4b2bba84cbbf30279268"
      }
     },
     "metadata": {},
     "output_type": "display_data"
    },
    {
     "name": "stdout",
     "output_type": "stream",
     "text": [
      "Train Loss: 0.003948, Acc: 0.958292\n",
      "Testing...\n"
     ]
    },
    {
     "data": {
      "text/plain": "  0%|          | 0/65 [00:00<?, ?it/s]",
      "application/vnd.jupyter.widget-view+json": {
       "version_major": 2,
       "version_minor": 0,
       "model_id": "b4d90cc5b9c349afbea2360e26b0832c"
      }
     },
     "metadata": {},
     "output_type": "display_data"
    },
    {
     "name": "stdout",
     "output_type": "stream",
     "text": [
      "Test Loss: 0.017663, Acc: 0.863087\n",
      "epoch 60\n",
      "Training...\n"
     ]
    },
    {
     "data": {
      "text/plain": "  0%|          | 0/756 [00:00<?, ?it/s]",
      "application/vnd.jupyter.widget-view+json": {
       "version_major": 2,
       "version_minor": 0,
       "model_id": "e172aa2931794d3cbf6ba53c530c234b"
      }
     },
     "metadata": {},
     "output_type": "display_data"
    },
    {
     "name": "stdout",
     "output_type": "stream",
     "text": [
      "Train Loss: 0.004002, Acc: 0.956844\n",
      "Testing...\n"
     ]
    },
    {
     "data": {
      "text/plain": "  0%|          | 0/65 [00:00<?, ?it/s]",
      "application/vnd.jupyter.widget-view+json": {
       "version_major": 2,
       "version_minor": 0,
       "model_id": "31c68777f8914ffa85bb2bb1f418b3e3"
      }
     },
     "metadata": {},
     "output_type": "display_data"
    },
    {
     "name": "stdout",
     "output_type": "stream",
     "text": [
      "Test Loss: 0.017054, Acc: 0.870827\n",
      "epoch 61\n",
      "Training...\n"
     ]
    },
    {
     "data": {
      "text/plain": "  0%|          | 0/756 [00:00<?, ?it/s]",
      "application/vnd.jupyter.widget-view+json": {
       "version_major": 2,
       "version_minor": 0,
       "model_id": "7a92f0a803074d879f99ac8efbe48d6d"
      }
     },
     "metadata": {},
     "output_type": "display_data"
    },
    {
     "name": "stdout",
     "output_type": "stream",
     "text": [
      "Train Loss: 0.003606, Acc: 0.961975\n",
      "Testing...\n"
     ]
    },
    {
     "data": {
      "text/plain": "  0%|          | 0/65 [00:00<?, ?it/s]",
      "application/vnd.jupyter.widget-view+json": {
       "version_major": 2,
       "version_minor": 0,
       "model_id": "14d60087f0af4c80b035c023507c8830"
      }
     },
     "metadata": {},
     "output_type": "display_data"
    },
    {
     "name": "stdout",
     "output_type": "stream",
     "text": [
      "Test Loss: 0.017366, Acc: 0.879052\n",
      "epoch 62\n",
      "Training...\n"
     ]
    },
    {
     "data": {
      "text/plain": "  0%|          | 0/756 [00:00<?, ?it/s]",
      "application/vnd.jupyter.widget-view+json": {
       "version_major": 2,
       "version_minor": 0,
       "model_id": "be0ae02891284e378a1f394c4a7ea983"
      }
     },
     "metadata": {},
     "output_type": "display_data"
    },
    {
     "name": "stdout",
     "output_type": "stream",
     "text": [
      "Train Loss: 0.003753, Acc: 0.960444\n",
      "Testing...\n"
     ]
    },
    {
     "data": {
      "text/plain": "  0%|          | 0/65 [00:00<?, ?it/s]",
      "application/vnd.jupyter.widget-view+json": {
       "version_major": 2,
       "version_minor": 0,
       "model_id": "b802dcf679ef48baaccb660f00264a2f"
      }
     },
     "metadata": {},
     "output_type": "display_data"
    },
    {
     "name": "stdout",
     "output_type": "stream",
     "text": [
      "Test Loss: 0.019276, Acc: 0.868408\n",
      "epoch 63\n",
      "Training...\n"
     ]
    },
    {
     "data": {
      "text/plain": "  0%|          | 0/756 [00:00<?, ?it/s]",
      "application/vnd.jupyter.widget-view+json": {
       "version_major": 2,
       "version_minor": 0,
       "model_id": "d31952e5c9934bc186a133e2af6a0189"
      }
     },
     "metadata": {},
     "output_type": "display_data"
    },
    {
     "name": "stdout",
     "output_type": "stream",
     "text": [
      "Train Loss: 0.003618, Acc: 0.963547\n",
      "Testing...\n"
     ]
    },
    {
     "data": {
      "text/plain": "  0%|          | 0/65 [00:00<?, ?it/s]",
      "application/vnd.jupyter.widget-view+json": {
       "version_major": 2,
       "version_minor": 0,
       "model_id": "cb8bb38fa8a440d1a795eca5cde7cd0c"
      }
     },
     "metadata": {},
     "output_type": "display_data"
    },
    {
     "name": "stdout",
     "output_type": "stream",
     "text": [
      "Test Loss: 0.016608, Acc: 0.877117\n",
      "epoch 64\n",
      "Training...\n"
     ]
    },
    {
     "data": {
      "text/plain": "  0%|          | 0/756 [00:00<?, ?it/s]",
      "application/vnd.jupyter.widget-view+json": {
       "version_major": 2,
       "version_minor": 0,
       "model_id": "20e4e74144c744de839eb1642d8cea70"
      }
     },
     "metadata": {},
     "output_type": "display_data"
    },
    {
     "name": "stdout",
     "output_type": "stream",
     "text": [
      "Train Loss: 0.003464, Acc: 0.963009\n",
      "Testing...\n"
     ]
    },
    {
     "data": {
      "text/plain": "  0%|          | 0/65 [00:00<?, ?it/s]",
      "application/vnd.jupyter.widget-view+json": {
       "version_major": 2,
       "version_minor": 0,
       "model_id": "b7fe5ea427b6403288c427ae041c85a6"
      }
     },
     "metadata": {},
     "output_type": "display_data"
    },
    {
     "name": "stdout",
     "output_type": "stream",
     "text": [
      "Test Loss: 0.019335, Acc: 0.866473\n",
      "epoch 65\n",
      "Training...\n"
     ]
    },
    {
     "data": {
      "text/plain": "  0%|          | 0/756 [00:00<?, ?it/s]",
      "application/vnd.jupyter.widget-view+json": {
       "version_major": 2,
       "version_minor": 0,
       "model_id": "9893e5afdc7343aaa25864661f6dd42f"
      }
     },
     "metadata": {},
     "output_type": "display_data"
    },
    {
     "name": "stdout",
     "output_type": "stream",
     "text": [
      "Train Loss: 0.003650, Acc: 0.962926\n",
      "Testing...\n"
     ]
    },
    {
     "data": {
      "text/plain": "  0%|          | 0/65 [00:00<?, ?it/s]",
      "application/vnd.jupyter.widget-view+json": {
       "version_major": 2,
       "version_minor": 0,
       "model_id": "47b91d647c3f47a3bbf65cac902fe212"
      }
     },
     "metadata": {},
     "output_type": "display_data"
    },
    {
     "name": "stdout",
     "output_type": "stream",
     "text": [
      "Test Loss: 0.017313, Acc: 0.872763\n",
      "epoch 66\n",
      "Training...\n"
     ]
    },
    {
     "data": {
      "text/plain": "  0%|          | 0/756 [00:00<?, ?it/s]",
      "application/vnd.jupyter.widget-view+json": {
       "version_major": 2,
       "version_minor": 0,
       "model_id": "365a930d414d4f82b1743342f9b1b9cc"
      }
     },
     "metadata": {},
     "output_type": "display_data"
    },
    {
     "name": "stdout",
     "output_type": "stream",
     "text": [
      "Train Loss: 0.003195, Acc: 0.966567\n",
      "Testing...\n"
     ]
    },
    {
     "data": {
      "text/plain": "  0%|          | 0/65 [00:00<?, ?it/s]",
      "application/vnd.jupyter.widget-view+json": {
       "version_major": 2,
       "version_minor": 0,
       "model_id": "71e7952287cf4ffa8bc13e37a4fbfca6"
      }
     },
     "metadata": {},
     "output_type": "display_data"
    },
    {
     "name": "stdout",
     "output_type": "stream",
     "text": [
      "Test Loss: 0.017418, Acc: 0.880019\n",
      "epoch 67\n",
      "Training...\n"
     ]
    },
    {
     "data": {
      "text/plain": "  0%|          | 0/756 [00:00<?, ?it/s]",
      "application/vnd.jupyter.widget-view+json": {
       "version_major": 2,
       "version_minor": 0,
       "model_id": "5cf9107a17494e56b63c278bb81a5359"
      }
     },
     "metadata": {},
     "output_type": "display_data"
    },
    {
     "name": "stdout",
     "output_type": "stream",
     "text": [
      "Train Loss: 0.003283, Acc: 0.965450\n",
      "Testing...\n"
     ]
    },
    {
     "data": {
      "text/plain": "  0%|          | 0/65 [00:00<?, ?it/s]",
      "application/vnd.jupyter.widget-view+json": {
       "version_major": 2,
       "version_minor": 0,
       "model_id": "87dd3c66bfb040eeab83d1586c1a36d8"
      }
     },
     "metadata": {},
     "output_type": "display_data"
    },
    {
     "name": "stdout",
     "output_type": "stream",
     "text": [
      "Test Loss: 0.020743, Acc: 0.867925\n",
      "epoch 68\n",
      "Training...\n"
     ]
    },
    {
     "data": {
      "text/plain": "  0%|          | 0/756 [00:00<?, ?it/s]",
      "application/vnd.jupyter.widget-view+json": {
       "version_major": 2,
       "version_minor": 0,
       "model_id": "c823b76aa39f41c89374119469de70fb"
      }
     },
     "metadata": {},
     "output_type": "display_data"
    },
    {
     "name": "stdout",
     "output_type": "stream",
     "text": [
      "Train Loss: 0.003572, Acc: 0.962926\n",
      "Testing...\n"
     ]
    },
    {
     "data": {
      "text/plain": "  0%|          | 0/65 [00:00<?, ?it/s]",
      "application/vnd.jupyter.widget-view+json": {
       "version_major": 2,
       "version_minor": 0,
       "model_id": "02b8a37976a647eeb0fb9a5f8f189790"
      }
     },
     "metadata": {},
     "output_type": "display_data"
    },
    {
     "name": "stdout",
     "output_type": "stream",
     "text": [
      "Test Loss: 0.017596, Acc: 0.868892\n",
      "epoch 69\n",
      "Training...\n"
     ]
    },
    {
     "data": {
      "text/plain": "  0%|          | 0/756 [00:00<?, ?it/s]",
      "application/vnd.jupyter.widget-view+json": {
       "version_major": 2,
       "version_minor": 0,
       "model_id": "75496746d94d41bfb2dc76b765687f23"
      }
     },
     "metadata": {},
     "output_type": "display_data"
    },
    {
     "name": "stdout",
     "output_type": "stream",
     "text": [
      "Train Loss: 0.003181, Acc: 0.965947\n",
      "Testing...\n"
     ]
    },
    {
     "data": {
      "text/plain": "  0%|          | 0/65 [00:00<?, ?it/s]",
      "application/vnd.jupyter.widget-view+json": {
       "version_major": 2,
       "version_minor": 0,
       "model_id": "d4811eb50bba4089bd1902405bd40de6"
      }
     },
     "metadata": {},
     "output_type": "display_data"
    },
    {
     "name": "stdout",
     "output_type": "stream",
     "text": [
      "Test Loss: 0.019445, Acc: 0.878568\n",
      "epoch 70\n",
      "Training...\n"
     ]
    },
    {
     "data": {
      "text/plain": "  0%|          | 0/756 [00:00<?, ?it/s]",
      "application/vnd.jupyter.widget-view+json": {
       "version_major": 2,
       "version_minor": 0,
       "model_id": "81f20a2bdfb34bc5b821e93da18504b2"
      }
     },
     "metadata": {},
     "output_type": "display_data"
    },
    {
     "name": "stdout",
     "output_type": "stream",
     "text": [
      "Train Loss: 0.003329, Acc: 0.966112\n",
      "Testing...\n"
     ]
    },
    {
     "data": {
      "text/plain": "  0%|          | 0/65 [00:00<?, ?it/s]",
      "application/vnd.jupyter.widget-view+json": {
       "version_major": 2,
       "version_minor": 0,
       "model_id": "090661721663428e8ae487a597a02c19"
      }
     },
     "metadata": {},
     "output_type": "display_data"
    },
    {
     "name": "stdout",
     "output_type": "stream",
     "text": [
      "Test Loss: 0.017837, Acc: 0.878568\n",
      "epoch 71\n",
      "Training...\n"
     ]
    },
    {
     "data": {
      "text/plain": "  0%|          | 0/756 [00:00<?, ?it/s]",
      "application/vnd.jupyter.widget-view+json": {
       "version_major": 2,
       "version_minor": 0,
       "model_id": "caebbb42d6ca44bda6a99df882490472"
      }
     },
     "metadata": {},
     "output_type": "display_data"
    },
    {
     "name": "stdout",
     "output_type": "stream",
     "text": [
      "Train Loss: 0.003192, Acc: 0.967188\n",
      "Testing...\n"
     ]
    },
    {
     "data": {
      "text/plain": "  0%|          | 0/65 [00:00<?, ?it/s]",
      "application/vnd.jupyter.widget-view+json": {
       "version_major": 2,
       "version_minor": 0,
       "model_id": "9cf6e16a22a64ce1a2499b47086350a0"
      }
     },
     "metadata": {},
     "output_type": "display_data"
    },
    {
     "name": "stdout",
     "output_type": "stream",
     "text": [
      "Test Loss: 0.017556, Acc: 0.892114\n",
      "epoch 72\n",
      "Training...\n"
     ]
    },
    {
     "data": {
      "text/plain": "  0%|          | 0/756 [00:00<?, ?it/s]",
      "application/vnd.jupyter.widget-view+json": {
       "version_major": 2,
       "version_minor": 0,
       "model_id": "de5e76870e97472b8df0de103766b956"
      }
     },
     "metadata": {},
     "output_type": "display_data"
    },
    {
     "name": "stdout",
     "output_type": "stream",
     "text": [
      "Train Loss: 0.003012, Acc: 0.969919\n",
      "Testing...\n"
     ]
    },
    {
     "data": {
      "text/plain": "  0%|          | 0/65 [00:00<?, ?it/s]",
      "application/vnd.jupyter.widget-view+json": {
       "version_major": 2,
       "version_minor": 0,
       "model_id": "893b993dc80b46c38c370e3126ce5206"
      }
     },
     "metadata": {},
     "output_type": "display_data"
    },
    {
     "name": "stdout",
     "output_type": "stream",
     "text": [
      "Test Loss: 0.019861, Acc: 0.878568\n",
      "epoch 73\n",
      "Training...\n"
     ]
    },
    {
     "data": {
      "text/plain": "  0%|          | 0/756 [00:00<?, ?it/s]",
      "application/vnd.jupyter.widget-view+json": {
       "version_major": 2,
       "version_minor": 0,
       "model_id": "d5856b6651354f6495945f42f58ed0f8"
      }
     },
     "metadata": {},
     "output_type": "display_data"
    },
    {
     "name": "stdout",
     "output_type": "stream",
     "text": [
      "Train Loss: 0.003114, Acc: 0.968347\n",
      "Testing...\n"
     ]
    },
    {
     "data": {
      "text/plain": "  0%|          | 0/65 [00:00<?, ?it/s]",
      "application/vnd.jupyter.widget-view+json": {
       "version_major": 2,
       "version_minor": 0,
       "model_id": "5f921cfecf10428784b003caa7a8a1b0"
      }
     },
     "metadata": {},
     "output_type": "display_data"
    },
    {
     "name": "stdout",
     "output_type": "stream",
     "text": [
      "Test Loss: 0.021169, Acc: 0.886309\n",
      "epoch 74\n",
      "Training...\n"
     ]
    },
    {
     "data": {
      "text/plain": "  0%|          | 0/756 [00:00<?, ?it/s]",
      "application/vnd.jupyter.widget-view+json": {
       "version_major": 2,
       "version_minor": 0,
       "model_id": "65303b801a0842648bc2c06afe2a4850"
      }
     },
     "metadata": {},
     "output_type": "display_data"
    },
    {
     "name": "stdout",
     "output_type": "stream",
     "text": [
      "Train Loss: 0.003203, Acc: 0.967560\n",
      "Testing...\n"
     ]
    },
    {
     "data": {
      "text/plain": "  0%|          | 0/65 [00:00<?, ?it/s]",
      "application/vnd.jupyter.widget-view+json": {
       "version_major": 2,
       "version_minor": 0,
       "model_id": "1040dd37bb5343da968cdc40c66d0ec0"
      }
     },
     "metadata": {},
     "output_type": "display_data"
    },
    {
     "name": "stdout",
     "output_type": "stream",
     "text": [
      "Test Loss: 0.017536, Acc: 0.873730\n",
      "epoch 75\n",
      "Training...\n"
     ]
    },
    {
     "data": {
      "text/plain": "  0%|          | 0/756 [00:00<?, ?it/s]",
      "application/vnd.jupyter.widget-view+json": {
       "version_major": 2,
       "version_minor": 0,
       "model_id": "ebafa3434b7c4af8b469c7ab8bfc1ca1"
      }
     },
     "metadata": {},
     "output_type": "display_data"
    },
    {
     "name": "stdout",
     "output_type": "stream",
     "text": [
      "Train Loss: 0.003239, Acc: 0.966319\n",
      "Testing...\n"
     ]
    },
    {
     "data": {
      "text/plain": "  0%|          | 0/65 [00:00<?, ?it/s]",
      "application/vnd.jupyter.widget-view+json": {
       "version_major": 2,
       "version_minor": 0,
       "model_id": "0d19361ee04b4ff4b3fda14eb69300c8"
      }
     },
     "metadata": {},
     "output_type": "display_data"
    },
    {
     "name": "stdout",
     "output_type": "stream",
     "text": [
      "Test Loss: 0.020023, Acc: 0.860184\n",
      "epoch 76\n",
      "Training...\n"
     ]
    },
    {
     "data": {
      "text/plain": "  0%|          | 0/756 [00:00<?, ?it/s]",
      "application/vnd.jupyter.widget-view+json": {
       "version_major": 2,
       "version_minor": 0,
       "model_id": "4e659ccfe332436c832b182c0424b112"
      }
     },
     "metadata": {},
     "output_type": "display_data"
    },
    {
     "name": "stdout",
     "output_type": "stream",
     "text": [
      "Train Loss: 0.002673, Acc: 0.974760\n",
      "Testing...\n"
     ]
    },
    {
     "data": {
      "text/plain": "  0%|          | 0/65 [00:00<?, ?it/s]",
      "application/vnd.jupyter.widget-view+json": {
       "version_major": 2,
       "version_minor": 0,
       "model_id": "9ee7dfd4b25544339bbc9ab65a37e81a"
      }
     },
     "metadata": {},
     "output_type": "display_data"
    },
    {
     "name": "stdout",
     "output_type": "stream",
     "text": [
      "Test Loss: 0.017566, Acc: 0.866957\n",
      "epoch 77\n",
      "Training...\n"
     ]
    },
    {
     "data": {
      "text/plain": "  0%|          | 0/756 [00:00<?, ?it/s]",
      "application/vnd.jupyter.widget-view+json": {
       "version_major": 2,
       "version_minor": 0,
       "model_id": "44f5a90073bd4cd3aed98f594df6277a"
      }
     },
     "metadata": {},
     "output_type": "display_data"
    },
    {
     "name": "stdout",
     "output_type": "stream",
     "text": [
      "Train Loss: 0.002945, Acc: 0.968926\n",
      "Testing...\n"
     ]
    },
    {
     "data": {
      "text/plain": "  0%|          | 0/65 [00:00<?, ?it/s]",
      "application/vnd.jupyter.widget-view+json": {
       "version_major": 2,
       "version_minor": 0,
       "model_id": "f398c3b8acf142949fc7d253e813c30f"
      }
     },
     "metadata": {},
     "output_type": "display_data"
    },
    {
     "name": "stdout",
     "output_type": "stream",
     "text": [
      "Test Loss: 0.019763, Acc: 0.884857\n",
      "epoch 78\n",
      "Training...\n"
     ]
    },
    {
     "data": {
      "text/plain": "  0%|          | 0/756 [00:00<?, ?it/s]",
      "application/vnd.jupyter.widget-view+json": {
       "version_major": 2,
       "version_minor": 0,
       "model_id": "8be1bd5175c447de8d578d888410d4e5"
      }
     },
     "metadata": {},
     "output_type": "display_data"
    },
    {
     "name": "stdout",
     "output_type": "stream",
     "text": [
      "Train Loss: 0.002772, Acc: 0.971367\n",
      "Testing...\n"
     ]
    },
    {
     "data": {
      "text/plain": "  0%|          | 0/65 [00:00<?, ?it/s]",
      "application/vnd.jupyter.widget-view+json": {
       "version_major": 2,
       "version_minor": 0,
       "model_id": "12503eb6966a4e04b753e1dd1691d9b5"
      }
     },
     "metadata": {},
     "output_type": "display_data"
    },
    {
     "name": "stdout",
     "output_type": "stream",
     "text": [
      "Test Loss: 0.018111, Acc: 0.871795\n",
      "epoch 79\n",
      "Training...\n"
     ]
    },
    {
     "data": {
      "text/plain": "  0%|          | 0/756 [00:00<?, ?it/s]",
      "application/vnd.jupyter.widget-view+json": {
       "version_major": 2,
       "version_minor": 0,
       "model_id": "836c3125f19c4bfcb7874c54c7c79d7f"
      }
     },
     "metadata": {},
     "output_type": "display_data"
    },
    {
     "name": "stdout",
     "output_type": "stream",
     "text": [
      "Train Loss: 0.002867, Acc: 0.971160\n",
      "Testing...\n"
     ]
    },
    {
     "data": {
      "text/plain": "  0%|          | 0/65 [00:00<?, ?it/s]",
      "application/vnd.jupyter.widget-view+json": {
       "version_major": 2,
       "version_minor": 0,
       "model_id": "a3ac0f5c7119440fb46a415b44e5cfff"
      }
     },
     "metadata": {},
     "output_type": "display_data"
    },
    {
     "name": "stdout",
     "output_type": "stream",
     "text": [
      "Test Loss: 0.019677, Acc: 0.872279\n",
      "epoch 80\n",
      "Training...\n"
     ]
    },
    {
     "data": {
      "text/plain": "  0%|          | 0/756 [00:00<?, ?it/s]",
      "application/vnd.jupyter.widget-view+json": {
       "version_major": 2,
       "version_minor": 0,
       "model_id": "dadf35973289440eb9e4e9f946ee7a73"
      }
     },
     "metadata": {},
     "output_type": "display_data"
    },
    {
     "name": "stdout",
     "output_type": "stream",
     "text": [
      "Train Loss: 0.003034, Acc: 0.970622\n",
      "Testing...\n"
     ]
    },
    {
     "data": {
      "text/plain": "  0%|          | 0/65 [00:00<?, ?it/s]",
      "application/vnd.jupyter.widget-view+json": {
       "version_major": 2,
       "version_minor": 0,
       "model_id": "a501e034c9954452866d40ec413851c9"
      }
     },
     "metadata": {},
     "output_type": "display_data"
    },
    {
     "name": "stdout",
     "output_type": "stream",
     "text": [
      "Test Loss: 0.019083, Acc: 0.883406\n",
      "epoch 81\n",
      "Training...\n"
     ]
    },
    {
     "data": {
      "text/plain": "  0%|          | 0/756 [00:00<?, ?it/s]",
      "application/vnd.jupyter.widget-view+json": {
       "version_major": 2,
       "version_minor": 0,
       "model_id": "9219fd1da79641cfb87825b696e43946"
      }
     },
     "metadata": {},
     "output_type": "display_data"
    },
    {
     "name": "stdout",
     "output_type": "stream",
     "text": [
      "Train Loss: 0.002880, Acc: 0.970581\n",
      "Testing...\n"
     ]
    },
    {
     "data": {
      "text/plain": "  0%|          | 0/65 [00:00<?, ?it/s]",
      "application/vnd.jupyter.widget-view+json": {
       "version_major": 2,
       "version_minor": 0,
       "model_id": "4f56e0a5cf354ff0b337c950f0102095"
      }
     },
     "metadata": {},
     "output_type": "display_data"
    },
    {
     "name": "stdout",
     "output_type": "stream",
     "text": [
      "Test Loss: 0.017823, Acc: 0.877600\n",
      "epoch 82\n",
      "Training...\n"
     ]
    },
    {
     "data": {
      "text/plain": "  0%|          | 0/756 [00:00<?, ?it/s]",
      "application/vnd.jupyter.widget-view+json": {
       "version_major": 2,
       "version_minor": 0,
       "model_id": "98e7ec31691d42ec9f0d09ca4686f0aa"
      }
     },
     "metadata": {},
     "output_type": "display_data"
    },
    {
     "name": "stdout",
     "output_type": "stream",
     "text": [
      "Train Loss: 0.002423, Acc: 0.974843\n",
      "Testing...\n"
     ]
    },
    {
     "data": {
      "text/plain": "  0%|          | 0/65 [00:00<?, ?it/s]",
      "application/vnd.jupyter.widget-view+json": {
       "version_major": 2,
       "version_minor": 0,
       "model_id": "d51bcb13e57d421abcc5a44849a041b3"
      }
     },
     "metadata": {},
     "output_type": "display_data"
    },
    {
     "name": "stdout",
     "output_type": "stream",
     "text": [
      "Test Loss: 0.018436, Acc: 0.877117\n",
      "epoch 83\n",
      "Training...\n"
     ]
    },
    {
     "data": {
      "text/plain": "  0%|          | 0/756 [00:00<?, ?it/s]",
      "application/vnd.jupyter.widget-view+json": {
       "version_major": 2,
       "version_minor": 0,
       "model_id": "1fbc5becead54bf2acda524ef20e4ba6"
      }
     },
     "metadata": {},
     "output_type": "display_data"
    },
    {
     "name": "stdout",
     "output_type": "stream",
     "text": [
      "Train Loss: 0.002609, Acc: 0.973022\n",
      "Testing...\n"
     ]
    },
    {
     "data": {
      "text/plain": "  0%|          | 0/65 [00:00<?, ?it/s]",
      "application/vnd.jupyter.widget-view+json": {
       "version_major": 2,
       "version_minor": 0,
       "model_id": "a97ce272c6ca4f4eb55ec83cae8914af"
      }
     },
     "metadata": {},
     "output_type": "display_data"
    },
    {
     "name": "stdout",
     "output_type": "stream",
     "text": [
      "Test Loss: 0.019442, Acc: 0.863087\n",
      "epoch 84\n",
      "Training...\n"
     ]
    },
    {
     "data": {
      "text/plain": "  0%|          | 0/756 [00:00<?, ?it/s]",
      "application/vnd.jupyter.widget-view+json": {
       "version_major": 2,
       "version_minor": 0,
       "model_id": "42381df71bec4767b783393f593e5f74"
      }
     },
     "metadata": {},
     "output_type": "display_data"
    },
    {
     "name": "stdout",
     "output_type": "stream",
     "text": [
      "Train Loss: 0.002927, Acc: 0.969960\n",
      "Testing...\n"
     ]
    },
    {
     "data": {
      "text/plain": "  0%|          | 0/65 [00:00<?, ?it/s]",
      "application/vnd.jupyter.widget-view+json": {
       "version_major": 2,
       "version_minor": 0,
       "model_id": "c440be179c31400ab5e5b9ff6592aab3"
      }
     },
     "metadata": {},
     "output_type": "display_data"
    },
    {
     "name": "stdout",
     "output_type": "stream",
     "text": [
      "Test Loss: 0.016645, Acc: 0.893082\n",
      "epoch 85\n",
      "Training...\n"
     ]
    },
    {
     "data": {
      "text/plain": "  0%|          | 0/756 [00:00<?, ?it/s]",
      "application/vnd.jupyter.widget-view+json": {
       "version_major": 2,
       "version_minor": 0,
       "model_id": "0ece1ec5b2884d5396a7c13cb6cccde9"
      }
     },
     "metadata": {},
     "output_type": "display_data"
    },
    {
     "name": "stdout",
     "output_type": "stream",
     "text": [
      "Train Loss: 0.002629, Acc: 0.975422\n",
      "Testing...\n"
     ]
    },
    {
     "data": {
      "text/plain": "  0%|          | 0/65 [00:00<?, ?it/s]",
      "application/vnd.jupyter.widget-view+json": {
       "version_major": 2,
       "version_minor": 0,
       "model_id": "18408035ba264316bf6da5546fd0ccf8"
      }
     },
     "metadata": {},
     "output_type": "display_data"
    },
    {
     "name": "stdout",
     "output_type": "stream",
     "text": [
      "Test Loss: 0.017942, Acc: 0.885341\n",
      "epoch 86\n",
      "Training...\n"
     ]
    },
    {
     "data": {
      "text/plain": "  0%|          | 0/756 [00:00<?, ?it/s]",
      "application/vnd.jupyter.widget-view+json": {
       "version_major": 2,
       "version_minor": 0,
       "model_id": "ae5d9c16696445d9b25dd8fcf93110b5"
      }
     },
     "metadata": {},
     "output_type": "display_data"
    },
    {
     "name": "stdout",
     "output_type": "stream",
     "text": [
      "Train Loss: 0.002440, Acc: 0.975960\n",
      "Testing...\n"
     ]
    },
    {
     "data": {
      "text/plain": "  0%|          | 0/65 [00:00<?, ?it/s]",
      "application/vnd.jupyter.widget-view+json": {
       "version_major": 2,
       "version_minor": 0,
       "model_id": "c54ff01f9e8b4f3cb6d88604fdfdf2b9"
      }
     },
     "metadata": {},
     "output_type": "display_data"
    },
    {
     "name": "stdout",
     "output_type": "stream",
     "text": [
      "Test Loss: 0.018165, Acc: 0.884373\n",
      "epoch 87\n",
      "Training...\n"
     ]
    },
    {
     "data": {
      "text/plain": "  0%|          | 0/756 [00:00<?, ?it/s]",
      "application/vnd.jupyter.widget-view+json": {
       "version_major": 2,
       "version_minor": 0,
       "model_id": "2a3ea6acf4ae4c6a969e3bbd0583875a"
      }
     },
     "metadata": {},
     "output_type": "display_data"
    },
    {
     "name": "stdout",
     "output_type": "stream",
     "text": [
      "Train Loss: 0.002389, Acc: 0.976705\n",
      "Testing...\n"
     ]
    },
    {
     "data": {
      "text/plain": "  0%|          | 0/65 [00:00<?, ?it/s]",
      "application/vnd.jupyter.widget-view+json": {
       "version_major": 2,
       "version_minor": 0,
       "model_id": "7a1d3a4eedd842c4acd17bf40fdbb3b9"
      }
     },
     "metadata": {},
     "output_type": "display_data"
    },
    {
     "name": "stdout",
     "output_type": "stream",
     "text": [
      "Test Loss: 0.019024, Acc: 0.888244\n",
      "epoch 88\n",
      "Training...\n"
     ]
    },
    {
     "data": {
      "text/plain": "  0%|          | 0/756 [00:00<?, ?it/s]",
      "application/vnd.jupyter.widget-view+json": {
       "version_major": 2,
       "version_minor": 0,
       "model_id": "e03ba41e5578434b98f5502a27c06642"
      }
     },
     "metadata": {},
     "output_type": "display_data"
    },
    {
     "name": "stdout",
     "output_type": "stream",
     "text": [
      "Train Loss: 0.002666, Acc: 0.972236\n",
      "Testing...\n"
     ]
    },
    {
     "data": {
      "text/plain": "  0%|          | 0/65 [00:00<?, ?it/s]",
      "application/vnd.jupyter.widget-view+json": {
       "version_major": 2,
       "version_minor": 0,
       "model_id": "c1932c08e19c470c949f63289bdb547b"
      }
     },
     "metadata": {},
     "output_type": "display_data"
    },
    {
     "name": "stdout",
     "output_type": "stream",
     "text": [
      "Test Loss: 0.019082, Acc: 0.876149\n",
      "epoch 89\n",
      "Training...\n"
     ]
    },
    {
     "data": {
      "text/plain": "  0%|          | 0/756 [00:00<?, ?it/s]",
      "application/vnd.jupyter.widget-view+json": {
       "version_major": 2,
       "version_minor": 0,
       "model_id": "9d2683dd54844c43b0f89923e7b0eebd"
      }
     },
     "metadata": {},
     "output_type": "display_data"
    },
    {
     "name": "stdout",
     "output_type": "stream",
     "text": [
      "Train Loss: 0.002475, Acc: 0.974139\n",
      "Testing...\n"
     ]
    },
    {
     "data": {
      "text/plain": "  0%|          | 0/65 [00:00<?, ?it/s]",
      "application/vnd.jupyter.widget-view+json": {
       "version_major": 2,
       "version_minor": 0,
       "model_id": "cc064a524a4a42f0a9aee40a803e5782"
      }
     },
     "metadata": {},
     "output_type": "display_data"
    },
    {
     "name": "stdout",
     "output_type": "stream",
     "text": [
      "Test Loss: 0.018395, Acc: 0.882922\n",
      "epoch 90\n",
      "Training...\n"
     ]
    },
    {
     "data": {
      "text/plain": "  0%|          | 0/756 [00:00<?, ?it/s]",
      "application/vnd.jupyter.widget-view+json": {
       "version_major": 2,
       "version_minor": 0,
       "model_id": "92cbc06ad6044b8f9c401949a1ce75db"
      }
     },
     "metadata": {},
     "output_type": "display_data"
    },
    {
     "name": "stdout",
     "output_type": "stream",
     "text": [
      "Train Loss: 0.002517, Acc: 0.973726\n",
      "Testing...\n"
     ]
    },
    {
     "data": {
      "text/plain": "  0%|          | 0/65 [00:00<?, ?it/s]",
      "application/vnd.jupyter.widget-view+json": {
       "version_major": 2,
       "version_minor": 0,
       "model_id": "600c47d7134f410b9a4a50699a7915b3"
      }
     },
     "metadata": {},
     "output_type": "display_data"
    },
    {
     "name": "stdout",
     "output_type": "stream",
     "text": [
      "Test Loss: 0.018406, Acc: 0.881471\n",
      "epoch 91\n",
      "Training...\n"
     ]
    },
    {
     "data": {
      "text/plain": "  0%|          | 0/756 [00:00<?, ?it/s]",
      "application/vnd.jupyter.widget-view+json": {
       "version_major": 2,
       "version_minor": 0,
       "model_id": "d9f60d6e97124bc39fb1cc79127c0d42"
      }
     },
     "metadata": {},
     "output_type": "display_data"
    },
    {
     "name": "stdout",
     "output_type": "stream",
     "text": [
      "Train Loss: 0.002256, Acc: 0.977284\n",
      "Testing...\n"
     ]
    },
    {
     "data": {
      "text/plain": "  0%|          | 0/65 [00:00<?, ?it/s]",
      "application/vnd.jupyter.widget-view+json": {
       "version_major": 2,
       "version_minor": 0,
       "model_id": "79091b029574418382102b33776822dc"
      }
     },
     "metadata": {},
     "output_type": "display_data"
    },
    {
     "name": "stdout",
     "output_type": "stream",
     "text": [
      "Test Loss: 0.018866, Acc: 0.890663\n",
      "epoch 92\n",
      "Training...\n"
     ]
    },
    {
     "data": {
      "text/plain": "  0%|          | 0/756 [00:00<?, ?it/s]",
      "application/vnd.jupyter.widget-view+json": {
       "version_major": 2,
       "version_minor": 0,
       "model_id": "71b0cd7f85894a6fb6534a06ba15dd22"
      }
     },
     "metadata": {},
     "output_type": "display_data"
    },
    {
     "name": "stdout",
     "output_type": "stream",
     "text": [
      "Train Loss: 0.002406, Acc: 0.975463\n",
      "Testing...\n"
     ]
    },
    {
     "data": {
      "text/plain": "  0%|          | 0/65 [00:00<?, ?it/s]",
      "application/vnd.jupyter.widget-view+json": {
       "version_major": 2,
       "version_minor": 0,
       "model_id": "d1463d78aed64bc4af04629094807714"
      }
     },
     "metadata": {},
     "output_type": "display_data"
    },
    {
     "name": "stdout",
     "output_type": "stream",
     "text": [
      "Test Loss: 0.024966, Acc: 0.866473\n",
      "epoch 93\n",
      "Training...\n"
     ]
    },
    {
     "data": {
      "text/plain": "  0%|          | 0/756 [00:00<?, ?it/s]",
      "application/vnd.jupyter.widget-view+json": {
       "version_major": 2,
       "version_minor": 0,
       "model_id": "bd28c756b4934f7686aa195a0fc2d589"
      }
     },
     "metadata": {},
     "output_type": "display_data"
    },
    {
     "name": "stdout",
     "output_type": "stream",
     "text": [
      "Train Loss: 0.002563, Acc: 0.974181\n",
      "Testing...\n"
     ]
    },
    {
     "data": {
      "text/plain": "  0%|          | 0/65 [00:00<?, ?it/s]",
      "application/vnd.jupyter.widget-view+json": {
       "version_major": 2,
       "version_minor": 0,
       "model_id": "62b94ff9a00348e0bec048ff52d605ba"
      }
     },
     "metadata": {},
     "output_type": "display_data"
    },
    {
     "name": "stdout",
     "output_type": "stream",
     "text": [
      "Test Loss: 0.017307, Acc: 0.902274\n",
      "epoch 94\n",
      "Training...\n"
     ]
    },
    {
     "data": {
      "text/plain": "  0%|          | 0/756 [00:00<?, ?it/s]",
      "application/vnd.jupyter.widget-view+json": {
       "version_major": 2,
       "version_minor": 0,
       "model_id": "3db9e62f3e864e52bb1319681b33b7be"
      }
     },
     "metadata": {},
     "output_type": "display_data"
    },
    {
     "name": "stdout",
     "output_type": "stream",
     "text": [
      "Train Loss: 0.002387, Acc: 0.976581\n",
      "Testing...\n"
     ]
    },
    {
     "data": {
      "text/plain": "  0%|          | 0/65 [00:00<?, ?it/s]",
      "application/vnd.jupyter.widget-view+json": {
       "version_major": 2,
       "version_minor": 0,
       "model_id": "f7206e7fa39e4823b898f6bf9abab0a6"
      }
     },
     "metadata": {},
     "output_type": "display_data"
    },
    {
     "name": "stdout",
     "output_type": "stream",
     "text": [
      "Test Loss: 0.018198, Acc: 0.874214\n",
      "epoch 95\n",
      "Training...\n"
     ]
    },
    {
     "data": {
      "text/plain": "  0%|          | 0/756 [00:00<?, ?it/s]",
      "application/vnd.jupyter.widget-view+json": {
       "version_major": 2,
       "version_minor": 0,
       "model_id": "d1b4a303678f43c79717d3c044c3c499"
      }
     },
     "metadata": {},
     "output_type": "display_data"
    },
    {
     "name": "stdout",
     "output_type": "stream",
     "text": [
      "Train Loss: 0.002444, Acc: 0.976291\n",
      "Testing...\n"
     ]
    },
    {
     "data": {
      "text/plain": "  0%|          | 0/65 [00:00<?, ?it/s]",
      "application/vnd.jupyter.widget-view+json": {
       "version_major": 2,
       "version_minor": 0,
       "model_id": "7ee650da24934458b2da30f60b0ad029"
      }
     },
     "metadata": {},
     "output_type": "display_data"
    },
    {
     "name": "stdout",
     "output_type": "stream",
     "text": [
      "Test Loss: 0.021686, Acc: 0.884373\n",
      "epoch 96\n",
      "Training...\n"
     ]
    },
    {
     "data": {
      "text/plain": "  0%|          | 0/756 [00:00<?, ?it/s]",
      "application/vnd.jupyter.widget-view+json": {
       "version_major": 2,
       "version_minor": 0,
       "model_id": "7520886a5c914f6997747f9cb6a5a551"
      }
     },
     "metadata": {},
     "output_type": "display_data"
    },
    {
     "name": "stdout",
     "output_type": "stream",
     "text": [
      "Train Loss: 0.002513, Acc: 0.975670\n",
      "Testing...\n"
     ]
    },
    {
     "data": {
      "text/plain": "  0%|          | 0/65 [00:00<?, ?it/s]",
      "application/vnd.jupyter.widget-view+json": {
       "version_major": 2,
       "version_minor": 0,
       "model_id": "2e28edbe174d4a57ae632f97120818b2"
      }
     },
     "metadata": {},
     "output_type": "display_data"
    },
    {
     "name": "stdout",
     "output_type": "stream",
     "text": [
      "Test Loss: 0.018686, Acc: 0.881471\n",
      "epoch 97\n",
      "Training...\n"
     ]
    },
    {
     "data": {
      "text/plain": "  0%|          | 0/756 [00:00<?, ?it/s]",
      "application/vnd.jupyter.widget-view+json": {
       "version_major": 2,
       "version_minor": 0,
       "model_id": "414379ff5a504aba828bb98b038ca523"
      }
     },
     "metadata": {},
     "output_type": "display_data"
    },
    {
     "name": "stdout",
     "output_type": "stream",
     "text": [
      "Train Loss: 0.002139, Acc: 0.978649\n",
      "Testing...\n"
     ]
    },
    {
     "data": {
      "text/plain": "  0%|          | 0/65 [00:00<?, ?it/s]",
      "application/vnd.jupyter.widget-view+json": {
       "version_major": 2,
       "version_minor": 0,
       "model_id": "7de6bb7c13a44bdf80978f0275bea02a"
      }
     },
     "metadata": {},
     "output_type": "display_data"
    },
    {
     "name": "stdout",
     "output_type": "stream",
     "text": [
      "Test Loss: 0.020515, Acc: 0.886792\n",
      "epoch 98\n",
      "Training...\n"
     ]
    },
    {
     "data": {
      "text/plain": "  0%|          | 0/756 [00:00<?, ?it/s]",
      "application/vnd.jupyter.widget-view+json": {
       "version_major": 2,
       "version_minor": 0,
       "model_id": "3b7b0b599df843868bf805b358b7902b"
      }
     },
     "metadata": {},
     "output_type": "display_data"
    },
    {
     "name": "stdout",
     "output_type": "stream",
     "text": [
      "Train Loss: 0.002087, Acc: 0.980470\n",
      "Testing...\n"
     ]
    },
    {
     "data": {
      "text/plain": "  0%|          | 0/65 [00:00<?, ?it/s]",
      "application/vnd.jupyter.widget-view+json": {
       "version_major": 2,
       "version_minor": 0,
       "model_id": "37a6a1905f974dc38522558e6cc1bfa5"
      }
     },
     "metadata": {},
     "output_type": "display_data"
    },
    {
     "name": "stdout",
     "output_type": "stream",
     "text": [
      "Test Loss: 0.022093, Acc: 0.871311\n",
      "epoch 99\n",
      "Training...\n"
     ]
    },
    {
     "data": {
      "text/plain": "  0%|          | 0/756 [00:00<?, ?it/s]",
      "application/vnd.jupyter.widget-view+json": {
       "version_major": 2,
       "version_minor": 0,
       "model_id": "d5c1c6b57fb04732bb0a1a7eeac868de"
      }
     },
     "metadata": {},
     "output_type": "display_data"
    },
    {
     "name": "stdout",
     "output_type": "stream",
     "text": [
      "Train Loss: 0.002296, Acc: 0.976994\n",
      "Testing...\n"
     ]
    },
    {
     "data": {
      "text/plain": "  0%|          | 0/65 [00:00<?, ?it/s]",
      "application/vnd.jupyter.widget-view+json": {
       "version_major": 2,
       "version_minor": 0,
       "model_id": "11d8c5e130cd4452a050c02d5f77249e"
      }
     },
     "metadata": {},
     "output_type": "display_data"
    },
    {
     "name": "stdout",
     "output_type": "stream",
     "text": [
      "Test Loss: 0.018609, Acc: 0.873730\n"
     ]
    }
   ],
   "source": [
    "from __future__ import print_function, division\n",
    "\n",
    "import os\n",
    "\n",
    "import torch\n",
    "import torch.nn as nn\n",
    "import torch.nn.functional as F\n",
    "import torch.optim as optim\n",
    "from torchvision import datasets, transforms\n",
    "from torch.autograd import Variable\n",
    "import numpy as np\n",
    "from torchvision import models\n",
    "import matplotlib.pyplot as plt\n",
    "from tqdm.notebook import tqdm\n",
    "import math\n",
    "\n",
    "batch_size = 32\n",
    "learning_rate = 0.0002\n",
    "Epoch = 100\n",
    "TRAIN = True\n",
    "dataPath = '../DBtest/img/'\n",
    "checkPointPath = '../DBtest/checkPoint/ResNet_checkPoint/'\n",
    "\n",
    "train_transforms = transforms.Compose([\n",
    "    # transforms.RandomResizedCrop(224),\n",
    "    transforms.RandomHorizontalFlip(),\n",
    "    transforms.ToTensor(),\n",
    "    transforms.Normalize((.5, .5, .5), (.5, .5, .5))\n",
    "])\n",
    "test_transforms = transforms.Compose([\n",
    "    # transforms.Resize(256),\n",
    "    # transforms.RandomResizedCrop(224),\n",
    "    transforms.ToTensor(),\n",
    "    transforms.Normalize((.5, .5, .5), (.5, .5, .5))\n",
    "])\n",
    "val_transforms = transforms.Compose([\n",
    "    # transforms.Resize(256),\n",
    "    # transforms.RandomResizedCrop(224),\n",
    "    transforms.ToTensor(),\n",
    "    transforms.Normalize((.5, .5, .5), (.5, .5, .5))\n",
    "])\n",
    "\n",
    "train_dir = dataPath + 'train'\n",
    "train_datasets = datasets.ImageFolder(train_dir, transform=train_transforms)\n",
    "train_dataloader = torch.utils.data.DataLoader(train_datasets, batch_size=batch_size, shuffle=True)\n",
    "\n",
    "test_dir = dataPath + 'test'\n",
    "test_datasets = datasets.ImageFolder(test_dir, transform=test_transforms)\n",
    "test_dataloader = torch.utils.data.DataLoader(test_datasets, batch_size=batch_size, shuffle=True)\n",
    "\n",
    "val_dir = dataPath + 'val'\n",
    "val_datasets = datasets.ImageFolder(val_dir, transform=val_transforms)\n",
    "val_dataloader = torch.utils.data.DataLoader(val_datasets, batch_size=batch_size, shuffle=True)\n",
    "\n",
    "  # --------------------模型定义---------------------------------\n",
    "class ResNet(nn.Module):\n",
    "    def __init__(self, num_classes=10):\n",
    "        super(ResNet, self).__init__()\n",
    "        net = models.resnet50(pretrained=False)\n",
    "        channel_in = net.fc.in_features\n",
    "        net.fc = nn.Sequential()\n",
    "        self.features = net\n",
    "        self.classifier = nn.Sequential(\n",
    "            nn.Linear(channel_in, 256),\n",
    "            nn.ReLU(),\n",
    "            nn.Dropout(0.4),\n",
    "            nn.Linear(256, num_classes),\n",
    "            nn.LogSoftmax(dim=1)\n",
    "        )\n",
    "\n",
    "    def forward(self, x):\n",
    "        x = self.features(x)\n",
    "        x = x.view(x.size(0), -1)\n",
    "        x = self.classifier(x)\n",
    "        return x\n",
    "\n",
    "  # --------------------训练过程---------------------------------\n",
    "model = ResNet()\n",
    "if torch.cuda.is_available():\n",
    "    model.cuda()\n",
    "    print('Using GPU')\n",
    "\n",
    "params = [{'params': md.parameters()} for md in model.children()\n",
    "          if md in [model.classifier]]\n",
    "optimizer = optim.Adam(model.parameters(), lr=learning_rate)\n",
    "loss_func = nn.CrossEntropyLoss()\n",
    "start_epoch = 0\n",
    "\n",
    "if os.path.exists(checkPointPath + 'ResNet_best_19.pth'):\n",
    "    path_checkpoint = checkPointPath + 'ResNet_best_19.pth'  # 断点路径\n",
    "    checkpoint = torch.load(path_checkpoint)  # 加载断点\n",
    "    model.load_state_dict(checkpoint['net'])  # 加载模型可学习参数\n",
    "    optimizer.load_state_dict(checkpoint['optimizer'])  # 加载优化器参数\n",
    "    start_epoch = checkpoint['epoch'] + 1  # 设置开始的epoch\n",
    "\n",
    "if TRAIN:\n",
    "  if os.path.exists(checkPointPath + 'loss.npy'):\n",
    "    Loss_list = np.load(checkPointPath + 'loss.npy', allow_pickle=True)\n",
    "  else:\n",
    "    Loss_list = []\n",
    "\n",
    "  if os.path.exists(checkPointPath + 'accuracy.npy'):\n",
    "    Accuracy_list = np.load(checkPointPath + 'accuracy.npy', allow_pickle=True)\n",
    "  else:\n",
    "    Accuracy_list = []\n",
    "\n",
    "  for epoch in range(start_epoch, Epoch):\n",
    "    print('epoch {}'.format(epoch))\n",
    "    # training-----------------------------\n",
    "    model.train()\n",
    "    train_loss = 0.\n",
    "    train_acc = 0.\n",
    "    print('Training...')\n",
    "    trainBar = tqdm(total=len(train_dataloader))\n",
    "    for step, (batch_x, batch_y) in enumerate(train_dataloader):\n",
    "      if torch.cuda.is_available():\n",
    "        batch_x, batch_y = Variable(batch_x).cuda(), Variable(batch_y).cuda()\n",
    "      else:\n",
    "        batch_x, batch_y = Variable(batch_x), Variable(batch_y)\n",
    "      out = model(batch_x)\n",
    "      loss = loss_func(out, batch_y)\n",
    "      train_loss += loss.data\n",
    "      pred = torch.max(out, 1)[1]\n",
    "      train_correct = (pred == batch_y).sum()\n",
    "      train_acc += train_correct.data\n",
    "      optimizer.zero_grad()\n",
    "      loss.backward()\n",
    "      optimizer.step()\n",
    "      trainBar.update(1)\n",
    "    print('Train Loss: {:.6f}, Acc: {:.6f}'.format(train_loss / len(train_datasets), train_acc / len(train_datasets)))\n",
    "    trainBar.close()\n",
    "\n",
    "    # 断点保存\n",
    "    checkpoint = {\n",
    "        \"net\": model.state_dict(),\n",
    "        'optimizer':optimizer.state_dict(),\n",
    "        \"epoch\": epoch\n",
    "    }\n",
    "    torch.save(checkpoint, checkPointPath + 'ResNet_best_%s.pth' %(str(epoch)))\n",
    "\n",
    "    # evaluation--------------------------------\n",
    "    model.eval()\n",
    "    eval_loss = 0.\n",
    "    eval_acc = 0.\n",
    "    print('Testing...')\n",
    "    testBar = tqdm(total=len(val_dataloader))\n",
    "    for batch_x, batch_y in val_dataloader:\n",
    "      with torch.no_grad():\n",
    "        if torch.cuda.is_available():\n",
    "          batch_x, batch_y = Variable(batch_x).cuda(), Variable(batch_y).cuda()\n",
    "        else:\n",
    "          batch_x, batch_y = Variable(batch_x), Variable(batch_y)\n",
    "      out = model(batch_x)\n",
    "      loss = loss_func(out, batch_y)\n",
    "      eval_loss += loss.data\n",
    "      pred = torch.max(out, 1)[1]\n",
    "      num_correct = (pred == batch_y).sum()\n",
    "      eval_acc += num_correct.data\n",
    "      testBar.update(1)\n",
    "    print('Test Loss: {:.6f}, Acc: {:.6f}'.format(eval_loss / len(val_datasets), eval_acc / len(val_datasets)))\n",
    "    testBar.close()\n",
    "\n",
    "    # 断点保存\n",
    "    if epoch >= len(Loss_list):\n",
    "        Loss_list = np.hstack((Loss_list, eval_loss.data.cpu() / len(val_datasets)))\n",
    "        Accuracy_list = np.hstack((Accuracy_list, 100 * eval_acc.data.cpu() / len(val_datasets)))\n",
    "    else:\n",
    "        Loss_list[epoch] = eval_loss.data.cpu() / len(val_datasets)\n",
    "        Accuracy_list[epoch] = 100 * eval_acc.data.cpu() / len(val_datasets)\n",
    "\n",
    "    np.save(checkPointPath + 'loss', Loss_list)\n",
    "    np.save(checkPointPath + 'accuracy', Accuracy_list)\n",
    "\n",
    "  x1 = range(0, 10)\n",
    "  x2 = range(0, 10)\n",
    "  y1 = Accuracy_list\n",
    "  y2 = Loss_list\n",
    "  plt.subplot(2, 1, 1)\n",
    "  plt.plot(x1, y1, 'o-')\n",
    "  plt.title('Test accuracy vs. epoches')\n",
    "  plt.ylabel('Test accuracy')\n",
    "  plt.subplot(2, 1, 2)\n",
    "  plt.plot(x2, y2, '.-')\n",
    "  plt.xlabel('Test loss vs. epoches')\n",
    "  plt.ylabel('Test loss')\n",
    "  plt.show()\n",
    "  # plt.savefig(\"accuracy_loss.jpg\")\n",
    "\n",
    "else:\n",
    "  model.eval()\n",
    "  eval_loss = 0.\n",
    "  eval_acc = 0.\n",
    "  print('Testing...')\n",
    "  testBar = tqdm(total=len(test_dataloader))\n",
    "  for batch_x, batch_y in test_dataloader:\n",
    "    with torch.no_grad():\n",
    "      if torch.cuda.is_available():\n",
    "        batch_x, batch_y = Variable(batch_x).cuda(), Variable(batch_y).cuda()\n",
    "      else:\n",
    "        batch_x, batch_y = Variable(batch_x), Variable(batch_y)\n",
    "    out = model(batch_x)\n",
    "    loss = loss_func(out, batch_y)\n",
    "    eval_loss += loss.data\n",
    "    pred = torch.max(out, 1)[1]\n",
    "    num_correct = (pred == batch_y).sum()\n",
    "    eval_acc += num_correct.data\n",
    "    testBar.update(1)\n",
    "  print('Test Loss: {:.6f}, Acc: {:.6f}'.format(eval_loss / len(test_datasets), eval_acc / len(test_datasets)))\n",
    "  testBar.close()"
   ]
  },
  {
   "cell_type": "code",
   "execution_count": 1,
   "outputs": [
    {
     "data": {
      "text/plain": "<Figure size 432x288 with 2 Axes>",
      "image/png": "[encoded data removed]"
     },
     "metadata": {
      "needs_background": "light"
     },
     "output_type": "display_data"
    }
   ],
   "source": [
    "  # --------------------数据展示---------------------------------\n",
    "import numpy as np\n",
    "import matplotlib.pyplot as plt\n",
    "import os\n",
    "\n",
    "checkPointPath = '../DBtest/checkPoint/ResNet_checkPoint/'\n",
    "\n",
    "if os.path.exists(checkPointPath + 'loss.npy'):\n",
    "    Loss_list = np.load(checkPointPath + 'loss.npy', allow_pickle=True)\n",
    "else:\n",
    "    Loss_list = []\n",
    "\n",
    "if os.path.exists(checkPointPath + 'accuracy.npy'):\n",
    "    Accuracy_list = np.load(checkPointPath + 'accuracy.npy', allow_pickle=True)\n",
    "else:\n",
    "    Accuracy_list = []\n",
    "\n",
    "x1 = range(0, len(Loss_list))\n",
    "x2 = range(0, len(Loss_list))\n",
    "y1 = Accuracy_list\n",
    "y2 = Loss_list\n",
    "plt.subplot(2, 1, 1)\n",
    "plt.plot(x1, y1, 'o-')\n",
    "plt.title('Test accuracy vs. epoches')\n",
    "plt.ylabel('Test accuracy')\n",
    "plt.subplot(2, 1, 2)\n",
    "plt.plot(x2, y2, '.-')\n",
    "plt.xlabel('Test loss vs. epoches')\n",
    "plt.ylabel('Test loss')\n",
    "plt.show()"
   ],
   "metadata": {
    "collapsed": false,
    "pycharm": {
     "name": "#%%\n"
    }
   }
  }
 ],
 "metadata": {
  "kernelspec": {
   "display_name": "Python 3",
   "language": "python",
   "name": "python3"
  },
  "language_info": {
   "codemirror_mode": {
    "name": "ipython",
    "version": 2
   },
   "file_extension": ".py",
   "mimetype": "text/x-python",
   "name": "python",
   "nbconvert_exporter": "python",
   "pygments_lexer": "ipython2",
   "version": "2.7.6"
  }
 },
 "nbformat": 4,
 "nbformat_minor": 0
}