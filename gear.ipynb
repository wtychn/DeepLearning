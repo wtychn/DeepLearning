{
 "cells": [
  {
   "cell_type": "code",
   "execution_count": 2,
   "metadata": {
    "collapsed": true
   },
   "outputs": [
    {
     "name": "stdout",
     "output_type": "stream",
     "text": [
      "case 0:\n",
      "\tDrawline_Single(0);\n",
      "\tbreak;\n",
      "\n",
      "case 1:\n",
      "\tDrawline_Single(1);\n",
      "\tbreak;\n",
      "\n",
      "case 2:\n",
      "\tDrawline_Single(2);\n",
      "\tbreak;\n",
      "\n",
      "case 3:\n",
      "\tDrawline_Single(3);\n",
      "\tbreak;\n",
      "\n",
      "case 4:\n",
      "\tDrawline_Single(4);\n",
      "\tbreak;\n",
      "\n",
      "case 5:\n",
      "\tDrawline_Single(5);\n",
      "\tbreak;\n",
      "\n",
      "case 6:\n",
      "\tDrawline_Single(6);\n",
      "\tbreak;\n",
      "\n",
      "case 7:\n",
      "\tDrawline_Single(7);\n",
      "\tbreak;\n",
      "\n",
      "case 8:\n",
      "\tDrawline_Single(8);\n",
      "\tbreak;\n",
      "\n",
      "case 9:\n",
      "\tDrawline_Single(9);\n",
      "\tbreak;\n",
      "\n",
      "case 10:\n",
      "\tDrawline_Single(10);\n",
      "\tbreak;\n",
      "\n",
      "case 11:\n",
      "\tDrawline_Single(11);\n",
      "\tbreak;\n",
      "\n",
      "case 12:\n",
      "\tDrawline_Single(12);\n",
      "\tbreak;\n",
      "\n",
      "case 13:\n",
      "\tDrawline_Single(13);\n",
      "\tbreak;\n",
      "\n",
      "case 14:\n",
      "\tDrawline_Single(14);\n",
      "\tbreak;\n",
      "\n",
      "case 15:\n",
      "\tDrawline_Single(15);\n",
      "\tbreak;\n",
      "\n",
      "case 16:\n",
      "\tDrawline_Single(16);\n",
      "\tbreak;\n",
      "\n",
      "case 17:\n",
      "\tDrawline_Single(17);\n",
      "\tbreak;\n",
      "\n",
      "case 18:\n",
      "\tDrawline_Single(18);\n",
      "\tbreak;\n",
      "\n",
      "case 19:\n",
      "\tDrawline_Single(19);\n",
      "\tbreak;\n",
      "\n",
      "case 20:\n",
      "\tDrawline_Single(20);\n",
      "\tbreak;\n",
      "\n"
     ]
    }
   ],
   "source": [
    "for i in range(21):\n",
    "    print(\"case %d:\\n\\tDrawline_Single(%d);\\n\\tbreak;\\n\" %(i,i))\n",
    "\n"
   ]
  }
 ],
 "metadata": {
  "kernelspec": {
   "display_name": "Python 3",
   "language": "python",
   "name": "python3"
  },
  "language_info": {
   "codemirror_mode": {
    "name": "ipython",
    "version": 2
   },
   "file_extension": ".py",
   "mimetype": "text/x-python",
   "name": "python",
   "nbconvert_exporter": "python",
   "pygments_lexer": "ipython2",
   "version": "2.7.6"
  }
 },
 "nbformat": 4,
 "nbformat_minor": 0
}