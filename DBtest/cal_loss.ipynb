{
 "cells": [
  {
   "cell_type": "code",
   "execution_count": 5,
   "metadata": {
    "collapsed": true
   },
   "outputs": [],
   "source": [
    "import os\n",
    "\n",
    "src = 'E:/check_point/predict'"
   ]
  },
  {
   "cell_type": "markdown",
   "source": [
    "老方法：直接计算时间间隔和每个阶段的长度"
   ],
   "metadata": {
    "collapsed": false,
    "pycharm": {
     "name": "#%% md\n"
    }
   }
  },
  {
   "cell_type": "code",
   "execution_count": 6,
   "outputs": [
    {
     "name": "stdout",
     "output_type": "stream",
     "text": [
      "old loss: 2.372109187913472\n"
     ]
    }
   ],
   "source": [
    "old_path = os.path.join(src, 'old')\n",
    "old_sum = 0\n",
    "count = 0\n",
    "\n",
    "for filename in os.listdir(old_path):\n",
    "    strs = filename.split('_')\n",
    "    old_sum += float(strs[1])\n",
    "    count += 1\n",
    "\n",
    "old_mean = old_sum / count\n",
    "print('old loss: ' + str(old_mean))"
   ],
   "metadata": {
    "collapsed": false,
    "pycharm": {
     "name": "#%%\n"
    }
   }
  },
  {
   "cell_type": "markdown",
   "source": [
    "新方法：时间间隔和各阶段长度计算过程中加入老的部分，用来平滑预测曲线"
   ],
   "metadata": {
    "collapsed": false,
    "pycharm": {
     "name": "#%% md\n"
    }
   }
  },
  {
   "cell_type": "code",
   "execution_count": 7,
   "outputs": [
    {
     "name": "stdout",
     "output_type": "stream",
     "text": [
      "new loss: 1.5075216389976895\n"
     ]
    }
   ],
   "source": [
    "new31_path = os.path.join(src, 'new31')\n",
    "new31_sum = 0\n",
    "count = 0\n",
    "\n",
    "for filename in os.listdir(new31_path):\n",
    "    strs = filename.split('_')\n",
    "    new31_sum += float(strs[1])\n",
    "    count += 1\n",
    "\n",
    "new_mean = new31_sum / count\n",
    "print('new loss: ' + str(new_mean))"
   ],
   "metadata": {
    "collapsed": false,
    "pycharm": {
     "name": "#%%\n"
    }
   }
  },
  {
   "cell_type": "code",
   "execution_count": 8,
   "outputs": [
    {
     "name": "stdout",
     "output_type": "stream",
     "text": [
      "new loss: 1.570741059823798\n"
     ]
    }
   ],
   "source": [
    "new_path = os.path.join(src, 'new')\n",
    "new_sum = 0\n",
    "count = 0\n",
    "\n",
    "for filename in os.listdir(new_path):\n",
    "    strs = filename.split('_')\n",
    "    new_sum += float(strs[1])\n",
    "    count += 1\n",
    "\n",
    "new_mean = new_sum / count\n",
    "print('new loss: ' + str(new_mean))"
   ],
   "metadata": {
    "collapsed": false,
    "pycharm": {
     "name": "#%%\n"
    }
   }
  }
 ],
 "metadata": {
  "kernelspec": {
   "display_name": "Python 3",
   "language": "python",
   "name": "python3"
  },
  "language_info": {
   "codemirror_mode": {
    "name": "ipython",
    "version": 2
   },
   "file_extension": ".py",
   "mimetype": "text/x-python",
   "name": "python",
   "nbconvert_exporter": "python",
   "pygments_lexer": "ipython2",
   "version": "2.7.6"
  }
 },
 "nbformat": 4,
 "nbformat_minor": 0
}