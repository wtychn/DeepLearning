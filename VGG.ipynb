{
 "cells": [
  {
   "cell_type": "code",
   "execution_count": 2,
   "metadata": {
    "collapsed": true
   },
   "outputs": [
    {
     "name": "stdout",
     "output_type": "stream",
     "text": [
      "----------------------------------------------------------------\n",
      "        Layer (type)               Output Shape         Param #\n",
      "================================================================\n",
      "            Conv2d-1         [-1, 64, 224, 224]           1,728\n",
      "       BatchNorm2d-2         [-1, 64, 224, 224]             128\n",
      "              ReLU-3         [-1, 64, 224, 224]               0\n",
      "            Conv2d-4         [-1, 64, 224, 224]          36,864\n",
      "       BatchNorm2d-5         [-1, 64, 224, 224]             128\n",
      "              ReLU-6         [-1, 64, 224, 224]               0\n",
      "            Conv2d-7        [-1, 128, 112, 112]          73,728\n",
      "       BatchNorm2d-8        [-1, 128, 112, 112]             256\n",
      "              ReLU-9        [-1, 128, 112, 112]               0\n",
      "           Conv2d-10        [-1, 128, 112, 112]         147,456\n",
      "      BatchNorm2d-11        [-1, 128, 112, 112]             256\n",
      "             ReLU-12        [-1, 128, 112, 112]               0\n",
      "           Conv2d-13          [-1, 256, 56, 56]         294,912\n",
      "      BatchNorm2d-14          [-1, 256, 56, 56]             512\n",
      "             ReLU-15          [-1, 256, 56, 56]               0\n",
      "           Conv2d-16          [-1, 256, 56, 56]         589,824\n",
      "      BatchNorm2d-17          [-1, 256, 56, 56]             512\n",
      "             ReLU-18          [-1, 256, 56, 56]               0\n",
      "           Conv2d-19          [-1, 256, 56, 56]         589,824\n",
      "      BatchNorm2d-20          [-1, 256, 56, 56]             512\n",
      "             ReLU-21          [-1, 256, 56, 56]               0\n",
      "           Conv2d-22          [-1, 256, 56, 56]         589,824\n",
      "      BatchNorm2d-23          [-1, 256, 56, 56]             512\n",
      "             ReLU-24          [-1, 256, 56, 56]               0\n",
      "           Conv2d-25          [-1, 512, 28, 28]       1,179,648\n",
      "      BatchNorm2d-26          [-1, 512, 28, 28]           1,024\n",
      "             ReLU-27          [-1, 512, 28, 28]               0\n",
      "           Conv2d-28          [-1, 512, 28, 28]       2,359,296\n",
      "      BatchNorm2d-29          [-1, 512, 28, 28]           1,024\n",
      "             ReLU-30          [-1, 512, 28, 28]               0\n",
      "           Conv2d-31          [-1, 512, 28, 28]       2,359,296\n",
      "      BatchNorm2d-32          [-1, 512, 28, 28]           1,024\n",
      "             ReLU-33          [-1, 512, 28, 28]               0\n",
      "           Conv2d-34          [-1, 512, 28, 28]       2,359,296\n",
      "      BatchNorm2d-35          [-1, 512, 28, 28]           1,024\n",
      "             ReLU-36          [-1, 512, 28, 28]               0\n",
      "           Conv2d-37          [-1, 512, 14, 14]       2,359,296\n",
      "      BatchNorm2d-38          [-1, 512, 14, 14]           1,024\n",
      "             ReLU-39          [-1, 512, 14, 14]               0\n",
      "           Conv2d-40          [-1, 512, 14, 14]       2,359,296\n",
      "      BatchNorm2d-41          [-1, 512, 14, 14]           1,024\n",
      "             ReLU-42          [-1, 512, 14, 14]               0\n",
      "           Conv2d-43          [-1, 512, 14, 14]       2,359,296\n",
      "      BatchNorm2d-44          [-1, 512, 14, 14]           1,024\n",
      "             ReLU-45          [-1, 512, 14, 14]               0\n",
      "           Conv2d-46          [-1, 512, 14, 14]       2,359,296\n",
      "      BatchNorm2d-47          [-1, 512, 14, 14]           1,024\n",
      "             ReLU-48          [-1, 512, 14, 14]               0\n",
      "           Linear-49                 [-1, 4096]     102,764,544\n",
      "      BatchNorm1d-50                 [-1, 4096]           8,192\n",
      "           Linear-51                 [-1, 4096]      16,781,312\n",
      "      BatchNorm1d-52                 [-1, 4096]           8,192\n",
      "           Linear-53                 [-1, 1000]       4,097,000\n",
      "================================================================\n",
      "Total params: 143,689,128\n",
      "Trainable params: 143,689,128\n",
      "Non-trainable params: 0\n",
      "----------------------------------------------------------------\n",
      "Input size (MB): 0.57\n",
      "Forward/backward pass size (MB): 340.07\n",
      "Params size (MB): 548.13\n",
      "Estimated Total Size (MB): 888.77\n",
      "----------------------------------------------------------------\n"
     ]
    },
    {
     "name": "stderr",
     "output_type": "stream",
     "text": [
      "D:\\code\\python\\DeepLearning\\Regression\\VGG.py:51: UserWarning: Implicit dimension choice for softmax has been deprecated. Change the call to include dim=X as an argument.\n",
      "  return F.softmax(self.fc3(out))\n"
     ]
    }
   ],
   "source": [
    "from Regression.VGG import VGG\n",
    "from torchsummary import summary\n",
    "\n",
    "def VGG_11():\n",
    "    return VGG([1, 1, 2, 2, 2], num_classes=1000)\n",
    "\n",
    "def VGG_13():\n",
    "    return VGG([1, 1, 2, 2, 2], num_classes=1000)\n",
    "\n",
    "def VGG_16():\n",
    "    return VGG([2, 2, 3, 3, 3], num_classes=1000)\n",
    "\n",
    "def VGG_19():\n",
    "    return VGG([2, 2, 4, 4, 4], num_classes=1000)\n",
    "\n",
    "def test():\n",
    "    # net = VGG_11()\n",
    "    # net = VGG_13()\n",
    "    # net = VGG_16()\n",
    "    net = VGG_19()\n",
    "    summary(net, (3, 224, 224))\n",
    "    \n",
    "test()"
   ]
  }
 ],
 "metadata": {
  "kernelspec": {
   "name": "pytorch",
   "language": "python",
   "display_name": "pytorch"
  },
  "language_info": {
   "codemirror_mode": {
    "name": "ipython",
    "version": 2
   },
   "file_extension": ".py",
   "mimetype": "text/x-python",
   "name": "python",
   "nbconvert_exporter": "python",
   "pygments_lexer": "ipython2",
   "version": "2.7.6"
  }
 },
 "nbformat": 4,
 "nbformat_minor": 0
}